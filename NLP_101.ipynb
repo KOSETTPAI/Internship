{
  "nbformat": 4,
  "nbformat_minor": 0,
  "metadata": {
    "colab": {
      "provenance": [],
      "authorship_tag": "ABX9TyOU+5RSVJTqBTEGchuwQT7b",
      "include_colab_link": true
    },
    "kernelspec": {
      "name": "python3",
      "display_name": "Python 3"
    },
    "language_info": {
      "name": "python"
    }
  },
  "cells": [
    {
      "cell_type": "markdown",
      "metadata": {
        "id": "view-in-github",
        "colab_type": "text"
      },
      "source": [
        "<a href=\"https://colab.research.google.com/github/KOSETTPAI/Internship/blob/main/NLP_101.ipynb\" target=\"_parent\"><img src=\"https://colab.research.google.com/assets/colab-badge.svg\" alt=\"Open In Colab\"/></a>"
      ]
    },
    {
      "cell_type": "markdown",
      "source": [
        "# Libararies"
      ],
      "metadata": {
        "id": "6h-uwpvw-WRB"
      }
    },
    {
      "cell_type": "code",
      "source": [
        "!pip install polyglot\n",
        "!pip install pyicu"
      ],
      "metadata": {
        "colab": {
          "base_uri": "https://localhost:8080/"
        },
        "id": "ES8vJ01mSNw7",
        "outputId": "6e8b9ad1-a8f3-4054-d314-a320ab2cc837"
      },
      "execution_count": 94,
      "outputs": [
        {
          "output_type": "stream",
          "name": "stdout",
          "text": [
            "Requirement already satisfied: polyglot in /usr/local/lib/python3.10/dist-packages (16.7.4)\n",
            "Collecting pyicu\n",
            "  Downloading PyICU-2.12.tar.gz (260 kB)\n",
            "\u001b[2K     \u001b[90m━━━━━━━━━━━━━━━━━━━━━━━━━━━━━━━━━━━━━━━━\u001b[0m \u001b[32m260.0/260.0 kB\u001b[0m \u001b[31m4.5 MB/s\u001b[0m eta \u001b[36m0:00:00\u001b[0m\n",
            "\u001b[?25h  Installing build dependencies ... \u001b[?25l\u001b[?25hdone\n",
            "  Getting requirements to build wheel ... \u001b[?25l\u001b[?25hdone\n",
            "  Preparing metadata (pyproject.toml) ... \u001b[?25l\u001b[?25hdone\n",
            "Building wheels for collected packages: pyicu\n",
            "  Building wheel for pyicu (pyproject.toml) ... \u001b[?25l\u001b[?25hdone\n",
            "  Created wheel for pyicu: filename=PyICU-2.12-cp310-cp310-linux_x86_64.whl size=1754548 sha256=ec3ed97edfea2ff82ca81718880317000eece430095c43546e581e2604bf9427\n",
            "  Stored in directory: /root/.cache/pip/wheels/74/60/95/66d97ac2fdc8be8e526c4254047405fe77feaf064282d1ad07\n",
            "Successfully built pyicu\n",
            "Installing collected packages: pyicu\n",
            "Successfully installed pyicu-2.12\n"
          ]
        }
      ]
    },
    {
      "cell_type": "code",
      "source": [
        "!pip install pycld2"
      ],
      "metadata": {
        "colab": {
          "base_uri": "https://localhost:8080/"
        },
        "id": "Oy_-ErQBTAsb",
        "outputId": "453b55ac-0340-4450-956f-5943350dd5eb"
      },
      "execution_count": 96,
      "outputs": [
        {
          "output_type": "stream",
          "name": "stdout",
          "text": [
            "Collecting pycld2\n",
            "  Downloading pycld2-0.41.tar.gz (41.4 MB)\n",
            "\u001b[2K     \u001b[90m━━━━━━━━━━━━━━━━━━━━━━━━━━━━━━━━━━━━━━━━\u001b[0m \u001b[32m41.4/41.4 MB\u001b[0m \u001b[31m22.8 MB/s\u001b[0m eta \u001b[36m0:00:00\u001b[0m\n",
            "\u001b[?25h  Preparing metadata (setup.py) ... \u001b[?25l\u001b[?25hdone\n",
            "Building wheels for collected packages: pycld2\n",
            "  Building wheel for pycld2 (setup.py) ... \u001b[?25l\u001b[?25hdone\n",
            "  Created wheel for pycld2: filename=pycld2-0.41-cp310-cp310-linux_x86_64.whl size=9904070 sha256=64c79dd75df1fb14be8a535ea62d31744fda2466bee0801cc583f4ef6a31c970\n",
            "  Stored in directory: /root/.cache/pip/wheels/be/81/31/240c89c845e008a93d98542325270007de595bfd356eb0b06c\n",
            "Successfully built pycld2\n",
            "Installing collected packages: pycld2\n",
            "Successfully installed pycld2-0.41\n"
          ]
        }
      ]
    },
    {
      "cell_type": "code",
      "source": [
        "!pip install Morfessor"
      ],
      "metadata": {
        "colab": {
          "base_uri": "https://localhost:8080/"
        },
        "id": "PcTHvnc6TPYL",
        "outputId": "d7519cad-670f-4656-e20c-c8e568f0b237"
      },
      "execution_count": 98,
      "outputs": [
        {
          "output_type": "stream",
          "name": "stdout",
          "text": [
            "Collecting Morfessor\n",
            "  Downloading Morfessor-2.0.6-py3-none-any.whl (35 kB)\n",
            "Installing collected packages: Morfessor\n",
            "Successfully installed Morfessor-2.0.6\n"
          ]
        }
      ]
    },
    {
      "cell_type": "code",
      "source": [
        "import re\n",
        "\n",
        "from nltk.tokenize import sent_tokenize\n",
        "from nltk.tokenize import word_tokenize\n",
        "\n",
        "import nltk\n",
        "nltk.download('punkt')\n",
        "nltk.download('wordnet')\n",
        "nltk.download('averaged_perceptron_tagger')\n",
        "nltk.download('maxent_ne_chunker')\n",
        "nltk.download('words')\n",
        "\n",
        "from nltk.tokenize import regexp_tokenize\n",
        "from nltk.tokenize import TweetTokenizer\n",
        "\n",
        "import requests\n",
        "\n",
        "import matplotlib.pyplot as plt\n",
        "\n",
        "from collections import Counter\n",
        "\n",
        "from nltk.stem import WordNetLemmatizer\n",
        "\n",
        "from collections import defaultdict\n",
        "import itertools\n",
        "\n",
        "from gensim.models import TfidfModel\n",
        "\n",
        "import spacy\n",
        "\n",
        "from polyglot.text import Text"
      ],
      "metadata": {
        "id": "2hNEPwcp-RU6",
        "colab": {
          "base_uri": "https://localhost:8080/"
        },
        "outputId": "1842f606-801d-4507-dc8b-0b4d42300f4c"
      },
      "execution_count": 99,
      "outputs": [
        {
          "output_type": "stream",
          "name": "stderr",
          "text": [
            "[nltk_data] Downloading package punkt to /root/nltk_data...\n",
            "[nltk_data]   Package punkt is already up-to-date!\n",
            "[nltk_data] Downloading package wordnet to /root/nltk_data...\n",
            "[nltk_data]   Package wordnet is already up-to-date!\n",
            "[nltk_data] Downloading package averaged_perceptron_tagger to\n",
            "[nltk_data]     /root/nltk_data...\n",
            "[nltk_data]   Package averaged_perceptron_tagger is already up-to-\n",
            "[nltk_data]       date!\n",
            "[nltk_data] Downloading package maxent_ne_chunker to\n",
            "[nltk_data]     /root/nltk_data...\n",
            "[nltk_data]   Package maxent_ne_chunker is already up-to-date!\n",
            "[nltk_data] Downloading package words to /root/nltk_data...\n",
            "[nltk_data]   Package words is already up-to-date!\n"
          ]
        }
      ]
    },
    {
      "cell_type": "code",
      "source": [
        "!polyglot download embeddings2.fr\n",
        "!polyglot download ner2.fr"
      ],
      "metadata": {
        "colab": {
          "base_uri": "https://localhost:8080/"
        },
        "id": "_ruilxEjT1H7",
        "outputId": "427d250c-084c-4dfb-d41b-16650846e994"
      },
      "execution_count": 106,
      "outputs": [
        {
          "output_type": "stream",
          "name": "stdout",
          "text": [
            "[polyglot_data] Downloading package embeddings2.fr to\n",
            "[polyglot_data]     /root/polyglot_data...\n",
            "[polyglot_data] Downloading package ner2.fr to /root/polyglot_data...\n"
          ]
        }
      ]
    },
    {
      "cell_type": "code",
      "source": [
        "!polyglot download embeddings2.es\n",
        "\n",
        "!polyglot download ner2.es"
      ],
      "metadata": {
        "colab": {
          "base_uri": "https://localhost:8080/"
        },
        "id": "sNLgmLoXW2Oa",
        "outputId": "030e288b-7c67-47d3-e47b-663bd5b12275"
      },
      "execution_count": 115,
      "outputs": [
        {
          "output_type": "stream",
          "name": "stdout",
          "text": [
            "[polyglot_data] Downloading package embeddings2.es to\n",
            "[polyglot_data]     /root/polyglot_data...\n",
            "[polyglot_data]   Package embeddings2.es is already up-to-date!\n",
            "[polyglot_data] Downloading package ner2.es to /root/polyglot_data...\n"
          ]
        }
      ]
    },
    {
      "cell_type": "markdown",
      "source": [
        "# **Functions and Some Lists**"
      ],
      "metadata": {
        "id": "tXQXWrS8FwxV"
      }
    },
    {
      "cell_type": "code",
      "source": [
        "def get_text(url):\n",
        "  response = requests.get(url)\n",
        "  return response.text"
      ],
      "metadata": {
        "id": "WrI3iNEuF2Ul"
      },
      "execution_count": 40,
      "outputs": []
    },
    {
      "cell_type": "code",
      "source": [
        "english_stops = get_text(\"https://raw.githubusercontent.com/KOSETTPAI/Internship/main/text%20files/english_stopwords.txt\")"
      ],
      "metadata": {
        "id": "JJTt9QEFKnXz"
      },
      "execution_count": 41,
      "outputs": []
    },
    {
      "cell_type": "markdown",
      "source": [
        "## Regular Expression"
      ],
      "metadata": {
        "id": "I6LDBODL48r6"
      }
    },
    {
      "cell_type": "code",
      "execution_count": 42,
      "metadata": {
        "colab": {
          "base_uri": "https://localhost:8080/"
        },
        "id": "CeqMJfci4FBn",
        "outputId": "ad47e425-e8b9-49cd-deaf-ada48210dd46"
      },
      "outputs": [
        {
          "output_type": "execute_result",
          "data": {
            "text/plain": [
              "['Let', 's', 'write', 'RegEx']"
            ]
          },
          "metadata": {},
          "execution_count": 42
        }
      ],
      "source": [
        "my_string = \"Let's write RegEx!\"\n",
        "re.findall(r\"\\w+\", my_string)"
      ]
    },
    {
      "cell_type": "code",
      "source": [
        "my_string = \"Let's write RegEx!  Won't that be fun?  I sure think so.  Can you find 4 sentences?  Or perhaps, all 19 words?\"\n",
        "\n",
        "sentence_endings = r\"[.?!]\"\n",
        "print(re.split(sentence_endings, my_string))\n",
        "\n",
        "capitalized_words = r\"[A-Z]\\w+\"\n",
        "print(re.findall(capitalized_words, my_string))\n",
        "\n",
        "spaces = r\"\\s+\"\n",
        "print(re.split(spaces, my_string))\n",
        "\n",
        "digits = r\"\\d+\"\n",
        "print(re.findall(digits, my_string))"
      ],
      "metadata": {
        "colab": {
          "base_uri": "https://localhost:8080/"
        },
        "id": "L1qegSk05NtJ",
        "outputId": "611f0265-0b01-4077-c9bd-432abd6d0480"
      },
      "execution_count": 43,
      "outputs": [
        {
          "output_type": "stream",
          "name": "stdout",
          "text": [
            "[\"Let's write RegEx\", \"  Won't that be fun\", '  I sure think so', '  Can you find 4 sentences', '  Or perhaps, all 19 words', '']\n",
            "['Let', 'RegEx', 'Won', 'Can', 'Or']\n",
            "[\"Let's\", 'write', 'RegEx!', \"Won't\", 'that', 'be', 'fun?', 'I', 'sure', 'think', 'so.', 'Can', 'you', 'find', '4', 'sentences?', 'Or', 'perhaps,', 'all', '19', 'words?']\n",
            "['4', '19']\n"
          ]
        }
      ]
    },
    {
      "cell_type": "code",
      "source": [
        "scene_one = \"\"\"SCENE 1: [wind] [clop clop clop]\n",
        "               KING ARTHUR: Whoa there!  [clop clop clop]\n",
        "               SOLDIER #1: Halt!  Who goes there?\n",
        "               ARTHUR: It is I, Arthur, son of Uther Pendragon, from the castle of Camelot.  King of the Britons, defeator of the Saxons, sovereign of all England!\n",
        "               SOLDIER #1: Pull the other one!\n",
        "               ARTHUR: I am, ...  and this is my trusty servant Patsy.  We have ridden the length and breadth of the land in search of knights who will join me in my court at Camelot.  I must speak with your lord and master.\n",
        "               SOLDIER #1: What?  Ridden on a horse?\n",
        "               ARTHUR: Yes!\n",
        "               SOLDIER #1: You're using coconuts!\n",
        "               ARTHUR: What?\n",
        "               SOLDIER #1: You've got two empty halves of coconut and you're bangin' 'em together.\n",
        "               ARTHUR: So?  We have ridden since the snows of winter covered this land, through the kingdom of Mercea, through--\n",
        "               SOLDIER #1: Where'd you get the coconuts?\n",
        "               ARTHUR: We found them.\n",
        "               SOLDIER #1: Found them?  In Mercea?  The coconut's tropical!\n",
        "               ARTHUR: What do you mean?\n",
        "               SOLDIER #1: Well, this is a temperate zone.\n",
        "               ARTHUR: The swallow may fly south with the sun or the house martin or the plover may seek warmer climes in winter, yet these are not strangers to our land?\n",
        "               SOLDIER #1: Are you suggesting coconuts migrate?\n",
        "               ARTHUR: Not at all.  They could be carried.\n",
        "               SOLDIER #1: What?  A swallow carrying a coconut?\n",
        "               ARTHUR: It could grip it by the husk!\n",
        "               SOLDIER #1: It's not a question of where he grips it!  It's a simple question of weight ratios!  A five ounce bird could not carry a one pound coconut.\n",
        "               ARTHUR: Well, it doesn't matter.  Will you go and tell your master that Arthur from the Court of Camelot is here.\n",
        "               SOLDIER #1: Listen.  In order to maintain air-speed velocity, a swallow needs to beat its wings forty-three times every second, right?\n",
        "               ARTHUR: Please!\n",
        "               SOLDIER #1: Am I right?\n",
        "               ARTHUR: I'm not interested!\n",
        "               SOLDIER #2: It could be carried by an African swallow!\n",
        "               SOLDIER #1: Oh, yeah, an African swallow maybe, but not a European swallow.  That's my point.\n",
        "               SOLDIER #2: Oh, yeah, I agree with that.\n",
        "               ARTHUR: Will you ask your master if he wants to join my court at Camelot?!\n",
        "               SOLDIER #1: But then of course a-- African swallows are non-migratory.\n",
        "               SOLDIER #2: Oh, yeah...\n",
        "               SOLDIER #1: So they couldn't bring a coconut back anyway...  [clop clop clop]\n",
        "               SOLDIER #2: Wait a minute!  Supposing two swallows carried it together?\n",
        "               SOLDIER #1: No, they'd have to have it on a line.\n",
        "               SOLDIER #2: Well, simple!  They'd just use a strand of creeper!\n",
        "               SOLDIER #1: What, held under the dorsal guiding feathers?\n",
        "               SOLDIER #2: Well, why not?\"\"\""
      ],
      "metadata": {
        "id": "9bBcfAs06KMh"
      },
      "execution_count": 44,
      "outputs": []
    },
    {
      "cell_type": "code",
      "source": [
        "sentences = sent_tokenize(scene_one)\n",
        "\n",
        "tokenized_sent = word_tokenize(sentences[3])\n",
        "\n",
        "unique_tokens = set(word_tokenize(scene_one))\n",
        "\n",
        "print(unique_tokens)"
      ],
      "metadata": {
        "colab": {
          "base_uri": "https://localhost:8080/"
        },
        "id": "xGYmASZB9lQI",
        "outputId": "2720313d-57cb-4c1e-fafd-47801c0299db"
      },
      "execution_count": 45,
      "outputs": [
        {
          "output_type": "stream",
          "name": "stdout",
          "text": [
            "{'Pendragon', 'defeator', 'Found', 'In', '1', ']', 'you', 'that', 'zone', 'Saxons', 'back', 'this', 'under', 'length', 'may', 'at', 'England', 'from', 'through', 'with', 'ratios', 'SOLDIER', 'trusty', 'We', 'could', 'horse', 'do', 'warmer', 'not', 'it', 'order', 'That', 'why', '--', 'They', 'SCENE', 'bangin', 'ARTHUR', \"'\", '#', 'is', 'weight', 'times', 'bird', 'ounce', 'It', \"'s\", 'tropical', '2', 'be', '[', 'Who', \"'ve\", 'grips', \"'m\", 'needs', 'court', 'south', 'who', 'air-speed', 'Supposing', 'minute', 'right', 'strand', 'have', 'your', 'No', \"n't\", 'house', 'all', 'suggesting', 'second', 'wind', 'use', 'by', 'sovereign', 'speak', 'Will', 'Court', 'but', 'swallow', 'plover', 'strangers', 'maintain', 'Patsy', 'Uther', 'King', 'feathers', 'and', 'A', 'Where', 'carry', 'climes', 'Am', 'knights', 'go', 'guiding', 'them', 'swallows', 'search', 'point', 'does', 'must', 'castle', 'together', 'What', 'just', 'breadth', 'halves', 'five', 'winter', 'pound', '?', 'European', 'goes', \"'d\", \"'em\", 'husk', 'master', 'beat', 'course', 'then', 'Camelot', 'on', 'a', 'grip', 'wants', 'every', 'line', 'Britons', 'found', 'in', 'bring', 'Listen', 'other', 'migrate', 'Mercea', 'wings', 'temperate', 'carrying', 'or', 'forty-three', 'martin', 'of', 'are', 'Not', 'interested', 'Halt', 'if', 'anyway', 'yet', \"'re\", 'sun', 'kingdom', 'seek', 'matter', 'The', 'velocity', 'got', 'dorsal', 'servant', 'two', 'will', 'an', 'creeper', 'agree', 'they', 'African', 'Wait', 'there', 'You', 'clop', 'coconuts', 'Arthur', 'empty', 'its', 'fly', 'where', 'am', 'Pull', 'Ridden', 'using', 'these', 'land', 'covered', 'held', 'one', 'to', 'simple', 'join', 'here', 'Oh', 'ask', 'ridden', ':', 'Are', 'son', '...', '.', 'our', 'carried', 'question', 'KING', 'I', 'since', 'snows', 'the', 'mean', 'Well', 'me', 'maybe', 'Whoa', 'But', 'lord', 'Please', 'he', 'my', '!', 'coconut', 'So', ',', 'get', 'yeah', 'non-migratory', 'Yes', 'tell'}\n"
          ]
        }
      ]
    },
    {
      "cell_type": "code",
      "source": [
        "print(tokenized_sent)"
      ],
      "metadata": {
        "colab": {
          "base_uri": "https://localhost:8080/"
        },
        "id": "dh3IXsEhAYcP",
        "outputId": "351a370f-9680-4734-c297-d356309ac25d"
      },
      "execution_count": 46,
      "outputs": [
        {
          "output_type": "stream",
          "name": "stdout",
          "text": [
            "['ARTHUR', ':', 'It', 'is', 'I', ',', 'Arthur', ',', 'son', 'of', 'Uther', 'Pendragon', ',', 'from', 'the', 'castle', 'of', 'Camelot', '.']\n"
          ]
        }
      ]
    },
    {
      "cell_type": "code",
      "source": [
        "match = re.search(\"coconuts\", scene_one)\n",
        "\n",
        "print(match.start(), match.end())"
      ],
      "metadata": {
        "colab": {
          "base_uri": "https://localhost:8080/"
        },
        "id": "rcKUrcWuVLVU",
        "outputId": "1cdfe3c9-28d9-4a78-b0ef-1d0d3915e4bf"
      },
      "execution_count": 47,
      "outputs": [
        {
          "output_type": "stream",
          "name": "stdout",
          "text": [
            "698 706\n"
          ]
        }
      ]
    },
    {
      "cell_type": "code",
      "source": [
        "pattern2 = r\"[\\w+]+:\"\n",
        "print(re.match(pattern2, sentences[3]))"
      ],
      "metadata": {
        "colab": {
          "base_uri": "https://localhost:8080/"
        },
        "id": "4yhVQkM-Wnzz",
        "outputId": "d2d82fce-ac2e-44ce-8d5c-53ed2279cd69"
      },
      "execution_count": 48,
      "outputs": [
        {
          "output_type": "stream",
          "name": "stdout",
          "text": [
            "<re.Match object; span=(0, 7), match='ARTHUR:'>\n"
          ]
        }
      ]
    },
    {
      "cell_type": "code",
      "source": [
        "tweets = ['This is the best #nlp exercise ive found online! #python',\n",
        "          '#NLP is super fun! <3 #learning',\n",
        "          'Thanks @datacamp :) #nlp #python']"
      ],
      "metadata": {
        "id": "SxORsE4_t2Ee"
      },
      "execution_count": 49,
      "outputs": []
    },
    {
      "cell_type": "code",
      "source": [
        "pattern1 = r\"#\\w+\"\n",
        "\n",
        "hashtags = regexp_tokenize(tweets[0], pattern1)\n",
        "print(hashtags)"
      ],
      "metadata": {
        "colab": {
          "base_uri": "https://localhost:8080/"
        },
        "id": "aXkTHi4Gt10H",
        "outputId": "c7772fee-042c-4fac-c450-bed28cfd0b31"
      },
      "execution_count": 50,
      "outputs": [
        {
          "output_type": "stream",
          "name": "stdout",
          "text": [
            "['#nlp', '#python']\n"
          ]
        }
      ]
    },
    {
      "cell_type": "code",
      "source": [
        "pattern2 = r\"([@#]\\w+)\"\n",
        "\n",
        "mentions_hashtags = regexp_tokenize(tweets[-1], pattern2)\n",
        "print(mentions_hashtags)"
      ],
      "metadata": {
        "colab": {
          "base_uri": "https://localhost:8080/"
        },
        "id": "vjXiGtFGynm-",
        "outputId": "4a57b4dd-5041-4b3a-9920-9b4591271a10"
      },
      "execution_count": 51,
      "outputs": [
        {
          "output_type": "stream",
          "name": "stdout",
          "text": [
            "['@datacamp', '#nlp', '#python']\n"
          ]
        }
      ]
    },
    {
      "cell_type": "code",
      "source": [
        "tknzr = TweetTokenizer()\n",
        "all_tokens = [tknzr.tokenize(t) for t in tweets]\n",
        "print(all_tokens)"
      ],
      "metadata": {
        "colab": {
          "base_uri": "https://localhost:8080/"
        },
        "id": "G9BleQiUynkN",
        "outputId": "07f1d929-453b-41b3-d276-f34512b77300"
      },
      "execution_count": 52,
      "outputs": [
        {
          "output_type": "stream",
          "name": "stdout",
          "text": [
            "[['This', 'is', 'the', 'best', '#nlp', 'exercise', 'ive', 'found', 'online', '!', '#python'], ['#NLP', 'is', 'super', 'fun', '!', '<3', '#learning'], ['Thanks', '@datacamp', ':)', '#nlp', '#python']]\n"
          ]
        }
      ]
    },
    {
      "cell_type": "code",
      "source": [
        "german_text = 'Wann gehen wir Pizza essen? 🍕 Und fährst du mit Über? 🚕'"
      ],
      "metadata": {
        "id": "S0qKD6Ldynhl"
      },
      "execution_count": 53,
      "outputs": []
    },
    {
      "cell_type": "code",
      "source": [
        "all_words = word_tokenize(german_text)\n",
        "print(all_words)"
      ],
      "metadata": {
        "colab": {
          "base_uri": "https://localhost:8080/"
        },
        "id": "_hoNKR2Oyndl",
        "outputId": "934615b9-6d1e-46a8-c0b1-c483a22a9669"
      },
      "execution_count": 54,
      "outputs": [
        {
          "output_type": "stream",
          "name": "stdout",
          "text": [
            "['Wann', 'gehen', 'wir', 'Pizza', 'essen', '?', '🍕', 'Und', 'fährst', 'du', 'mit', 'Über', '?', '🚕']\n"
          ]
        }
      ]
    },
    {
      "cell_type": "code",
      "source": [
        "capital_words = r\"[A-ZÜ]\\w+\"\n",
        "print(regexp_tokenize(german_text, capital_words))"
      ],
      "metadata": {
        "colab": {
          "base_uri": "https://localhost:8080/"
        },
        "id": "KO9C8JR5ynYl",
        "outputId": "318e23ca-e1bd-4f22-daf7-aa5b880e1b4c"
      },
      "execution_count": 55,
      "outputs": [
        {
          "output_type": "stream",
          "name": "stdout",
          "text": [
            "['Wann', 'Pizza', 'Und', 'Über']\n"
          ]
        }
      ]
    },
    {
      "cell_type": "code",
      "source": [
        "emoji = \"['\\U0001F300-\\U0001F5FF'|'\\U0001F600-\\U0001F64F'|'\\U0001F680-\\U0001F6FF'|'\\u2600-\\u26FF\\u2700-\\u27BF']\"\n",
        "print(regexp_tokenize(german_text, emoji))"
      ],
      "metadata": {
        "colab": {
          "base_uri": "https://localhost:8080/"
        },
        "id": "I6506TnXynVl",
        "outputId": "e3fe3cad-4aa0-4594-aca1-d892e95ed43d"
      },
      "execution_count": 56,
      "outputs": [
        {
          "output_type": "stream",
          "name": "stdout",
          "text": [
            "['🍕', '🚕']\n"
          ]
        }
      ]
    },
    {
      "cell_type": "code",
      "source": [
        "holy_grail = get_text(\"https://raw.githubusercontent.com/KOSETTPAI/Internship/main/text%20files/holy_grail.txt\")\n",
        "holy_grail"
      ],
      "metadata": {
        "colab": {
          "base_uri": "https://localhost:8080/",
          "height": 105
        },
        "id": "WXN1Fa2N2eb2",
        "outputId": "279133b8-df7f-4149-b7e9-e70bc9ff03bc"
      },
      "execution_count": 57,
      "outputs": [
        {
          "output_type": "execute_result",
          "data": {
            "text/plain": [
              "\"SCENE 1: [wind] [clop clop clop] \\nKING ARTHUR: Whoa there!  [clop clop clop] \\nSOLDIER #1: Halt!  Who goes there?\\nARTHUR: It is I, Arthur, son of Uther Pendragon, from the castle of Camelot.  King of the Britons, defeator of the Saxons, sovereign of all England!\\nSOLDIER #1: Pull the other one!\\nARTHUR: I am, ...  and this is my trusty servant Patsy.  We have ridden the length and breadth of the land in search of knights who will join me in my court at Camelot.  I must speak with your lord and master.\\nSOLDIER #1: What?  Ridden on a horse?\\nARTHUR: Yes!\\nSOLDIER #1: You're using coconuts!\\nARTHUR: What?\\nSOLDIER #1: You've got two empty halves of coconut and you're bangin' 'em together.\\nARTHUR: So?  We have ridden since the snows of winter covered this land, through the kingdom of Mercea, through--\\nSOLDIER #1: Where'd you get the coconuts?\\nARTHUR: We found them.\\nSOLDIER #1: Found them?  In Mercea?  The coconut's tropical!\\nARTHUR: What do you mean?\\nSOLDIER #1: Well, this is a temperate zone.\\nARTHUR: The swallow may fly south with the sun or the house martin or the plover may seek warmer climes in winter, yet these are not strangers to our land?\\nSOLDIER #1: Are you suggesting coconuts migrate?\\nARTHUR: Not at all.  They could be carried.\\nSOLDIER #1: What?  A swallow carrying a coconut?\\nARTHUR: It could grip it by the husk!\\nSOLDIER #1: It's not a question of where he grips it!  It's a simple question of weight ratios!  A five ounce bird could not carry a one pound coconut.\\nARTHUR: Well, it doesn't matter.  Will you go and tell your master that Arthur from the Court of Camelot is here.\\nSOLDIER #1: Listen.  In order to maintain air-speed velocity, a swallow needs to beat its wings forty-three times every second, right?\\nARTHUR: Please!\\nSOLDIER #1: Am I right?\\nARTHUR: I'm not interested!\\nSOLDIER #2: It could be carried by an African swallow!\\nSOLDIER #1: Oh, yeah, an African swallow maybe, but not a European swallow.  That's my point.\\nSOLDIER #2: Oh, yeah, I agree with that.\\nARTHUR: Will you ask your master if he wants to join my court at Camelot?!\\nSOLDIER #1: But then of course a-- African swallows are non-migratory.\\nSOLDIER #2: Oh, yeah...\\nSOLDIER #1: So they couldn't bring a coconut back anyway...  [clop clop clop] \\nSOLDIER #2: Wait a minute!  Supposing two swallows carried it together?\\nSOLDIER #1: No, they'd have to have it on a line.\\nSOLDIER #2: Well, simple!  They'd just use a strand of creeper!\\nSOLDIER #1: What, held under the dorsal guiding feathers?\\nSOLDIER #2: Well, why not?\\nSCENE 2: [thud] [clang] \\nCART-MASTER: Bring out your dead!  [clang] Bring out your dead!  [clang] Bring out your dead!  [clang] Bring out your dead!  [clang] Bring out your dead!  [cough cough...] [clang] [... cough cough] Bring out your dead!  [clang] Bring out your dead!  [clang] Bring out your dead!  Ninepence.  [clang] Bring out your dead!  [clang] Bring out your dead!  [clang] Bring out...  [rewr!] ... your dead!  [rewr!] [clang] Bring out your dead!\\nCUSTOMER: Here's one.\\nCART-MASTER: Ninepence.\\nDEAD PERSON: I'm not dead!\\nCART-MASTER: What?\\nCUSTOMER: Nothing.  Here's your ninepence.\\nDEAD PERSON: I'm not dead!\\nCART-MASTER: 'Ere.  He says he's not dead!\\nCUSTOMER: Yes he is.\\nDEAD PERSON: I'm not!\\nCART-MASTER: He isn't?\\nCUSTOMER: Well, he will be soon.  He's very ill.\\nDEAD PERSON: I'm getting better!  \\nCUSTOMER: No you're not.  You'll be stone dead in a moment.\\nCART-MASTER: Oh, I can't take him like that.  It's against regulations.\\nDEAD PERSON: I don't want to go on the cart!\\nCUSTOMER: Oh, don't be such a baby.\\nCART-MASTER: I can't take him.\\nDEAD PERSON: I feel fine!\\nCUSTOMER: Well, do us a favor.\\nCART-MASTER: I can't.\\nCUSTOMER: Well, can you hang around a couple of minutes?  He won't be long.\\nCART-MASTER: No, I've got to go to the Robinson's.  They've lost nine today.\\nCUSTOMER: Well, when's your next round?\\nCART-MASTER: Thursday.\\nDEAD PERSON: I think I'll go for a walk.\\nCUSTOMER: You're not fooling anyone you know.  Look, isn't there something you can do?\\nDEAD PERSON: [singing] I feel happy...  I feel happy.  [whop] \\nCUSTOMER: Ah, thanks very much.\\nCART-MASTER: Not at all.  See you on Thursday.\\nCUSTOMER: Right.  All right.  [howl] [clop clop clop] Who's that then?\\nCART-MASTER: I dunno.  Must be a king.\\nCUSTOMER: Why?\\nCART-MASTER: He hasn't got shit all over him.\\nSCENE 3: [thud] [King Arthur music] [thud thud thud] [King Arthur music stops] \\nARTHUR: Old woman!\\nDENNIS: Man!\\nARTHUR: Man.  Sorry.  What knight live in that castle over there?\\nDENNIS: I'm thirty-seven.\\nARTHUR: I-- what?\\nDENNIS: I'm thirty-seven.  I'm not old.\\nARTHUR: Well, I can't just call you 'Man'.\\nDENNIS: Well, you could say 'Dennis'.\\nARTHUR: Well, I didn't know you were called 'Dennis'.\\nDENNIS: Well, you didn't bother to find out, did you?\\nARTHUR: I did say 'sorry' about the 'old woman', but from the behind you looked--\\nDENNIS: What I object to is that you automatically treat me like an inferior!\\nARTHUR: Well, I am king!\\nDENNIS: Oh king, eh, very nice.  And how d'you get that, eh?  By exploiting the workers!  By 'anging on to outdated imperialist dogma which perpetuates the economic and social differences in our society.  If there's ever going to be any progress with the--\\nWOMAN: Dennis, there's some lovely filth down here.  Oh!  How d'you do?\\nARTHUR: How do you do, good lady.  I am Arthur, King of the Britons.  Who's castle is that?\\nWOMAN: King of the who?\\nARTHUR: The Britons.\\nWOMAN: Who are the Britons?\\nARTHUR: Well, we all are.  We are all Britons, and I am your king.\\nWOMAN: I didn't know we had a king.  I thought we were an autonomous collective.\\nDENNIS: You're fooling yourself.  We're living in a dictatorship.  A self-perpetuating autocracy in which the working classes--\\nWOMAN: Oh, there you go, bringing class into it again.\\nDENNIS: That's what it's all about.  If only people would hear of--\\nARTHUR: Please, please good people.  I am in haste.  Who lives in that castle?\\nWOMAN: No one live there.\\nARTHUR: Then who is your lord?\\nWOMAN: We don't have a lord.\\nARTHUR: What?\\nDENNIS: I told you.  We're an anarcho-syndicalist commune.  We take it in turns to act as a sort of executive officer for the week.\\nARTHUR: Yes.\\nDENNIS: But all the decision of that officer have to be ratified at a special bi-weekly meeting--\\nARTHUR: Yes, I see.\\nDENNIS: By a simple majority in the case of purely internal affairs,--\\nARTHUR: Be quiet!\\nDENNIS: But by a two-thirds majority in the case of more major--\\nARTHUR: Be quiet!  I order you to be quiet!\\nWOMAN: Order, eh?  Who does he think he is?  Heh.\\nARTHUR: I am your king!\\nWOMAN: Well, I didn't vote for you.\\nARTHUR: You don't vote for kings.\\nWOMAN: Well, how did you become king then?\\nARTHUR: The Lady of the Lake, ... [angels sing] ... her arm clad in the purest shimmering samite, held aloft Excalibur from the bosom of the water signifying by Divine Providence that I, Arthur, was to carry Excalibur. [singing stops] That is why I am your king!\\nDENNIS: Listen, strange women lying in ponds distributing swords is no basis for a system of government.  Supreme executive power derives from a mandate from the masses, not from some farcical aquatic ceremony.\\nARTHUR: Be quiet!\\nDENNIS: Well, but you can't expect to wield supreme executive power just 'cause some watery tart threw a sword at you!\\nARTHUR: Shut up!\\nDENNIS: I mean, if I went 'round saying I was an emperor just because some moistened bint had lobbed a scimitar at me, they'd put me away!\\nARTHUR: Shut up, will you.  Shut up!\\nDENNIS: Ah, now we see the violence inherent in the system.\\nARTHUR: Shut up!\\nDENNIS: Oh!  Come and see the violence inherent in the system!  Help, help!  I'm being repressed!\\nARTHUR: Bloody peasant!\\nDENNIS: Oh, what a give-away.  Did you hear that?  Did you hear that, eh?  That's what I'm on about.  Did you see him repressing me?  You saw it, didn't you\\nSCENE 4: [King Arthur music] [music stops] \\nBLACK KNIGHT: Aaagh!  [King Arthur music] [music stops] \\nBLACK KNIGHT: Aaagh!\\nGREEN KNIGHT: Ooh! [King Arthur music] [music stops] [stab] \\nBLACK KNIGHT: Aagh!\\nGREEN KNIGHT: Oh! [King Arthur music] Ooh! [music stops] \\nBLACK KNIGHT: Aaagh! [clang] \\nBLACK KNIGHT and GREEN KNIGHT: Agh!, oh!, etc.\\nGREEN KNIGHT: Aaaaaah!  Aaaaaaaaah! [woosh] [BLACK KNIGHT kills GREEN KNIGHT] [thud] [scrape] \\nBLACK KNIGHT: Umm! [clop clop clop] \\nARTHUR: You fight with the strength of many men, Sir Knight. [pause] I am Arthur, King of the Britons. [pause] I seek the finest and the bravest knights in the land to join me in my court at Camelot. [pause] You have proved yourself worthy.  Will you join me? [pause] You make me sad.  So be it.  Come, Patsy.\\nBLACK KNIGHT: None shall pass.\\nARTHUR: What?\\nBLACK KNIGHT: None shall pass.\\nARTHUR: I have no quarrel with you, good Sir Knight, but I must cross this bridge.\\nBLACK KNIGHT: Then you shall die.\\nARTHUR: I command you, as King of the Britons, to stand aside!\\nBLACK KNIGHT: I move for no man.\\nARTHUR: So be it!\\nARTHUR and BLACK KNIGHT: Aaah!, hiyaah!, etc. [ARTHUR chops the BLACK KNIGHT's left arm off] \\nARTHUR: Now stand aside, worthy adversary.\\nBLACK KNIGHT: 'Tis but a scratch.\\nARTHUR: A scratch?  Your arm's off!\\nBLACK KNIGHT: No, it isn't.\\nARTHUR: Well, what's that then?\\nBLACK KNIGHT: I've had worse.\\nARTHUR: You liar!\\nBLACK KNIGHT: Come on, you pansy! [clang] Huyah! [clang] Hiyaah! [clang] Aaaaaaaah! [ARTHUR chops the BLACK KNIGHT's right arm off] \\nARTHUR: Victory is mine! [kneeling] We thank Thee Lord, that in Thy mer--\\nBLACK KNIGHT: Hah! [clunk] Come on then.\\nARTHUR: What?\\nBLACK KNIGHT: Have at you! [kick] \\nARTHUR: Eh.  You are indeed brave, Sir Knight, but the fight is mine.\\nBLACK KNIGHT: Oh, had enough, eh?\\nARTHUR: Look, you stupid bastard.  You've got no arms left.\\nBLACK KNIGHT: Yes I have.\\nARTHUR: Look!\\nBLACK KNIGHT: Just a flesh wound. [kick] \\nARTHUR: Look, stop that.\\nBLACK KNIGHT: Chicken! [kick] Chickennn!\\nARTHUR: Look, I'll have your leg. [kick] Right! [whop] [ARTHUR chops the BLACK KNIGHT's right leg off] \\nBLACK KNIGHT: Right.  I'll do you for that!\\nARTHUR: You'll what?\\nBLACK KNIGHT: Come here!\\nARTHUR: What are you going to do, bleed on me?\\nBLACK KNIGHT: I'm invincible!\\nARTHUR: You're a looney.\\nBLACK KNIGHT: The Black Knight always triumphs!  Have at you!  Come on then. [whop] [ARTHUR chops the BLACK KNIGHT's last leg off] \\nBLACK KNIGHT: Ooh.  All right, we'll call it a draw.\\nARTHUR: Come, Patsy.\\nBLACK KNIGHT: Oh.  Oh, I see.  Running away, eh?  You yellow bastards!  Come back here and take what's coming to you.  I'll bite your legs off\\nSCENE 5:\\nMONKS: [chanting] Pie Iesu domine, dona eis requiem. [bonk] Pie Iesu domine, ... [bonk] ... dona eis requiem. [bonk] Pie Iesu domine, ... [bonk] ... dona eis requiem.\\nCROWD: A witch!  A witch! [bonk] A witch!  A witch!\\nMONKS: [chanting] Pie Iesu domine...\\nCROWD: A witch!  A witch!  A witch!  A witch!  We've found a witch!  A witch!  A witch!  A witch!  A witch!  We've got a witch!  A witch!  A witch!  Burn her!  Burn her!  Burn her!  We've found a witch!  We've found a witch!  A witch!  A witch!  A witch!\\nVILLAGER #1: We have found a witch.  May we burn her?\\nCROWD: Burn her!  Burn!  Burn her!  Burn her!\\nBEDEVERE: How do you know she is a witch?\\nVILLAGER #2: She looks like one.\\nCROWD: Right!  Yeah!  Yeah!\\nBEDEVERE: Bring her forward.\\nWITCH: I'm not a witch.  I'm not a witch.\\nBEDEVERE: Uh, but you are dressed as one.\\nWITCH: They dressed me up like this.\\nCROWD: Augh, we didn't!  We didn't...\\nWITCH: And this isn't my nose.  It's a false one.\\nBEDEVERE: Well?\\nVILLAGER #1: Well, we did do the nose.\\nBEDEVERE: The nose?\\nVILLAGER #1: And the hat, but she is a witch!\\nVILLAGER #2: Yeah!\\nCROWD: We burn her!  Right!  Yeaaah!  Yeaah!\\nBEDEVERE: Did you dress her up like this?\\nVILLAGER #1: No!\\nVILLAGER #2 and 3: No.  No.\\nVILLAGER #2: No.\\nVILLAGER #1: No.\\nVILLAGERS #2 and #3: No.\\nVILLAGER #1: Yes.\\nVILLAGER #2: Yes.\\nVILLAGER #1: Yes.  Yeah, a bit.\\nVILLAGER #3: A bit.\\nVILLAGERS #1 and #2: A bit.\\nVILLAGER #3: A bit.\\nVILLAGER #1: She has got a wart.\\nRANDOM: [cough] \\nBEDEVERE: What makes you think she is a witch?\\nVILLAGER #3: Well, she turned me into a newt.\\nBEDEVERE: A newt?\\nVILLAGER #3: I got better.\\nVILLAGER #2: Burn her anyway!\\nVILLAGER #1: Burn!\\nCROWD: Burn her!  Burn!  Burn her! ...\\nBEDEVERE: Quiet!  Quiet!  Quiet!  Quiet!  There are ways of telling whether she is a witch.\\nVILLAGER #1: Are there?\\nVILLAGER #2: Ah?\\nVILLAGER #1: What are they?\\nCROWD: Tell us!  Tell us! ...\\nBEDEVERE: Tell me, what do you do with witches?\\nVILLAGER #2: Burn!\\nVILLAGER #1: Burn!\\nCROWD: Burn!  Burn them up!  Burn! ...\\nBEDEVERE: And what do you burn apart from witches?\\nVILLAGER #1: More witches!\\nVILLAGER #3: Shh!\\nVILLAGER #2: Wood!\\nBEDEVERE: So, why do witches burn? [pause] \\nVILLAGER #3: B--...  'cause they're made of...  wood?\\nBEDEVERE: Good!  Heh heh.\\nCROWD: Oh yeah.  Oh.\\nBEDEVERE: So, how do we tell whether she is made of wood?\\nVILLAGER #1: Build a bridge out of her.\\nBEDEVERE: Ah, but can you not also make bridges out of stone?\\nVILLAGER #1: Oh, yeah.\\nRANDOM: Oh, yeah.  True.  Uhh...\\nBEDEVERE: Does wood sink in water?\\nVILLAGER #1: No.  No.\\nVILLAGER #2: No, it floats!  It floats!\\nVILLAGER #1: Throw her into the pond!\\nCROWD: The pond!  Throw her into the pond!\\nBEDEVERE: What also floats in water?\\nVILLAGER #1: Bread!\\nVILLAGER #2: Apples!\\nVILLAGER #3: Uh, very small rocks!\\nVILLAGER #1: Cider!\\nVILLAGER #2: Uh, gra-- gravy!\\nVILLAGER #1: Cherries!\\nVILLAGER #2: Mud!\\nVILLAGER #3: Churches!  Churches!\\nVILLAGER #2: Lead!  Lead!\\nARTHUR: A duck!\\nCROWD: Oooh.\\nBEDEVERE: Exactly.  So, logically...\\nVILLAGER #1: If...  she...  weighs...  the same as a duck, ...  she's made of wood.\\nBEDEVERE: And therefore?\\nVILLAGER #2: A witch!\\nVILLAGER #1: A witch!\\nCROWD: A witch!  A witch! ...\\nVILLAGER #4: Here is a duck.  Use this duck. [quack quack quack] \\nBEDEVERE: We shall use my largest scales.\\nCROWD: Ohh!  Ohh!  Burn the witch!  Burn the witch!  Burn her!  Burn her!  Burn her!  Burn her!  Burn her!  Burn her!  Burn her!  Ahh!  Ahh...\\nBEDEVERE: Right.  Remove the supports! [whop] [clunk] [creak] \\nCROWD: A witch!  A witch!  A witch!\\nWITCH: It's a fair cop.\\nVILLAGER #3: Burn her!\\nCROWD: Burn her!  Burn her!  Burn her!  Burn!  Burn! ...\\nBEDEVERE: Who are you who are so wise in the ways of science?\\nARTHUR: I am Arthur, King of the Britons.\\nBEDEVERE: My liege!\\nARTHUR: Good Sir Knight, will you come with me to Camelot, and join us at the Round Table?\\nBEDEVERE: My liege!  I would be honored.\\nARTHUR: What is your name?\\nBEDEVERE: Bedevere, my liege.\\nARTHUR: Then I dub you Sir Bedevere, Knight of the Round Table\\nNARRATOR: The wise Sir Bedevere was the first to join King Arthur's knights, but other illustrious names were soon to follow: Sir Lancelot the Brave; Sir Gallahad the Pure; and Sir Robin the-not-quite-so-brave-as-Sir-Lancelot, who had nearly fought the Dragon of Angnor, who had nearly stood up to the vicious Chicken of Bristol, and who had personally wet himself at the Battle of Badon Hill; and the aptly named Sir Not-appearing-in-this-film.  Together they formed a band whose names and deeds were to be retold throughout the centuries: the Knights of the Round Table\\nSCENE 6: [clop clop clop] \\nSIR BEDEVERE: And that, my liege, is how we know the earth to be banana-shaped.\\nARTHUR: This new learning amazes me, Sir Bedevere.  Explain again how sheep's bladders may be employed to prevent earthquakes.\\nBEDEVERE: Oh, certainly, sir.\\nSIR LAUNCELOT: Look, my liege! [trumpets] \\nARTHUR: Camelot!\\nSIR GALAHAD: Camelot!\\nLAUNCELOT: Camelot!\\nPATSY: It's only a model.\\nARTHUR: Shh!  Knights, I bid you welcome to your new home.  Let us ride... to...  Camelot! [in medieval hall] \\nKNIGHTS: [singing] We're knights of the round table.  We dance when e'er we're able.  We do routines and chorus scenes With footwork impeccable.  We dine well here in Camelot.  We eat ham and jam and spam a lot [dancing] We're knights of the Round Table. Our shows are formidable, But many times we're given rhymes That are quite unsingable. We're opera mad in Camelot. We sing from the diaphragm a lot [in dungeon] \\nPRISONER: [clap clap clap clap] [in medieval hall] \\nKNIGHTS: [tap-dancing] In war we're tough and able, Quite indefatigable.  Between our quests we sequin vests and impersonate Clark Gable.  It's a busy life in Camelot.\\nMAN: I have to push the pram a lot [outdoors] \\nARTHUR: Well, on second thought, let's not go to Camelot.  It is a silly place.\\nKNIGHTS: Right.  Right\\nSCENE 7: [clop clop clop] [boom boom] [angels sing] \\nGOD: Arthur!  Arthur, King of the Britons!  Oh, don't grovel! [singing stops] One thing I can't stand, it's people groveling.\\nARTHUR: Sorry. [boom] \\nGOD: And don't apologise.  Every time I try to talk to someone it's 'sorry this' and 'forgive me that' and 'I'm not worthy'. [boom] What are you doing now?!\\nARTHUR: I'm averting my eyes, O Lord.\\nGOD: Well, don't.  It's like those miserable Psalms-- they're so depressing. Now knock it off!\\nARTHUR: Yes, Lord.\\nGOD: Right!  Arthur, King of the Britons, your Knights of the Round Table shall have a task to make them an example in these dark times.\\nARTHUR: Good idea, O Lord!\\nGOD: 'Course it's a good idea!  Behold! [angels sing] Arthur, this is the Holy Grail.  Look well, Arthur, for it is your sacred task to seek this grail.  That is your purpose, Arthur...  the quest for the Holy Grail. [boom] [singing stops] \\nLAUNCELOT: A blessing!  A blessing from the Lord!\\nGALAHAD: God be praised\\nSCENE 8: [King Arthur music] [clop clop clop] \\nARTHUR: Halt! [horn] Hallo! [pause] Hallo!\\nFRENCH GUARD: Allo!  Who is eet?\\nARTHUR: It is King Arthur, and these are my Knights of the Round Table.  Who's castle is this?\\nFRENCH GUARD: This is the castle of my master Guy de Loimbard.\\nARTHUR: Go and tell your master that we have been charged by God with a sacred quest.  If he will give us food and shelter for the night he can join us in our quest for the Holy Grail.\\nFRENCH GUARD: Well, I'll ask him, but I don't think he'll be very keen.  Uh, he's already got one, you see?\\nARTHUR: What?\\nGALAHAD: He says they've already got one!\\nARTHUR: Are you sure he's got one?\\nFRENCH GUARD: Oh, yes, it's very nice-a.  (I told him we already got one.)\\nARTHUR: Well, u-- um, can we come up and have a look?\\nFRENCH GUARD: Of course not!  You are English types-a!\\nARTHUR: Well, what are you then?\\nFRENCH GUARD: I'm French!  Why do think I have this outrageous accent, you silly king-a?!\\nGALAHAD: What are you doing in England?\\nFRENCH GUARD: Mind your own business!\\nARTHUR: If you will not show us the Grail, we shall take your castle by force!\\nFRENCH GUARD: You don't frighten us, English pig-dogs!  Go and boil your bottom, sons of a silly person.  I blow my nose at you, so-called Arthur King, you and all your silly English k-nnnnniggets.  Thpppppt!  Thppt! Thppt!\\nGALAHAD: What a strange person.\\nARTHUR: Now look here, my good man--\\nFRENCH GUARD: I don't wanna talk to you no more, you empty headed animal food trough wiper!  I fart in your general direction!  You mother was a hamster and your father smelt of elderberries!\\nGALAHAD: Is there someone else up there we could talk to?\\nFRENCH GUARD: No, now go away or I shall taunt you a second time-a! [sniff] \\nARTHUR: Now, this is your last chance.  I've been more than reasonable.\\nFRENCH GUARD: (Fetchez la vache.)\\nOTHER FRENCH GUARD: Quoi?\\nFRENCH GUARD: (Fetchez la vache!) [mooo] \\nARTHUR: If you do not agree to my commands, then I shall-- [twong] [mooooooo] Jesus Christ!\\nKNIGHTS: Christ! [thud] Ah!  Ohh!\\nARTHUR: Right!  Charge!\\nKNIGHTS: Charge! [mayhem] \\nFRENCH GUARD: Hey, this one is for your mother!  There you go. [mayhem] \\nFRENCH GUARD: And this one's for your dad!\\nARTHUR: Run away!\\nKNIGHTS: Run away!\\nFRENCH GUARD: Thppppt!\\nFRENCH GUARDS: [taunting] \\nLAUNCELOT: Fiends!  I'll tear them apart!\\nARTHUR: No, no.  No, no.\\nBEDEVERE: Sir!  I have a plan, sir. [later] [wind] [saw saw saw saw saw saw saw saw saw saw saw saw saw saw saw saw] [clunk] [bang] [rewr!] [squeak squeak squeak squeak squeak squeak squeak squeak squeak squeak] [rrrr rrrr rrrr] [drilllll] [sawwwww] [clunk] [crash] [clang] [squeak squeak squeak squeak squeak...] [creak] \\nFRENCH GUARDS: [whispering] C'est un lapin, lapin de bois.  Quoi?  Un cadeau.  What?  A present.  Oh, un cadeau.  Oui, oui.  Hurry.  What?  Let's go.  Oh. On y va.  Bon magne.  Over here... [squeak squeak squeak squeak squeak...] [clllank] \\nARTHUR: What happens now?\\nBEDEVERE: Well, now, uh, Launcelot, Galahad, and I, uh, wait until nightfall, and then leap out of the rabbit, taking the French, uh, by surprise.  Not only by surprise, but totally unarmed!\\nARTHUR: Who leaps out?\\nBEDEVERE: U-- u-- uh, Launcelot, Galahad, and I.  Uh, leap out of the rabbit, uh, and uh...\\nARTHUR: Ohh.\\nBEDEVERE: Oh.  Um, l-- look, i-- i-- if we built this large wooden badger-- [clank] [twong] \\nARTHUR: Run away!\\nKNIGHTS: Run away!  Run away!  Run away!  Run away!  Run away!  Run away!  Run away! [CRASH] \\nFRENCH GUARDS: Oh, haw haw haw haw!  Haw!  Haw haw heh..\\nSCENE 9: [clack] \\nVOICE: Picture for Schools, take eight.\\nDIRECTOR: Action!\\nHISTORIAN: Defeat at the castle seems to have utterly disheartened King Arthur.  The ferocity of the French taunting took him completely by surprise, and Arthur became convinced that a new strategy was required if the quest for the Holy Grail were to be brought to a successful conclusion.  Arthur, having consulted his closest knights, decided that they should separate, and search for the Grail individually. [clop clop clop] Now, this is what they did: Launcelot--\\nKNIGHT: Aaaah! [slash] [KNIGHT kills HISTORIAN] \\nHISTORIAN'S WIFE: Frank\\nSCENE 10: [trumpets] \\nNARRATOR: The Tale of Sir Robin.  So each of the knights went their separate ways.  Sir Robin rode north, through the dark forest of Ewing, accompanied by his favorite minstrels.\\nMINSTREL: [singing] Bravely bold Sir Robin, rode forth from Camelot.  He was not afraid to die, O brave Sir Robin.  He was not at all afraid to be killed in nasty ways.  Brave, brave, brave, brave Sir Robin!  He was not in the least bit scared to be mashed into a pulp, Or to have his eyes gouged out, and his elbows broken.  To have his kneecaps split, and his body burned away, And his limbs all hacked and mangled, brave Sir Robin!\\nHis head smashed in and his heart cut out, And his liver removed and his bowels unplugged, And his nostrils raped and his bottom burned off, And his pen--\\nSIR ROBIN: That's-- that's, uh-- that's enough music for now, lads.  Heh.  Looks like there's dirty work afoot.\\nDENNIS: Anarcho-syndicalism is a way of preserving freedom.\\nWOMAN: Oh, Dennis, forget about freedom.  We haven't got enough mud.\\nALL HEADS: Halt!  Who art thou?\\nMINSTREL: [singing] He is brave Sir Robin, brave Sir Robin, who--\\nROBIN: Shut up!  Um, n-- n-- n-- nobody really, I'm j-- j-- j-- ju-- just um, just passing through.\\nALL HEADS: What do you want?\\nMINSTREL: [singing] To fight and--\\nROBIN: Shut up!  Um, oo, a-- nothing, nothing really.  I, uh, j-- j-- just--just to um, just to p-- pass through, good Sir Knight.\\nALL HEADS: I'm afraid not!\\nROBIN: Ah.  W-- well, actually I-- I am a Knight of the Round Table.\\nALL HEADS: You're a Knight of the Round Table?\\nROBIN: I am.\\nLEFT HEAD: In that case I shall have to kill you.\\nMIDDLE HEAD: Shall I?\\nRIGHT HEAD: Oh, I don't think so.\\nMIDDLE HEAD: Well, what do I think?\\nLEFT HEAD: I think kill him.\\nRIGHT HEAD: Oh, let's be nice to him.\\nLEFT HEAD: Oh shut up.\\nROBIN: Perhaps I could--\\nLEFT HEAD: And you.  Oh, quick!  Get the sword out.  I want to cut his headoff!\\nRIGHT HEAD: Oh, cut your own head off!\\nMIDDLE HEAD: Yes, do us all a favor!\\nLEFT HEAD: What?\\nRIGHT HEAD: Yapping on all the time.\\nMIDDLE HEAD: You're lucky.  You're not next to him.\\nLEFT HEAD: What do you mean?\\nMIDDLE HEAD: You snore!\\nLEFT HEAD: Oh, I don't.  Anyway, you've got bad breath.\\nMIDDLE HEAD: Well it's only because you don't brush my teeth.\\nRIGHT HEAD: Oh stop bitching and let's go have tea.\\nLEFT HEAD: Oh, all right.  All right.  All right.  We'll kill him first and then have tea and biscuits.\\nMIDDLE HEAD: Yes.\\nRIGHT HEAD: Oh, not biscuits.\\nLEFT HEAD: All right.  All right, not biscuits, but let's kill him anyway.\\nALL HEADS: Right!\\nMIDDLE HEAD: He buggered off.\\nRIGHT HEAD: So he has.  He's scarper\\nMINSTREL: [singing] Brave Sir Robin ran away.\\nROBIN: No!\\nMINSTREL: [singing] Bravely ran away away.\\nROBIN: I didn't!\\nMINSTREL: [singing] When danger reared its ugly head, he bravely turned his tail and fled.\\nROBIN: No!\\nMINSTREL: [singing] Yes, brave Sir Robin turned about\\nROBIN: I didn't!\\nMINSTREL: [singing] And gallantly he chickened out, bravely taking to his feet.\\nROBIN: I never did!\\nMINSTREL: [singing] He beat a very brave retreat.\\nROBIN: All lies!\\nMINSTREL: [singing] Bravest of the brave, Sir Robin.\\nROBIN: I never\\nCARTOON MONKS: [chanting] Pie Iesu domine, dona eis requiem.\\nCARTOON CHARACTER: Heh heh heeh ooh... [twang] \\nCARTOON MONKS: [chanting] Pie Iesu domine, ...\\nCARTOON CHARACTERS: Wayy! [splash] Ho ho.  Woa, wayy! [twang] [splash] Heh heh heh heh ho!  Heh heh heh!\\nCARTOON MONKS: [chanting] ... dona eis requiem.\\nCARTOON CHARACTER: Wayy! [twang] Wayy! [twang] \\nVOICE: [whispering] Forgive me for asking.\\nCARTOON CHARACTER: Oh!  Oooo\\nSCENE 11: [trumpets] \\nNARRATOR: The Tale of Sir Galahad. [boom] [wind] [howl] [howl] [boom] [angels singing] [howl] [boom] [howl] [boom] [pound pound pound] \\nGALAHAD: Open the door!  Open the door! [pound pound pound] In the name of King Arthur, open the door! [squeak] [thump] [squeak] [boom] \\nGIRLS: Hello!\\nZOOT: Welcome gentle Sir Knight.  Welcome to the Castle Anthrax.\\nGALAHAD: The Castle Anthrax?\\nZOOT: Yes.  Oh, it's not a very good name is it?  Oh, but we are nice and we will attend to your every, every need!\\nGALAHAD: You are the keepers of the Holy Grail?\\nZOOT: The what?\\nGALAHAD: The Grail.  It is here.\\nZOOT: Oh, but you are tired, and you must rest awhile.  Midget!  Crapper!\\nMIDGET and CRAPPER: Yes, O Zoot?\\nZOOT: Prepare a bed for our guest.\\nMIDGET and CRAPPER: Oh thank you!  Thank you!  Thank you!  Thank you!  Thank you!  Thank you! ...\\nZOOT: Away, away varletesses.  The beds here are warm and soft, and very, very big.\\nGALAHAD: Well, look, I-- I-- uh--\\nZOOT: What is your name, handsome knight?\\nGALAHAD: Sir Galahad...  the Chaste.\\nZOOT: Mine is Zoot.  Just Zoot.  Oh, but come.\\nGALAHAD: Look, please!  In God's name, show me the Grail!\\nZOOT: Oh, you have suffered much.  You are delirious.\\nGALAHAD: No, look.  I have seen it!  It is here, in this--\\nZOOT: Sir Galahad!  You would not be so ungallant as to refuse our hospitality.\\nGALAHAD: Well, I-- I-- uh--\\nZOOT: Oh, I am afraid our life must seem very dull and quiet compared to yours.  We are but eight score young blondes and brunettes, all between sixteen and nineteen-and-a-half, cut off in this castle with no one to protect us.  Oooh.  It is a lonely life: bathing, dressing, undressing, making exciting underwear.  We are just not used to handsome knights.  Nay.  Nay.  Come.  Come.  You may lie here.  Oh, but you are wounded!\\nGALAHAD: No, no-- it's-- it's nothing.\\nZOOT: Oh, you must see the doctors immediately!  No, no, please!  Lie down. [clap clap] \\nPIGLET: Well, what seems to be the trouble?\\nGALAHAD: They're doctors?!\\nZOOT: Uh, they have a basic medical training, yes.\\nGALAHAD: B-- but--\\nZOOT: Oh, come, come.  You must try to rest.  Doctor Piglet!  Doctor Winston!  Practice your art.\\nWINSTON: Try to relax.\\nGALAHAD: Are you sure that's absolutely necessary?\\nPIGLET: We must examine you.\\nGALAHAD: There's nothing wrong with that!\\nPIGLET: Please.  We are doctors.\\nGALAHAD: Look!  This cannot be.  I am sworn to chastity.\\nPIGLET: Back to your bed!  At once!\\nGALAHAD: Torment me no longer.  I have seen the Grail!\\nPIGLET: There's no grail here.\\nGALAHAD: I have seen it!  I have seen it! [clank] I have seen--\\nGIRLS: Hello.\\nGALAHAD: Oh.\\nGIRLS: Hello.  Hello.  Hello.  Hello.  Hello.  Hello.  Hello.  Hello.  Hello.  Hello.  Hello.  Hello.  Hello.  Hello.  Hello.  Hello.  Hello.  Hello.  Hello.  Hello.  Hello.  Hello.  Hello.\\nGALAHAD: Zoot!\\nDINGO: No, I am Zoot's identical twin sister, Dingo.\\nGALAHAD: Oh, well, excuse me, I--\\nDINGO: Where are you going?\\nGALAHAD: I seek the Grail!  I have seen it, here in this castle!\\nDINGO: Oh no.  Oh, no!  Bad, bad Zoot!\\nGALAHAD: Well, what is it?\\nDINGO: Oh, wicked, bad, naughty Zoot!  She has been setting alight to our beacon, which, I have just remembered, is grail-shaped.  It's not the first time we've had this problem.\\nGALAHAD: It's not the real Grail?\\nDINGO: Oh, wicked, bad, naughty, evil Zoot!  She is a bad person and must pay the penalty.  Do you think this scene should have been cut?  We were so worried when the boys were writing it, but now, we're glad.  It's better than some of the previous scenes, I think.\\nLEFT HEAD: At least ours was better visually.\\nDENNIS: Well, at least ours was committed.  It wasn't just a string of pussy jokes.\\nOLD MAN: Get on with it.\\nTIM THE ENCHANTER: Yes, get on with it!\\nARMY OF KNIGHTS: Yes, get on with it!\\nDINGO: Oh, I am enjoying this scene.\\nGOD: Get on with it!\\nDINGO: [sigh] Oh, wicked, wicked Zoot.  Oh, she is a naughty person, and she must pay the penalty.  And here in Castle Anthrax, we have but one punishment for setting alight the grail-shaped beacon.  You must tie her down on a bed and spank her.\\nGIRLS: A spanking!  A spanking!\\nDINGO: You must spank her well.  And after you have spanked her, you may deal with her as you like.  And then, spank me.\\nAMAZING: And spank me.\\nSTUNNER: And me.\\nLOVELY: And me.\\nDINGO: Yes, yes, you must give us all a good spanking!\\nGIRLS: A spanking!  A spanking!  There is going to be a spanking tonight!\\nDINGO: And after the spanking, the oral sex.\\nGIRLS: The oral sex!  The oral sex!\\nGALAHAD: Well, I could stay a bit longer.\\nLAUNCELOT: Sir Galahad!\\nGALAHAD: Oh, hello.\\nLAUNCELOT: Quick!\\nGALAHAD: What?\\nLAUNCELOT: Quick!\\nGALAHAD: Why?\\nLAUNCELOT: You are in great peril!\\nDINGO: No he isn't.\\nLAUNCELOT: Silence, foul temptress!\\nGALAHAD: You know, she's got a point.\\nLAUNCELOT: Come on!  We will cover your escape!\\nGALAHAD: Look, I'm fine!\\nLAUNCELOT: Come on!\\nGIRLS: Sir Galahad!\\nGALAHAD: No.  Look, I can tackle this lot single-handed!\\nDINGO: Yes!  Let him tackle us single-handed!\\nGIRLS: Yes!  Let him tackle us single-handed!\\nLAUNCELOT: No, Sir Galahad.  Come on!\\nGALAHAD: No!  Really!  Honestly, I can cope.  I can handle this lot easily.\\nDINGO: Oh, yes.  Let him handle us easily.\\nGIRLS: Yes.  Let him handle us easily.\\nLAUNCELOT: No.  Quick!  Quick!\\nGALAHAD: Please!  I can defeat them!  There's only a hundred-and-fifty of them!\\nDINGO: Yes, yes!  He will beat us easily!  We haven't a chance.\\nGIRLS: We haven't a chance.  He will beat us easily... [boom] \\nDINGO: Oh, shit.\\nLAUNCELOT: We were in the nick of time.  You were in great peril.\\nGALAHAD: I don't think I was.\\nLAUNCELOT: Yes you were.  You were in terrible peril.\\nGALAHAD: Look, let me go back in there and face the peril.\\nLAUNCELOT: No, it's too perilous.\\nGALAHAD: Look, it's my duty as a knight to sample as much peril as I can.\\nLAUNCELOT: No, we've got to find the Holy Grail.  Come on!\\nGALAHAD: Oh, let me have just a little bit of peril?\\nLAUNCELOT: No.  It's unhealthy.\\nGALAHAD: I bet you're gay.\\nLAUNCELOT: No I'm not\\nNARRATOR: Sir Launcelot had saved Sir Galahad from almost certain temptation, but they were still no nearer the Grail.  Meanwhile, King Arthur and Sir Bedevere, not more than a swallow's flight away, had discovered something.  Oh, that's an unladen swallow's flight, obviously.  I mean, they were more than two laden swallows' flights away-- four, really, if they had a coconut on a line between them.  I mean, if the birds were walking and dragging--\\nCROWD: Get on with it!\\nNARRATOR: Oh, anyway.  On to scene twenty-four, which is a smashing scene with some lovely acting, in which Arthur discovers a vital clue, and in which there aren't any swallows, although I think you can hear a starling-- oooh\\nSCENE 12:\\nOLD MAN: Heh, hee ha ha hee hee!  Hee hee hee ha ha ha...\\nARTHUR: And this enchanter of whom you speak, he has seen the Grail?\\nOLD MAN: ... Ha ha ha ha!  Heh, hee ha ha hee!  Ha hee ha!  Ha ha ha ha...\\nARTHUR: Where does he live?\\nOLD MAN: ... Heh heh heh heh...\\nARTHUR: Old man, where does he live?\\nOLD MAN: ... Hee ha ha ha.  He knows of a cave, a cave which no man has entered.\\nARTHUR: And the Grail.  The Grail is there?\\nOLD MAN: There is much danger, for beyond the cave lies the Gorge of Eternal Peril, which no man has ever crossed.\\nARTHUR: But the Grail!  Where is the Grail?!\\nOLD MAN: Seek you the Bridge of Death.\\nARTHUR: The Bridge of Death, which leads to the Grail?\\nOLD MAN: Heh, hee hee hee hee!  Ha ha ha ha ha!  Hee ha ha..\\nSCENE 13: [spooky music] [music stops] \\nHEAD KNIGHT OF NI: Ni!\\nKNIGHTS OF NI: Ni!  Ni!  Ni!  Ni!  Ni!\\nARTHUR: Who are you?\\nHEAD KNIGHT: We are the Knights Who Say...  'Ni'!\\nRANDOM: Ni!\\nARTHUR: No!  Not the Knights Who Say 'Ni'!\\nHEAD KNIGHT: The same!\\nBEDEVERE: Who are they?\\nHEAD KNIGHT: We are the keepers of the sacred words: Ni, Peng, and Neee-wom!\\nRANDOM: Neee-wom!\\nARTHUR: Those who hear them seldom live to tell the tale!\\nHEAD KNIGHT: The Knights Who Say 'Ni' demand a sacrifice!\\nARTHUR: Knights of Ni, we are but simple travellers who seek the enchanter who lives beyond these woods.\\nHEAD KNIGHT: Ni!\\nKNIGHTS OF NI: Ni!  Ni!  Ni!  Ni!  Ni! ...\\nARTHUR: Ow!  Ow!  Ow!  Agh!\\nHEAD KNIGHT: We shall say 'ni' again to you if you do not appease us.\\nARTHUR: Well, what is it you want?\\nHEAD KNIGHT: We want...  a shrubbery! [dramatic chord] \\nARTHUR: A what?\\nKNIGHTS OF NI: Ni!  Ni!  Ni!  Ni!\\nARTHUR and PARTY: Ow!  Oh!\\nARTHUR: Please, please!  No more!  We will find you a shrubbery.\\nHEAD KNIGHT: You must return here with a shrubbery or else you will never pass through this wood alive!\\nARTHUR: O Knights of Ni, you are just and fair, and we will return with a shrubbery.\\nHEAD KNIGHT: One that looks nice.\\nARTHUR: Of course.\\nHEAD KNIGHT: And not too expensive.\\nARTHUR: Yes.\\nHEAD KNIGHT: Now...  go [trumpets] \\nCARTOON CHARACTER: Hmm hmm-- [boom] Oh!  Great scott!  Hm.  Hmm. [boom] Hm!  Hmm.  [mumble mumble mumble] [boom] [mumble mumble mumble] [boom] [mumble mumble mumble] [boom] [mumble mumble mumble] [boom] [mumble mumble mumble] [boom] [mumble mumble mumble] [boom] [mumble mumble mumble] [boom] [mumble mumble mumble] [boom] Ohh! [crash] [mumble mumble mumble] [boom] \\nSUN: Ay, up!  Thsss. [boom] Ayy, up! [boom] Thsss. [boom] Ayy, up!\\nCARTOON CHARACTER: Stop that!  Stop that! [boom] \\nSUN: Ay, up!\\nCARTOON CHARACTER: Stop that! [boom] Look on!  Clear off!  Go on!  Go away!  Go away!  Go away!  And you!  Clear off!  [sniff] \\nSUN: [mumble mumble mumble] [bells] \\nCARTOON CHARACTER: Hah.  Bloody weather\\nSCENE 14:\\nNARRATOR: The Tale of Sir Launcelot.\\nFATHER: One day, lad, all this will be yours!\\nPRINCE HERBERT: What, the curtains?\\nFATHER: No.  Not the curtains, lad.  All that you can see, stretched out over the hills and valleys of this land!  This'll be your kingdom, lad.\\nHERBERT: But Mother--\\nFATHER: Father, lad.  Father.\\nHERBERT: B-- b-- but Father, I don't want any of that.\\nFATHER: Listen, lad.  I built this kingdom up from nothing.  When I started here, all there was was swamp.  Other kings said I was daft to build a castle on a swamp, but I built it all the same, just to show 'em.  It sank into the swamp.  So, I built a second one.  That sank into the swamp.  So I built a third one.  That burned down, fell over, then sank into the swamp.  But the fourth one...  stayed up!  And that's what you're gonna get, lad: the strongest castle in these islands.\\nHERBERT: But I don't want any of that.  I'd rather--\\nFATHER: Rather what?!\\nHERBERT: I'd rather... [music] ... just...  sing!\\nFATHER: Stop that!  Stop that!  You're not going into a song while I'm here.  Now listen, lad.  In twenty minutes you're getting married to a girl whose father owns the biggest tracts of open land in Britain.\\nHERBERT: B-- but I don't want land.\\nFATHER: Listen, Alice,--\\nHERBERT: Herbert.\\nFATHER: 'Erbert.  We live in a bloody swamp.  We need all the land we can get.\\nHERBERT: But-- but I don't like her.\\nFATHER: Don't like her?!  What's wrong with her?!  She's beautiful.  She's rich.  She's got huge...  tracts o' land.\\nHERBERT: I know, but I want the-- the girl that I marry to have...  [music] ... a certain...  special...  something!\\nFATHER: Cut that out!  Cut that out!  Look, you're marrying Princess Lucky, so you'd better get used to the idea! [smack] Guards!  Make sure the Prince doesn't leave this room until I come and get him.\\nGUARD #1: Not to leave the room even if you come and get him.\\nGUARD #2: Hic!\\nFATHER: No, no.  Until I come and get him.\\nGUARD #1: Until you come and get him, we're not to enter the room.\\nFATHER: No, no.  No.  You stay in the room and make sure he doesn't leave.\\nGUARD #1: And you'll come and get him.\\nGUARD #2: Hic!\\nFATHER: Right.\\nGUARD #1: We don't need to do anything, apart from just stop him entering the room.\\nFATHER: No, no.  Leaving the room.\\nGUARD #1: Leaving the room.  Yes. [sniff] \\nFATHER: All right?\\nGUARD #1: Right.\\nGUARD #2: Hic!\\nFATHER: Right.\\nGUARD #1: Oh, if-- if-- if-- uhh-- if-- if-- w-- ehh-- i-- if-- if we--\\nFATHER: Yes?  What is it?\\nGUARD #1: Oh, i-- if-- i-- oh--\\nFATHER: Look, it's quite simple.\\nGUARD #1: Uh...\\nFATHER: You just stay here, and make sure 'e doesn't leave the room.  Alright?\\nGUARD #2: Hic!\\nFATHER: Right.\\nGUARD #1: Oh, I remember.  Uhh, can he leave the room with us?\\nFATHER: N-- no no.  No.  You just keep him in here, and make sure he--\\nGUARD #1: Oh, yes.  We'll keep him in here, obviously.  But if he had to leave and we were with him--\\nFATHER: No, no, no, no.  Just keep him in here--\\nGUARD #1: Until you, or anyone else--\\nFATHER: No, not anyone else.  Just me.\\nGUARD #1: Just you.\\nGUARD #2: Hic!\\nFATHER: Get back.\\nGUARD #1: Get back.\\nFATHER: All right?\\nGUARD #1: Right.  We'll stay here until you get back.\\nGUARD #2: Hic!\\nFATHER: And, uh, make sure he doesn't leave.\\nGUARD #1: What?\\nFATHER: Make sure 'e doesn't leave.\\nGUARD #1: The Prince?\\nFATHER: Yes.  Make sure 'e doesn't leave.\\nGUARD #1: Oh, yes, of course.  \\nGUARD #2: Hic!\\nGUARD #1: Ah.  I thought you meant him.  You know, it seemed a bit daft me havin' to guard him when he's a guard.\\nFATHER: Is that clear?\\nGUARD #2: Hic!\\nGUARD #1: Oh, quite clear.  No problems.\\nFATHER: Right.  Where are you going?\\nGUARD #1: We're coming with you.\\nFATHER: No, no.  I want you to stay here and make sure 'e doesn't leave.\\nGUARD #1: Oh, I see.  Right.\\nHERBERT: But Father!\\nFATHER: Shut your noise, you!  And get that suit on! [music] And no singing!\\nGUARD #2: Hic!\\nFATHER: Oh, go and get a glass of water. [clank] [scribble scribble scribble fold fold] [twong]\\nSCENE 15:\\nLAUNCELOT: Well taken, Concorde!\\nCONCORDE: Thank you, sir!  Most kind.\\nLAUNCELOT: And again!  Over we go!  Good.  Steady!  And now, the big one!  Uuh!  Come on, Concorde! [thwonk] \\nCONCORDE: Message for you, sir. [fwump] \\nLAUNCELOT: Concorde!  Concorde!  Speak to me!  'To whoever finds this note: I have been imprisoned by my father, who wishes me to marry against my will.  Please, please, please come and rescue me.  I am in the Tall Tower of Swamp Castle.' At last!  A call!  A cry of distress!  This could be the sign that leads us to the Holy Grail!  Brave, brave Concorde, you shall not have died in vain!\\nCONCORDE: Uh, I'm-- I'm not quite dead, sir.\\nLAUNCELOT: Well, you shall not have been mortally wounded in vain!\\nCONCORDE: I-- I-- I think I c-- I could pull through, sir.\\nLAUNCELOT: Oh, I see.\\nCONCORDE: Actually, I think I'm all right to come with you, sir--\\nLAUNCELOT: No, no, sweet Concorde!  Stay here!  I will send help as soon as I have accomplished a daring and heroic rescue in my own particular...  [sigh] \\nCONCORDE: Idiom, sir?\\nLAUNCELOT: Idiom!\\nCONCORDE: No, I feel fine, actually, sir.\\nLAUNCELOT: Farewell, sweet Concorde!\\nCONCORDE: I'll, um, I'll just stay here then.  Shall I, sir?  Yeah\\nSCENE 16: [inside castle] \\nPRINCESS LUCKY and GIRLS: [giggle giggle giggle] [outside castle] \\nGUEST: 'Morning!\\nSENTRY #1: 'Morning.\\nSENTRY #2: Oooh.\\nSENTRY #1: [ptoo] \\nLAUNCELOT: Ha ha!  Hiyya!\\nSENTRY #2: Hey!\\nLAUNCELOT: Hiyya!, Ha!, etc.\\nPRINCESS LUCKY and GIRLS: [giggle giggle giggle] \\nLAUNCELOT: Ha ha!  Huy!\\nGUESTS: Uuh!  Aaah!\\nLAUNCELOT: Ha ha!  And take this!  Aah!  Hiyah!  Aah!  Aaah!  Hyy!  Hya!  Hiyya!  Ha! ...\\nGUARD #1: Now, you're not allowed to enter the room-- aaugh!\\nLAUNCELOT: O fair one, behold your humble servant Sir Launcelot of Camelot.  I have come to take y-- Oh, I'm terribly sorry.\\nHERBERT: You got my note!\\nLAUNCELOT: Uh, well, I-- I got a-- a note.\\nHERBERT: You've come to rescue me!\\nLAUNCELOT: Uh, well, no.  You see, I hadn't--\\nHERBERT: I knew someone would.  I knew that somewhere out there...  [music] \\nLAUNCELOT: Well, I--\\nHERBERT: ... there must be...  someone...\\nFATHER: Stop that!  Stop that!  Stop it!  Stop it!  Who are you?\\nHERBERT: I'm your son!\\nFATHER: No, not you.\\nLAUNCELOT: Uh, I am Sir Launcelot, sir.\\nHERBERT: He's come to rescue me, Father.\\nLAUNCELOT: Well, let's not jump to conclusions.\\nFATHER: Did you kill all those guards?\\nLAUNCELOT: Uh...  Oh, yes.  Sorry.\\nFATHER: They cost fifty pounds each!\\nLAUNCELOT: Well, I'm awfully sorry.  Um, I really can explain everything.\\nHERBERT: Don't be afraid of him, Sir Launcelot.  I've got a rope all ready.\\nFATHER: You killed eight wedding guests in all!\\nLAUNCELOT: Well, uh, you see, the thing is, I thought your son was a lady.\\nFATHER: I can understand that.\\nHERBERT: Hurry, Sir Launcelot!  Hurry!\\nFATHER: Shut up!  You only killed the bride's father, that's all!\\nLAUNCELOT: Well, I really didn't mean to...\\nFATHER: Didn't mean to?!  You put your sword right through his head!\\nLAUNCELOT: Oh, dear.  Is he all right?\\nFATHER: You even kicked the bride in the chest!  This is going to cost me a fortune!\\nLAUNCELOT: Well, I can explain.  I was in the forest, um, riding north from Camelot, when I got this note, you see--\\nFATHER: Camelot?  Are you from, uh, Camelot?\\nHERBERT: Hurry, Sir Launcelot!\\nLAUNCELOT: Uh, I am a Knight of King Arthur, sir.\\nFATHER: Very nice castle, Camelot.  Uh, very good pig country...\\nLAUNCELOT: Is it?\\nHERBERT: Hurry!  I'm ready!\\nFATHER: Would you, uh, like to come and have a drink?\\nLAUNCELOT: Well, that-- that's, uh, awfully nice of you, ...\\nHERBERT: I am ready!\\nLAUNCELOT: ... um, I mean to be so understanding. [thonk] Um, ... [woosh] \\nHERBERT: Oooh!\\nLAUNCELOT: ... I'm afraid when I'm in this idiom, I sometimes get a bit, uh, sort of carried away.\\nFATHER: Oh, don't worry about that.\\nHERBERT: Oooh! [splat] \\nSCENE 17:\\nGUESTS: [crying] \\nFATHER: Well, this is the main hall.  We're going to have all this knocked through, and made into one big, uh, living room.\\nGUEST: There he is!\\nFATHER: Oh, bloody hell.\\nLAUNCELOT: Ha ha ha!  Hey!  Ha ha!\\nFATHER: Hold it!  Stop it!  Hold it!  Hold it!  Hold it!  Hold it!  Hold it!  Please!\\nLAUNCELOT: Sorry.  Sorry.  You see what I mean?  I just get carried away.  I'm really most awfully sorry.  Sorry!  Sorry, everyone.\\nGUEST #1: He's killed the best man!\\nGUESTS: [yelling] \\nFATHER: Hold it!  Hold it!  Please!  Hold it!  This is Sir Launcelot from the Court of Camelot, a very brave and influential knight, and my special guest here today.\\nLAUNCELOT: Hello.\\nGUEST: He killed my auntie!\\nGUESTS: [yelling] \\nFATHER: Please!  Please!  This is supposed to be a happy occasion!  Let's not bicker and argue about who killed who.  We are here today to witness the union of two young people in the joyful bond of the holy wedlock.  Unfortunately, one of them, my son Herbert, has just fallen to his death.\\nGUESTS: Oh!  Oh no!\\nFATHER: But I don't want to think I've not lost a son, so much as...  gained a daughter! [clap clap clap] For, since the tragic death of her father--\\nGUEST #2: He's not quite dead!\\nFATHER: Since the near fatal wounding of her father--\\nGUEST #2: He's getting better!\\nFATHER: For, since her own father, who, when he seemed about to recover, suddenly felt the icy hand of death upon him.\\nBRIDE'S FATHER: Uugh!\\nGUEST #2: Oh, he's died!\\nFATHER: And I want his only daughter to look upon me as her old dad, in a very real, and legally binding sense. [clap clap clap] And I feel sure that the merger-- er, the union between the Princess and the brave, but dangerous, Sir Launcelot of Camelot--\\nLAUNCELOT: What?\\nGUEST #2: Look!  The dead Prince!\\nGUESTS: Oooh!  The dead Prince!\\nCONCORDE: He's not quite dead.\\nHERBERT: No, I feel much better.\\nFATHER: You fell out of the Tall Tower, you creep!\\nHERBERT: No, I was saved at the last minute.\\nFATHER: How?!\\nHERBERT: Well, I'll tell you. [music] \\nFATHER: Not like that!  Not like that!  No!  Stop it!\\nGUESTS: [singing] He's going to tell!  He's going to tell! ...\\nFATHER: Shut uuup!\\nGUESTS: [singing] He's going to tell! ...\\nFATHER: Shut up!\\nGUESTS: [singing] He's going to tell! ...\\nFATHER: Shut up!\\nGUESTS: [singing] He's going to tell! ...\\nFATHER: Not like that!\\nGUESTS: [singing] He's going to tell!  He's going to tell!  He's going to tell!  He's going to tell! ...\\nCONCORDE: Quickly, sir!\\nGUESTS: [singing] He's going to tell! ...\\nCONCORDE: Come this way!\\nGUESTS: [singing] He's going to tell!  He's going to tell! ...\\nLAUNCELOT: No!  It's not right for my idiom!\\nGUESTS: [singing] He's going to tell about his great escape...\\nLAUNCELOT: I must escape more...  [sigh] \\nGUESTS: [singing] Oh, he fell a long, long way...\\nCONCORDE: Dramatically, sir?\\nLAUNCELOT: Dramatically!\\nGUESTS: [singing] But he's here with us today...\\nLAUNCELOT: Heee!  Hoa! [crash] Hoo!\\nGUESTS: [singing] What a wonderful escape!\\nLAUNCELOT: Excuse me.  Could, uh-- could somebody give me a push, please\\nSCENE 18: [King Arthur music] [clop clop clop] [rewr!  rewr!  rewr!  rewr!  rewr!  rewr!] \\nARTHUR: Old crone! [rewr!] [music stops] Is there anywhere in this town where we could buy a shrubbery? [dramatic chord] \\nOLD CRONE: Who sent you?\\nARTHUR: The Knights Who Say 'Ni'.\\nCRONE: Aggh!  No!  Never!  We have no shrubberies here.\\nARTHUR: If you do not tell us where we can buy a shrubbery, my friend and I will say...  we will say...  'ni'.\\nCRONE: Agh!  Do your worst!\\nARTHUR: Very well!  If you will not assist us voluntarily, ...  ni!\\nCRONE: No!  Never!  No shrubberies!\\nARTHUR: Ni!\\nCRONE: [cough] \\nBEDEVERE: Nu!\\nARTHUR: No, no, no, no...\\nBEDEVERE: Nu!\\nARTHUR: No, it's not that, it's 'ni'.\\nBEDEVERE: Nu!\\nARTHUR: No, no-- 'ni'.  You're not doing it properly.  No.\\nBEDEVERE: Ni!\\nARTHUR and BEDEVERE: Ni!\\nARTHUR: That's it.  That's it.  You've got it.\\nARTHUR and BEDEVERE: Ni!\\nCRONE: Ohh!\\nBEDEVERE: Ni!\\nARTHUR: Ni!\\nCRONE: Agh!\\nBEDEVERE: Ni!\\nARTHUR: Ni!\\nBEDEVERE: Ni!\\nARTHUR: Ni!\\nBEDEVERE: Ni!\\nROGER THE SHRUBBER: Are you saying 'ni' to that old woman?\\nARTHUR: Erm, yes.\\nROGER: Oh, what sad times are these when passing ruffians can 'ni' at will to old ladies.  There is a pestilence upon this land.  Nothing is sacred. Even those who arrange and design shrubberies are under considerable economic stress at this period in history.\\nARTHUR: Did you say 'shrubberies'?\\nROGER: Yes.  Shrubberies are my trade.  I am a shrubber.  My name is Roger the Shrubber.  I arrange, design, and sell shrubberies.\\nBEDEVERE: Ni!\\nARTHUR: No!  No, no, no!  No\\nSCENE 19:\\nARTHUR: O Knights of Ni, we have brought you your shrubbery.  May we go now?\\nHEAD KNIGHT: It is a good shrubbery.  I like the laurels particularly.  But there is one small problem.\\nARTHUR: What is that?\\nHEAD KNIGHT: We are now...  no longer the Knights Who Say 'Ni'.\\nKNIGHTS OF NI: Ni!  Shh!\\nHEAD KNIGHT: Shh!  We are now the Knights Who Say 'Ecky-ecky-ecky-ecky-pikang-zoop-boing-goodem-zoo-owli-zhiv'.\\nRANDOM: Ni!\\nHEAD KNIGHT: Therefore, we must give you a test.\\nARTHUR: What is this test, O Knights of-- Knights Who 'Til Recently Said 'Ni'?\\nHEAD KNIGHT: Firstly, you must find...  another shrubbery! [dramatic chord] \\nARTHUR: Not another shrubbery!\\nRANDOM: Ni!\\nHEAD KNIGHT: Then, when you have found the shrubbery, you must place it here beside this shrubbery, only slightly higher so you get the two-level effect with a little path running down the middle.\\nKNIGHTS OF NI: A path!  A path!  A path!  Ni!  Shh!  Ni!  Ni!  Ni!  Shh!  Shh! ...\\nHEAD KNIGHT: Then, when you have found the shrubbery, you must cut down the mightiest tree in the forest...  with...  a herring! [dramatic chord] \\nARTHUR: We shall do no such thing!\\nHEAD KNIGHT: Oh, please!\\nARTHUR: Cut down a tree with a herring?  It can't be done.\\nKNIGHTS OF NI: Aaaugh!  Aaaugh!\\nHEAD KNIGHT: Augh!  Ohh!  Don't say that word.\\nARTHUR: What word?\\nHEAD KNIGHT: I cannot tell, suffice to say is one of the words the Knights of Ni cannot hear.\\nARTHUR: How can we not say the word if you don't tell us what it is?\\nKNIGHTS OF NI: Aaaaugh!\\nHEAD KNIGHT: You said it again!\\nARTHUR: What, 'is'?\\nKNIGHTS OF NI: Agh!  No, not 'is'.\\nHEAD KNIGHT: No, not 'is'.  You wouldn't get vary far in life not saying 'is'.\\nKNIGHTS OF NI: No, not 'is'.  Not 'is'.\\nBEDEVERE: My liege, it's Sir Robin!\\nMINSTREL: [singing] Packing it in and packing it up, And sneaking away and buggering up, And chickening out and pissing off home, Yes, bravely he is throwing in the sponge.\\nARTHUR: Sir Robin!\\nROBIN: My liege!  It's good to see you.\\nHEAD KNIGHT: Now he's said the word!  \\nARTHUR: Surely you've not given up your quest for the Holy Grail?\\nMINSTREL: [singing] He is sneaking away and buggering up--\\nROBIN: Shut up!  No, no.  No.  Far from it.\\nHEAD KNIGHT: He said the word again!\\nKNIGHTS OF NI: Aaaaugh!\\nROBIN: I was looking for it.\\nKNIGHTS OF NI: Aaaaugh!\\nROBIN: Uh, here-- here in this forest.\\nARTHUR: No, it is far from this place.\\nKNIGHTS OF NI: Aaaaugh!\\nHEAD KNIGHT: Aaaaugh!  Stop saying the word!  The word...\\nARTHUR: Oh, stop it!\\nKNIGHTS OF NI: ... we cannot hear!\\nHEAD KNIGHT: Ow!  He said it again!\\nARTHUR: Patsy!\\nHEAD KNIGHT: Wait!  I said it!  I said it! [clop clop clop] Ooh!  I said it again!  And there again!  That's three 'it's!  Ohh!\\nKNIGHTS OF NI: Aaaaugh\\nNARRATOR: And so, Arthur and Bedevere and Sir Robin set out on their search to find the enchanter of whom the old man had spoken in scene twenty-four.  Beyond the forest they met Launcelot and Galahad, and there was much rejoicing.\\nKNIGHTS: Yay!  Yay! [woosh] \\nNARRATOR: In the frozen land of Nador, they were forced to eat Robin's minstrels.\\nMINSTREL: [high-pitched] Get back!  Eee!\\nNARRATOR: And there was much rejoicing.\\nKNIGHTS: Yay!\\nNARRATOR: A year passed.\\nCARTOON CHARACTER: [shivering] \\nNARRATOR: Winter changed into Spring.\\nCARTOON CHARACTER: Mmm, nice.\\nNARRATOR: Spring changed into Summer.\\nCARTOON CHARACTER: Oh.  Ahh.\\nNARRATOR: Summer changed back into Winter.\\nCARTOON CHARACTER: Oh?\\nNARRATOR: And Winter gave Spring and Summer a miss and went straight on into Autumn.\\nCARTOON CHARACTER: Aah. [snap] Oh!  Waa!\\nNARRATOR: Until one day..\\nSCENE 20: [King Arthur music] [clop clop clop] [music stops] [boom] \\nKNIGHTS: Eh.  Oh.  See it?  Oh.  Oh.\\nARTHUR: Knights!  Forward! [boom boom boom boom boom] [squeak] [boom boom boom boom] What manner of man are you that can summon up fire without flint or tinder?\\nTIM THE ENCHANTER: I...  am an enchanter.\\nARTHUR: By what name are you known?\\nTIM: There are some who call me...  Tim?\\nARTHUR: Greetings, Tim the Enchanter.\\nTIM: Greetings, King Arthur!\\nARTHUR: You know my name?\\nTIM: I do. [zoosh] You seek the Holy Grail!\\nARTHUR: That is our quest.  You know much that is hidden, O Tim.\\nTIM: Quite. [pweeng boom] [clap clap clap] \\nROBIN: Oh.\\nARTHUR: Yes, we're-- we're looking for the Holy Grail.  Our quest is to find the Holy Grail.\\nKNIGHTS: Yeah.  Yes.  It is.  It is.  Yeah.  Yup.  Yup.  Hm.\\nARTHUR: And so we're-- we're-- we're-- we're looking for it.\\nBEDEVERE: Yes, we are.\\nGALAHAD: Yeah.  \\nROBIN: We are.  We are.\\nBEDEVERE: We have been for some time.\\nROBIN: Ages.\\nBEDEVERE: Umhm.\\nARTHUR: Uh-- uh, so, uh, anything that you could do to, uh-- to help, would be...  very...  helpful.\\nGALAHAD: Look, can you tell us where-- [boom] \\nARTHUR: Fine.  Um, I don't want to waste any more of your time, but, uh, I don't suppose you could, uh, tell us where we might find a, um-- find a, uh-- a, um-- a, uh--\\nTIM: A what...?\\nARTHUR: A g-- a-- a g-- a g-- a-- a g--\\nTIM: A grail?!\\nARTHUR: Yes, I think so.\\nROBIN: Y-- y-- yes.\\nARTHUR: Yes.\\nGALAHAD: Yup.\\nKNIGHTS: That's it...\\nTIM: Yes!\\nROBIN: Oh.\\nARTHUR: Oh.  Thank you.\\nROBIN: Ahh.\\nGALAHAD: Oh.  Fine.\\nARTHUR: Thank you.\\nROBIN: Splendid.\\nKNIGHTS: Aah... [boom pweeng boom boom] \\nARTHUR: Look, um, you're a busy man, uh--\\nTIM: Yes, I can help you find the Holy Grail.\\nKNIGHTS: Oh, thank you.  Oh...\\nTIM: To the north there lies a cave-- the cave of Caerbannog-- wherein, carved in mystic runes upon the very living rock, the last words of Olfin Bedwere of Rheged... [boom] ... make plain the last resting place of the most Holy Grail.\\nARTHUR: Where could we find this cave, O Tim?\\nTIM: Follow.  But!  Follow only if ye be men of valor, for the entrance to this cave is guarded by a creature so foul, so cruel that no man yet has fought with it and lived!  Bones of full fifty men lie strewn about its lair.  So, brave knights, if you do doubt your courage or your strength, come no further, for death awaits you all with nasty, big, pointy teeth.\\nARTHUR: What an eccentric performance\\nSCENE 21: [clop clop clop] [whinny whinny] \\nGALAHAD: They're nervous, sire.\\nARTHUR: Then we'd best leave them here and carry on on foot.  Dis-mount!\\nTIM: Behold the cave of Caerbannog!\\nARTHUR: Right!  Keep me covered.\\nGALAHAD: What with?\\nARTHUR: W-- just keep me covered.\\nTIM: Too late! [dramatic chord] \\nARTHUR: What?\\nTIM: There he is!\\nARTHUR: Where?\\nTIM: There!\\nARTHUR: What, behind the rabbit?\\nTIM: It is the rabbit!\\nARTHUR: You silly sod!\\nTIM: What?\\nARTHUR: You got us all worked up!\\nTIM: Well, that's no ordinary rabbit.\\nARTHUR: Ohh.\\nTIM: That's the most foul, cruel, and bad-tempered rodent you ever set eyes on.\\nROBIN: You tit!  I soiled my armor I was so scared!\\nTIM: Look, that rabbit's got a vicious streak a mile wide; it's a killer!\\nGALAHAD: Get stuffed!\\nTIM: He'll do you up a treat mate!\\nGALAHAD: Oh, yeah?\\nROBIN: You mangy scots git!\\nTIM: I'm warning you!\\nROBIN: What's he do, nibble your bum?\\nTIM: He's got huge, sharp-- eh-- he can leap about-- look at the bones!\\nARTHUR: Go on, Bors.  Chop his head off!\\nBORS: Right!  Silly little bleeder.  One rabbit stew comin' right up!\\nTIM: Look! [squeak] \\nBORS: Aaaugh! [dramatic chord] [clunk] \\nARTHUR: Jesus Christ!\\nTIM: I warned you!\\nROBIN: I done it again!\\nTIM: I warned you, but did you listen to me?  Oh, no, you knew it all, didn't you?  Oh, it's just a harmless little bunny, isn't it?  Well, it's always the same.  I always tell them--\\nARTHUR: Oh, shut up!\\nTIM: Do they listen to me?\\nARTHUR: Right!\\nTIM: Oh, no...\\nKNIGHTS: Charge! [squeak squeak squeak] \\nKNIGHTS: Aaaaugh!, Aaaugh!, etc.\\nARTHUR: Run away!  Run away!\\nKNIGHTS: Run away!  Run away! ...\\nTIM: Ha ha ha ha!  Ha haw haw!  Ha!  Ha ha!\\nARTHUR: Right.  How many did we lose?\\nLAUNCELOT: Gawain.\\nGALAHAD: Ector.\\nARTHUR: And Bors.  That's five.\\nGALAHAD: Three, sir.\\nARTHUR: Three.  Three.  And we'd better not risk another frontal assault.  That rabbit's dynamite.\\nROBIN: Would it help to confuse it if we run away more?\\nARTHUR: Oh, shut up and go and change your armor.\\nGALAHAD: Let us taunt it!  It may become so cross that it will make a mistake.\\nARTHUR: Like what?\\nGALAHAD: Well...  ooh.\\nLAUNCELOT: Have we got bows?\\nARTHUR: No.\\nLAUNCELOT: We have the Holy Hand Grenade.\\nARTHUR: Yes, of course!  The Holy Hand Grenade of Antioch!  'Tis one of the sacred relics Brother Maynard carries with him!  Brother Maynard!  Bring up the Holy Hand Grenade!\\nMONKS: [chanting] Pie Iesu domine, dona eis requiem.  Pie Iesu domine, donaeis requiem.  Pie Iesu domine, dona eis requiem.  Pie Iesu domine, dona eisrequiem.\\nARTHUR: How does it, um-- how does it work?\\nLAUNCELOT: I know not, my liege.\\nARTHUR: Consult the Book of Armaments!\\nBROTHER MAYNARD: Armaments, Chapter Two, verses Nine to Twenty-one.\\nSECOND BROTHER: And Saint Attila raised the hand grenade up on high, saying,'O Lord, bless this thy hand grenade that with it thou mayest blow thine enemies to tiny bits, in thy mercy.' And the Lord did grin, and the people did feast upon the lambs and sloths and carp and anchovies and orangutans and breakfast cereals and fruit bats and large chu--\\nMAYNARD: Skip a bit, Brother.\\nSECOND BROTHER: And the Lord spake, saying, 'First shalt thou take out the Holy Pin.  Then, shalt thou count to three, no more, no less.  Three shalt be the number thou shalt count, and the number of the counting shall be three.  Four shalt thou not count, nor either count thou two, excepting that thou then proceed to three.  Five is right out.  Once the number three, being the third number, be reached, then lobbest thou thy Holy Hand Grenade of Antioch towards thy foe, who, being naughty in my sight, shall snuff it.'\\nMAYNARD: Amen.\\nKNIGHTS: Amen.\\nARTHUR: Right!  One...  two...  five!\\nGALAHAD: Three, sir!\\nARTHUR: Three! [angels sing] [boom] \\nSCENE 22:\\nARTHUR: There!  Look!\\nLAUNCELOT: What does it say?\\nGALAHAD: What language is that?\\nARTHUR: Brother Maynard!  You are a scholar.\\nMAYNARD: It's Aramaic!\\nGALAHAD: Of course!  Joseph of Arimathea!\\nLAUNCELOT: 'Course!\\nARTHUR: What does it say?\\nMAYNARD: It reads, 'Here may be found the last words of Joseph of Arimathea.  He who is valiant and pure of spirit may find the Holy Grail in the Castle of uuggggggh'.\\nARTHUR: What?\\nMAYNARD: '...  the Castle of uuggggggh'.\\nBEDEVERE: What is that?\\nMAYNARD: He must have died while carving it.\\nLAUNCELOT: Oh, come on!\\nMAYNARD: Well, that's what it says.\\nARTHUR: Look, if he was dying, he wouldn't bother to carve 'aaggggh'.  He'd just say it!\\nMAYNARD: Well, that's what's carved in the rock!\\nGALAHAD: Perhaps he was dictating.\\nARTHUR: Oh, shut up.  Well, does it say anything else?\\nMAYNARD: No.  Just, 'uuggggggh'.\\nLAUNCELOT: Aauuggghhh.\\nARTHUR: Aaauggh.\\nBEDEVERE: Do you suppose he meant the Camaaaaaargue?\\nGALAHAD: Where's that?\\nBEDEVERE: France, I think.\\nLAUNCELOT: Isn't there a Saint Aauuuves in Cornwall?\\nARTHUR: No, that's Saint Ives.\\nLAUNCELOT: Oh, yes.  Saint Iiiives.\\nKNIGHTS: Iiiiives.\\nBEDEVERE: Oooohoohohooo!\\nLAUNCELOT: No, no.  'Aauuuuugh', at the back of the throat.  Aauuugh.\\nBEDEVERE: N-- no.  No, no, no, no.  'Oooooooh', in surprise and alarm.\\nLAUNCELOT: Oh, you mean sort of a 'aaaah'!\\nBEDEVERE: Yes, but I-- aaaaaah!\\nARTHUR: Oooh!\\nGALAHAD: My God! [dramatic chord] [roar] \\nMAYNARD: It's the legendary Black Beast of Aaauugh! [Black Beast of Aaauugh eats BROTHER MAYNARD] \\nBEDEVERE: That's it!  That's it!\\nARTHUR: Run away!\\nKNIGHTS: Run away! [roar] Run away!  Run awaaay!  Run awaaaaay! [roar] Keep running! [boom] [roar] Shh!  Shh!  Shh!  Shh!  Shh!  Shh!  Shh!  Shh! ...\\nBEDEVERE: We've lost him. [roar] \\nKNIGHTS: Aagh!\\nNARRATOR: As the horrendous Black Beast lunged forward, escape for Arthur and his knights seemed hopeless, when suddenly, the animator suffered a fatal heart attack.\\nANIMATOR: Ulk! [thump] \\nNARRATOR: The cartoon peril was no more.  The quest for Holy Grail could continue.\\nSCENE 23: [gurgle] \\nGALAHAD: There it is!\\nARTHUR: The Bridge of Death!\\nROBIN: Oh, great.\\nARTHUR: Look!  There's the old man from scene twenty-four!\\nBEDEVERE: What is he doing here?\\nARTHUR: He is the keeper of the Bridge of Death.  He asks each traveller five questions--\\nGALAHAD: Three questions.\\nARTHUR: Three questions.  He who answers the five questions--\\nGALAHAD: Three questions.\\nARTHUR: Three questions may cross in safety.\\nROBIN: What if you get a question wrong?\\nARTHUR: Then you are cast into the Gorge of Eternal Peril.\\nROBIN: Oh, I won't go.\\nGALAHAD: Who's going to answer the questions?\\nARTHUR: Sir Robin!\\nROBIN: Yes?\\nARTHUR: Brave Sir Robin, you go.\\nROBIN: Hey!  I've got a great idea.  Why doesn't Launcelot go?\\nLAUNCELOT: Yes.  Let me go, my liege.  I will take him single-handed.  I shall make a feint to the north-east that s--\\nARTHUR: No, no.  No.  Hang on!  Hang on!  Hang on!  Just answer the five questions--\\nGALAHAD: Three questions.\\nARTHUR: Three questions as best you can.  And we shall watch...  and pray.\\nLAUNCELOT: I understand, my liege.\\nARTHUR: Good luck, brave Sir Launcelot.  God be with you.\\nBRIDGEKEEPER: Stop!  Who would cross the Bridge of Death must answer me these questions three, ere the other side he see.\\nLAUNCELOT: Ask me the questions, bridgekeeper.  I am not afraid.\\nBRIDGEKEEPER: What is your name?\\nLAUNCELOT: My name is Sir Launcelot of Camelot.\\nBRIDGEKEEPER: What is your quest?\\nLAUNCELOT: To seek the Holy Grail.\\nBRIDGEKEEPER: What is your favorite color?\\nLAUNCELOT: Blue.\\nBRIDGEKEEPER: Right.  Off you go.\\nLAUNCELOT: Oh, thank you.  Thank you very much.\\nROBIN: That's easy!\\nBRIDGEKEEPER: Stop!  Who approacheth the Bridge of Death must answer me these questions three, ere the other side he see.\\nROBIN: Ask me the questions, bridgekeeper.  I'm not afraid.\\nBRIDGEKEEPER: What is your name?\\nROBIN: Sir Robin of Camelot.\\nBRIDGEKEEPER: What is your quest?\\nROBIN: To seek the Holy Grail.\\nBRIDGEKEEPER: What is the capital of Assyria?\\nROBIN: I don't know that!  Auuuuuuuugh!\\nBRIDGEKEEPER: Stop!  What is your name?\\nGALAHAD: Sir Galahad of Camelot.\\nBRIDGEKEEPER: What is your quest?\\nGALAHAD: I seek the Grail.\\nBRIDGEKEEPER: What is your favorite color?\\nGALAHAD: Blue.  No yel-- auuuuuuuugh!\\nBRIDGEKEEPER: Hee hee heh.  Stop!  What is your name?\\nARTHUR: It is Arthur, King of the Britons.\\nBRIDGEKEEPER: What is your quest?\\nARTHUR: To seek the Holy Grail.\\nBRIDGEKEEPER: What is the air-speed velocity of an unladen swallow?\\nARTHUR: What do you mean?  An African or European swallow?\\nBRIDGEKEEPER: Huh?  I-- I don't know that!  Auuuuuuuugh!\\nBEDEVERE: How do know so much about swallows?\\nARTHUR: Well, you have to know these things when you're a king, you know. [suspenseful music] [music suddenly stops] [intermission] [suspenseful music resumes]\\nSCENE 24:\\nARTHUR: Launcelot!  Launcelot!  Launcelot!\\nBEDEVERE: Launcelot!  Launcelot!\\nARTHUR: Launcelot! [police radio] Launcelot!\\nBEDEVERE: Launcelot!  Launcelot! [angels sing] [singing stops] [ethereal music] \\nARTHUR: The Castle Aaagh.  Our quest is at an end!  God be praised!  Almighty God, we thank Thee that Thou hast vouchsafed to us the most holy-- [twong] [baaaa] Jesus Christ! [thud] \\nFRENCH GUARD: Allo, dappy English k-niggets and Monsieur Arthur King, who has the brain of a duck, you know.  So, we French fellows outwit you a second time!\\nARTHUR: How dare you profane this place with your presence!  I command you, in the name of the Knights of Camelot, to open the doors of this sacred castle, to which God Himself has guided us!\\nFRENCH GUARD: How you English say, 'I one more time, mac, unclog my nose in your direction', sons of a window-dresser!  So, you think you could out-clever us French folk with your silly knees-bent running about advancing behaviour?!  I wave my private parts at your aunties, you cheesy lot of second hand electric donkey-bottom biters.\\nARTHUR: In the name of the Lord, we demand entrance to this sacred castle!\\nFRENCH GUARD: No chance, English bed-wetting types.  I burst my pimples at you and call your door-opening request a silly thing, you tiny-brained wipers of other people's bottoms!\\nARTHUR: If you do not open this door, we shall take this castle by force! [splat] In the name of God and the glory of our-- [splat] \\nFRENCH GUARDS: [laughing] \\nARTHUR: Agh.  Right!  That settles it!\\nFRENCH GUARD: Yes, depart a lot at this time, and cut the approaching any more or we fire arrows at the tops of your heads and make castanets out of your testicles already!  Ha ha haaa ha!\\nARTHUR: Walk away.  Just ignore them.\\nFRENCH GUARD: And now, remain gone, illegitimate-faced bugger-folk!  And, if you think you got a nasty taunting this time, you ain't heard nothing yet, dappy English k-nnniggets!  Thpppt!\\nFRENCH GUARDS: [taunting] \\nARTHUR: We shall attack at once!\\nBEDEVERE: Yes, my liege!\\nARTHUR: Stand by for attack! [exciting music] [music stops] [silence] French persons!\\nFRENCH GUARDS: [taunting] ... Dappy! ...\\nARTHUR: Today the blood of many a valiant knight shall be avenged.  In the name of God, ...\\nFRENCH GUARDS: Hoo hoo!  Ohh, ha ha ha ha ha! ...\\nARTHUR: ... we shall not stop our fight 'til each one of you lies dead, and the Holy Grail returns to those whom God has chosen!\\nFRENCH GUARDS: ... Ha ha ha! ...\\nARTHUR: Charge!\\nARMY OF KNIGHTS: Hooray! [police siren] \\nHISTORIAN'S WIFE: Yes.  They're the ones.  I'm sure.\\nINSPECTOR: Come on.  Anybody armed must go too.\\nOFFICER #1: All right.  Come on.  Back.\\nHISTORIAN'S WIFE: Get that one.\\nOFFICER #1: Back.  Right away.  Just...  pull it off.  Come on.  Come along.\\nINSPECTOR: Put this man in the van.\\nOFFICER #1: Clear off.  Come on.\\nBEDEVERE: With whom?\\nINSPECTOR: Which one?\\nOFFICER #1: Oh-- this one.\\nINSPECTOR: Come on.  Put him in the van.\\nOFFICER #2: Get a blanket.\\nOFFICER #1: We have no hospital.\\nRANDOM: Ahh. [squeak] \\nRANDOM: Ooh.\\nOFFICER #1: Come on.  Back.  Riiight back.  Come on!\\nOFFICER #2: Run along!  Run along!\\nOFFICER #1: Pull that off.  My, that's an offensive weapon, that is.\\nOFFICER #2: Come on.  Back with 'em.  Back.  Right.  Come along.\\nINSPECTOR: Everything? [squeak] \\nOFFICER #1: All right, sonny.  That's enough.  Just pack that in. [crash] \\nCAMERAMAN: Christ!\\n\""
            ],
            "application/vnd.google.colaboratory.intrinsic+json": {
              "type": "string"
            }
          },
          "metadata": {},
          "execution_count": 57
        }
      ]
    },
    {
      "cell_type": "code",
      "source": [
        "lines = holy_grail.split('\\n')\n",
        "\n",
        "pattern = \"[A-Z]{2,}(\\s)?(#\\d)?([A-Z]{2,})?:\"\n",
        "lines = [re.sub(pattern, '', l) for l in lines]\n",
        "\n",
        "tokenized_lines = [regexp_tokenize(s, pattern = r\"\\w+\") for s in lines]\n",
        "\n",
        "line_num_words = [len(t_line) for t_line in tokenized_lines]\n",
        "\n",
        "plt.hist(line_num_words)\n",
        "\n",
        "plt.show()"
      ],
      "metadata": {
        "colab": {
          "base_uri": "https://localhost:8080/",
          "height": 430
        },
        "id": "NqaWhcWmynPl",
        "outputId": "7ad9d333-d162-4790-ef41-b0b075f92656"
      },
      "execution_count": 58,
      "outputs": [
        {
          "output_type": "display_data",
          "data": {
            "text/plain": [
              "<Figure size 640x480 with 1 Axes>"
            ],
            "image/png": "[encoded data removed]"
          },
          "metadata": {}
        }
      ]
    },
    {
      "cell_type": "code",
      "source": [
        "Counter(word_tokenize(\"The cat is in the box. The cat box.\"))"
      ],
      "metadata": {
        "id": "LdqC0BMLynI9",
        "colab": {
          "base_uri": "https://localhost:8080/"
        },
        "outputId": "b6edcb54-5001-4d04-c3b7-85e4823227fe"
      },
      "execution_count": 59,
      "outputs": [
        {
          "output_type": "execute_result",
          "data": {
            "text/plain": [
              "Counter({'The': 2, 'cat': 2, 'is': 1, 'in': 1, 'the': 1, 'box': 2, '.': 2})"
            ]
          },
          "metadata": {},
          "execution_count": 59
        }
      ]
    },
    {
      "cell_type": "code",
      "source": [
        "debugging_article = get_text(\"https://raw.githubusercontent.com/KOSETTPAI/Internship/main/text%20files/wiki_text_debugging.txt\")\n",
        "debugging_article"
      ],
      "metadata": {
        "id": "lVSMXAngym9V",
        "colab": {
          "base_uri": "https://localhost:8080/",
          "height": 105
        },
        "outputId": "0535667d-67cd-417f-cb0d-ae52729a5513"
      },
      "execution_count": 60,
      "outputs": [
        {
          "output_type": "execute_result",
          "data": {
            "text/plain": [
              "'\\'\\'\\'Debugging\\'\\'\\' is the process of finding and resolving of defects that prevent correct operation of computer software or a system.  \\n\\nNumerous books have been written about debugging (see below: #Further reading|Further reading), as it involves numerous aspects, including interactive debugging, control flow, integration testing, Logfile|log files, monitoring (Application monitoring|application, System Monitoring|system), memory dumps, Profiling (computer programming)|profiling, Statistical Process Control, and special design tactics to improve detection while simplifying changes.\\n\\nOrigin\\nA computer log entry from the Mark&nbsp;II, with a moth taped to the page\\n\\nThe terms \"bug\" and \"debugging\" are popularly attributed to Admiral Grace Hopper in the 1940s.[http://foldoc.org/Grace+Hopper Grace Hopper]  from FOLDOC While she was working on a Harvard Mark II|Mark II Computer at Harvard University, her associates discovered a moth stuck in a relay and thereby impeding operation, whereupon she remarked that they were \"debugging\" the system. However the term \"bug\" in the meaning of technical error dates back at least to 1878 and Thomas Edison (see software bug for a full discussion), and \"debugging\" seems to have been used as a term in aeronautics before entering the world of computers. Indeed, in an interview Grace Hopper remarked that she was not coining the term{{Citation needed|date=July 2015}}. The moth fit the already existing terminology, so it was saved.  A letter from J. Robert Oppenheimer (director of the WWII atomic bomb \"Manhattan\" project at Los Alamos, NM) used the term in a letter to Dr. Ernest Lawrence at UC Berkeley, dated October 27, 1944,http://bancroft.berkeley.edu/Exhibits/physics/images/bigscience25.jpg regarding the recruitment of additional technical staff.\\n\\nThe Oxford English Dictionary entry for \"debug\" quotes the term \"debugging\" used in reference to airplane engine testing in a 1945 article in the Journal of the Royal Aeronautical Society. An article in \"Airforce\" (June 1945 p.&nbsp;50) also refers to debugging, this time of aircraft cameras.  Hopper\\'s computer bug|bug was found on September 9, 1947. The term was not adopted by computer programmers until the early 1950s.\\nThe seminal article by GillS. Gill, [http://www.jstor.org/stable/98663 The Diagnosis of Mistakes in Programmes on the EDSAC], Proceedings of the Royal Society of London. Series A, Mathematical and Physical Sciences, Vol. 206, No. 1087 (May 22, 1951), pp. 538-554 in 1951 is the earliest in-depth discussion of programming errors, but it does not use the term \"bug\" or \"debugging\".\\nIn the Association for Computing Machinery|ACM\\'s digital library, the term \"debugging\" is first used in three papers from 1952 ACM National Meetings.Robert V. D. Campbell, [http://portal.acm.org/citation.cfm?id=609784.609786 Evolution of automatic computation], Proceedings of the 1952 ACM national meeting (Pittsburgh), p 29-32, 1952.Alex Orden, [http://portal.acm.org/citation.cfm?id=609784.609793 Solution of systems of linear inequalities on a digital computer], Proceedings of the 1952 ACM national meeting (Pittsburgh), p. 91-95, 1952.Howard B. Demuth, John B. Jackson, Edmund Klein, N. Metropolis, Walter Orvedahl, James H. Richardson, [http://portal.acm.org/citation.cfm?id=800259.808982 MANIAC], Proceedings of the 1952 ACM national meeting (Toronto), p. 13-16 Two of the three use the term in quotation marks.\\nBy 1963 \"debugging\" was a common enough term to be mentioned in passing without explanation on page 1 of the Compatible Time-Sharing System|CTSS manual.[http://www.bitsavers.org/pdf/mit/ctss/CTSS_ProgrammersGuide.pdf The Compatible Time-Sharing System], M.I.T. Press, 1963\\n\\nKidwell\\'s article \\'\\'Stalking the Elusive Computer Bug\\'\\'Peggy Aldrich Kidwell, [http://ieeexplore.ieee.org/xpl/freeabs_all.jsp?tp=&arnumber=728224&isnumber=15706 Stalking the Elusive Computer Bug], IEEE Annals of the History of Computing, 1998. discusses the etymology of \"bug\" and \"debug\" in greater detail.\\n\\nScope\\nAs software and electronic systems have become generally more complex, the various common debugging techniques have expanded with more methods to detect anomalies, assess impact, and schedule software patches or full updates to a system. The words \"anomaly\" and \"discrepancy\" can be used, as being more neutral terms, to avoid the words \"error\" and \"defect\" or \"bug\" where there might be an implication that all so-called \\'\\'errors\\'\\', \\'\\'defects\\'\\' or \\'\\'bugs\\'\\' must be fixed (at all costs). Instead, an impact assessment can be made to determine if changes to remove an \\'\\'anomaly\\'\\' (or \\'\\'discrepancy\\'\\') would be cost-effective for the system, or perhaps a scheduled new release might render the change(s) unnecessary. Not all issues are life-critical or mission-critical in a system. Also, it is important to avoid the situation where a change might be more upsetting to users, long-term, than living with the known problem(s) (where the \"cure would be worse than the disease\"). Basing decisions of the acceptability of some anomalies can avoid a culture of a \"zero-defects\" mandate, where people might be tempted to deny the existence of problems so that the result would appear as zero \\'\\'defects\\'\\'. Considering the collateral issues, such as the cost-versus-benefit impact assessment, then broader debugging techniques will expand to determine the frequency of anomalies (how often the same \"bugs\" occur) to help assess their impact to the overall system.\\n\\nTools\\nDebugging on video game consoles is usually done with special hardware such as this Xbox (console)|Xbox debug unit intended for developers.\\n\\nDebugging ranges in complexity from fixing simple errors to performing lengthy and tiresome tasks of data collection, analysis, and scheduling updates.  The debugging skill of the programmer can be a major factor in the ability to debug a problem, but the difficulty of software debugging varies greatly with the complexity of the system, and also depends, to some extent, on the programming language(s) used and the available tools, such as \\'\\'debuggers\\'\\'. Debuggers are software tools which enable the programmer to monitor the execution (computers)|execution of a program, stop it, restart it, set breakpoints, and change values in memory. The term \\'\\'debugger\\'\\' can also refer to the person who is doing the debugging.\\n\\nGenerally, high-level programming languages, such as Java (programming language)|Java, make debugging easier, because they have features such as exception handling that make real sources of erratic behaviour easier to spot. In programming languages such as C (programming language)|C or assembly language|assembly, bugs may cause silent problems such as memory corruption, and it is often difficult to see where the initial problem happened. In those cases, memory debugging|memory debugger tools may be needed.\\n\\nIn certain situations, general purpose software tools that are language specific in nature can be very useful.  These take the form of \\'\\'List of tools for static code analysis|static code analysis tools\\'\\'.  These tools look for a very specific set of known problems, some common and some rare, within the source code.  All such issues detected by these tools would rarely be picked up by a compiler or interpreter, thus they are not syntax checkers, but more semantic checkers.  Some tools claim to be able to detect 300+ unique problems. Both commercial and free tools exist in various languages.  These tools can be extremely useful when checking very large source trees, where it is impractical to do code walkthroughs.  A typical example of a problem detected would be a variable dereference that occurs \\'\\'before\\'\\' the variable is assigned a value.  Another example would be to perform strong type checking when the language does not require such.  Thus, they are better at locating likely errors, versus actual errors.  As a result, these tools have a reputation of false positives.  The old Unix \\'\\'Lint programming tool|lint\\'\\' program is an early example.\\n\\nFor debugging electronic hardware (e.g., computer hardware) as well as low-level software (e.g., BIOSes, device drivers) and firmware, instruments such as oscilloscopes, logic analyzers or in-circuit emulator|in-circuit emulators (ICEs) are often used, alone or in combination.  An ICE may perform many of the typical software debugger\\'s tasks on low-level software and firmware.\\n\\nDebugging process \\nNormally the first step in debugging is to attempt to reproduce the problem. This can be a non-trivial task, for example as with Parallel computing|parallel processes or some unusual software bugs. Also, specific user environment and usage history can make it difficult to reproduce the problem.\\n\\nAfter the bug is reproduced, the input of the program may need to be simplified to make it easier to debug. For example, a bug in a compiler can make it Crash (computing)|crash when parsing some large source file. However, after simplification of the test case, only few lines from the original source file can be sufficient to reproduce the same crash. Such simplification can be made manually, using a Divide and conquer algorithm|divide-and-conquer approach. The programmer will try to remove some parts of original test case and check if the problem still exists. When debugging the problem in a Graphical user interface|GUI, the programmer can try to skip some user interaction from the original problem description and check if remaining actions are sufficient for bugs to appear.\\n\\nAfter the test case is sufficiently simplified, a programmer can use a debugger tool to examine program states (values of variables, plus the call stack) and track down the origin of the problem(s). Alternatively, Tracing (software)|tracing can be used. In simple cases, tracing is just a few print statements, which output the values of variables at certain points of program execution.{{citation needed|date=February 2016}}\\n\\n Techniques \\n \\'\\'Interactive debugging\\'\\'\\n \\'\\'{{visible anchor|Print debugging}}\\'\\' (or tracing) is the act of watching (live or recorded) trace statements, or print statements, that indicate the flow of execution of a process. This is sometimes called \\'\\'{{visible anchor|printf debugging}}\\'\\', due to the use of the printf function in C. This kind of debugging was turned on by the command TRON in the original versions of the novice-oriented BASIC programming language. TRON stood for, \"Trace On.\" TRON caused the line numbers of each BASIC command line to print as the program ran.\\n \\'\\'Remote debugging\\'\\' is the process of debugging a program running on a system different from the debugger. To start remote debugging, a debugger connects to a remote system over a network. The debugger can then control the execution of the program on the remote system and retrieve information about its state.\\n \\'\\'Post-mortem debugging\\'\\' is debugging of the program after it has already Crash (computing)|crashed. Related techniques often include various tracing techniques (for example,[http://www.drdobbs.com/tools/185300443 Postmortem Debugging, Stephen Wormuller, Dr. Dobbs Journal, 2006]) and/or analysis of memory dump (or core dump) of the crashed process. The dump of the process could be obtained automatically by the system (for example, when process has terminated due to an unhandled exception), or by a programmer-inserted instruction, or manually by the interactive user.\\n \\'\\'\"Wolf fence\" algorithm:\\'\\' Edward Gauss described this simple but very useful and now famous algorithm in a 1982 article for communications of the ACM as follows: \"There\\'s one wolf in Alaska; how do you find it? First build a fence down the middle of the state, wait for the wolf to howl, determine which side of the fence it is on. Repeat process on that side only, until you get to the point where you can see the wolf.\"<ref name=\"communications of the ACM\">{{cite journal | title=\"Pracniques: The \"Wolf Fence\" Algorithm for Debugging\", | author=E. J. Gauss | year=1982}} This is implemented e.g. in the Git (software)|Git version control system as the command \\'\\'git bisect\\'\\', which uses the above algorithm to determine which Commit (data management)|commit introduced a particular bug.\\n \\'\\'Delta Debugging\\'\\'{{snd}} a technique of automating test case simplification.Andreas Zeller: <cite>Why Programs Fail: A Guide to Systematic Debugging</cite>, Morgan Kaufmann, 2005. ISBN 1-55860-866-4{{rp|p.123}}<!-- for redirect from \\'Saff Squeeze\\' -->\\n \\'\\'Saff Squeeze\\'\\'{{snd}} a technique of isolating failure within the test using progressive inlining of parts of the failing test.[http://www.threeriversinstitute.org/HitEmHighHitEmLow.html Kent Beck, Hit \\'em High, Hit \\'em Low: Regression Testing and the Saff Squeeze]\\n\\nDebugging for embedded systems\\nIn contrast to the general purpose computer software design environment, a primary characteristic of embedded environments is the sheer number of different platforms available to the developers (CPU architectures, vendors, operating systems and their variants). Embedded systems are, by definition, not general-purpose designs: they are typically developed for a single task (or small range of tasks), and the platform is chosen specifically to optimize that application. Not only does this fact make life tough for embedded system developers, it also makes debugging and testing of these systems harder as well, since different debugging tools are needed in different platforms.\\n\\nto identify and fix bugs in the system (e.g. logical or synchronization problems in the code, or a design error in the hardware);\\nto collect information about the operating states of the system that may then be used to analyze the system: to find ways to boost its performance or to optimize other important characteristics (e.g. energy consumption, reliability, real-time response etc.).\\n\\nAnti-debugging\\nAnti-debugging is \"the implementation of one or more techniques within computer code that hinders attempts at reverse engineering or debugging a target process\".<ref name=\"veracode-antidebugging\">{{cite web |url=http://www.veracode.com/blog/2008/12/anti-debugging-series-part-i/ |title=Anti-Debugging Series - Part I |last=Shields |first=Tyler |date=2008-12-02 |work=Veracode |accessdate=2009-03-17}} It is actively used by recognized publishers in copy protection|copy-protection schemas, but is also used by malware to complicate its detection and elimination.<ref name=\"soft-prot\">[http://people.seas.harvard.edu/~mgagnon/software_protection_through_anti_debugging.pdf Software Protection through Anti-Debugging Michael N Gagnon, Stephen Taylor, Anup Ghosh] Techniques used in anti-debugging include:\\nAPI-based: check for the existence of a debugger using system information\\nException-based: check to see if exceptions are interfered with\\nProcess and thread blocks: check whether process and thread blocks have been manipulated\\nModified code: check for code modifications made by a debugger handling software breakpoints\\nHardware- and register-based: check for hardware breakpoints and CPU registers\\nTiming and latency: check the time taken for the execution of instructions\\nDetecting and penalizing debugger<ref name=\"soft-prot\" /><!-- reference does not exist -->\\n\\nAn early example of anti-debugging existed in early versions of Microsoft Word which, if a debugger was detected, produced a message that said: \"The tree of evil bears bitter fruit. Now trashing program disk.\", after which it caused the floppy disk drive to emit alarming noises with the intent of scaring the user away from attempting it again.<ref name=\"SecurityEngineeringRA\">{{cite book | url=http://www.cl.cam.ac.uk/~rja14/book.html | author=Ross J. Anderson | title=Security Engineering | isbn = 0-471-38922-6 | page=684 }}<ref name=\"toastytech\">{{cite web | url=http://toastytech.com/guis/word1153.html | title=Microsoft Word for DOS 1.15}}\\n'"
            ],
            "application/vnd.google.colaboratory.intrinsic+json": {
              "type": "string"
            }
          },
          "metadata": {},
          "execution_count": 60
        }
      ]
    },
    {
      "cell_type": "code",
      "source": [
        "tokens = word_tokenize(debugging_article)\n",
        "\n",
        "lower_tokens = [t.lower() for t in tokens]\n",
        "\n",
        "bow_simple = Counter(lower_tokens)\n",
        "\n",
        "print(bow_simple.most_common(10))"
      ],
      "metadata": {
        "colab": {
          "base_uri": "https://localhost:8080/"
        },
        "id": "OBOYSO2iGIZ0",
        "outputId": "20dbd27d-a3a0-4365-e44e-a4679402b5c7"
      },
      "execution_count": 61,
      "outputs": [
        {
          "output_type": "stream",
          "name": "stdout",
          "text": [
            "[(',', 151), ('the', 150), ('.', 89), ('of', 81), (\"''\", 69), ('to', 63), ('a', 60), ('``', 47), ('in', 44), ('and', 41)]\n"
          ]
        }
      ]
    },
    {
      "cell_type": "code",
      "source": [
        "alpha_only = [t for t in lower_tokens if t.isalpha()]\n",
        "\n",
        "no_stops = [t for t in alpha_only if t not in english_stops]\n",
        "\n",
        "wordnet_lemmatizer = WordNetLemmatizer()\n",
        "\n",
        "lemmatized = [wordnet_lemmatizer.lemmatize(t) for t in no_stops]\n",
        "\n",
        "bow = Counter(lemmatized)\n",
        "\n",
        "print(bow.most_common(10))"
      ],
      "metadata": {
        "colab": {
          "base_uri": "https://localhost:8080/"
        },
        "id": "b1rDUfV7GIVb",
        "outputId": "7cf06f0e-5e4b-4ee3-c63a-a6639f4d1e88"
      },
      "execution_count": 62,
      "outputs": [
        {
          "output_type": "stream",
          "name": "stdout",
          "text": [
            "[('debugging', 39), ('system', 25), ('bug', 17), ('software', 16), ('problem', 15), ('tool', 15), ('computer', 14), ('process', 13), ('term', 13), ('debugger', 13)]\n"
          ]
        }
      ]
    },
    {
      "cell_type": "code",
      "source": [
        "my_corpus = []"
      ],
      "metadata": {
        "id": "Wezw85svGH87"
      },
      "execution_count": 63,
      "outputs": []
    },
    {
      "cell_type": "code",
      "source": [
        "links = [\"https://raw.githubusercontent.com/KOSETTPAI/Internship/main/text%20files/wiki_text_bug.txt\",\n",
        "         \"https://raw.githubusercontent.com/KOSETTPAI/Internship/main/text%20files/wiki_text_computer.txt\",\n",
        "         \"https://raw.githubusercontent.com/KOSETTPAI/Internship/main/text%20files/wiki_text_debugger.txt\",\n",
        "         \"https://raw.githubusercontent.com/KOSETTPAI/Internship/main/text%20files/wiki_text_debugging.txt\",\n",
        "         \"https://raw.githubusercontent.com/KOSETTPAI/Internship/main/text%20files/wiki_text_exception.txt\",\n",
        "         \"https://raw.githubusercontent.com/KOSETTPAI/Internship/main/text%20files/wiki_text_hopper.txt\",\n",
        "         \"https://raw.githubusercontent.com/KOSETTPAI/Internship/main/text%20files/wiki_text_language.txt\",\n",
        "         \"https://raw.githubusercontent.com/KOSETTPAI/Internship/main/text%20files/wiki_text_malware.txt\",\n",
        "         \"https://raw.githubusercontent.com/KOSETTPAI/Internship/main/text%20files/wiki_text_program.txt\",\n",
        "         \"https://raw.githubusercontent.com/KOSETTPAI/Internship/main/text%20files/wiki_text_reversing.txt\",\n",
        "         \"https://raw.githubusercontent.com/KOSETTPAI/Internship/main/text%20files/wiki_text_software.txt\"]"
      ],
      "metadata": {
        "id": "wcawlXbOGHu8"
      },
      "execution_count": 64,
      "outputs": []
    },
    {
      "cell_type": "code",
      "source": [
        "for link in links:\n",
        "  article = get_text(link)\n",
        "\n",
        "  tokens = word_tokenize(article)\n",
        "\n",
        "  lower_tokens = [t.lower() for t in tokens]\n",
        "\n",
        "  alpha_only = [t for t in lower_tokens if t.isalpha()]\n",
        "\n",
        "  no_stops = [t for t in alpha_only if t not in english_stops]\n",
        "\n",
        "  wordnet_lemmatizer = WordNetLemmatizer()\n",
        "\n",
        "  lemmatized = [wordnet_lemmatizer.lemmatize(t) for t in no_stops]\n",
        "\n",
        "  my_corpus.append(lemmatized)"
      ],
      "metadata": {
        "id": "BZ_WoW_hGHrb"
      },
      "execution_count": 65,
      "outputs": []
    },
    {
      "cell_type": "code",
      "source": [
        "from gensim.corpora.dictionary import Dictionary\n",
        "\n",
        "dictionary = Dictionary(my_corpus)\n",
        "\n",
        "computer_id = dictionary.token2id.get(\"computer\")\n",
        "\n",
        "print(dictionary.get(computer_id))\n",
        "\n",
        "corpus = [dictionary.doc2bow(corpus) for corpus in my_corpus]\n",
        "\n",
        "print(corpus[4][:10])"
      ],
      "metadata": {
        "id": "CLAi1UZ0GHgE",
        "colab": {
          "base_uri": "https://localhost:8080/"
        },
        "outputId": "4e206f43-6603-4af2-9cd1-9d5b212f0c0c"
      },
      "execution_count": 66,
      "outputs": [
        {
          "output_type": "stream",
          "name": "stdout",
          "text": [
            "computer\n",
            "[(4, 1), (6, 1), (8, 5), (14, 1), (17, 1), (18, 2), (19, 6), (22, 3), (34, 3), (36, 1)]\n"
          ]
        }
      ]
    },
    {
      "cell_type": "code",
      "source": [
        "doc = corpus[4]\n",
        "\n",
        "bow_doc = sorted(doc, key=lambda w: w[1], reverse=True)\n",
        "\n",
        "for word_id, word_count in bow_doc[:5]:\n",
        "    print(dictionary.get(word_id), word_count)\n",
        "\n",
        "# Create the defaultdict: total_word_count\n",
        "total_word_count = defaultdict(int)\n",
        "for word_id, word_count in itertools.chain.from_iterable(corpus):\n",
        "    total_word_count[word_id] += word_count"
      ],
      "metadata": {
        "id": "XPHJg6kDGHbT",
        "colab": {
          "base_uri": "https://localhost:8080/"
        },
        "outputId": "a1310e0d-679b-4bd6-83d8-da222bc8c064"
      },
      "execution_count": 67,
      "outputs": [
        {
          "output_type": "stream",
          "name": "stdout",
          "text": [
            "exception 274\n",
            "handling 84\n",
            "language 69\n",
            "code 66\n",
            "http 56\n"
          ]
        }
      ]
    },
    {
      "cell_type": "code",
      "source": [
        "tfidf = TfidfModel(corpus)\n",
        "\n",
        "tfidf_weights = tfidf[doc]\n",
        "\n",
        "print(tfidf_weights[:5])\n",
        "\n",
        "sorted_tfidf_weights = sorted(tfidf_weights, key=lambda w: w[1], reverse=True)\n",
        "\n",
        "for term_id, weight in sorted_tfidf_weights[:5]:\n",
        "    print(dictionary.get(term_id), weight)"
      ],
      "metadata": {
        "id": "-h-z8WLYGHYE",
        "colab": {
          "base_uri": "https://localhost:8080/"
        },
        "outputId": "8b0bc579-3721-4382-861a-a0bace4d8fd8"
      },
      "execution_count": 68,
      "outputs": [
        {
          "output_type": "stream",
          "name": "stdout",
          "text": [
            "[(4, 0.0005907469493601889), (6, 0.005018544100812155), (8, 0.014890070300692263), (14, 0.0017843805047493204), (17, 0.0017843805047493204)]\n",
            "exception 0.8159758524779359\n",
            "handling 0.25015318105163\n",
            "handler 0.20471315010308994\n",
            "checked 0.16235870525417476\n",
            "resumption 0.10588611212228789\n"
          ]
        }
      ]
    },
    {
      "cell_type": "code",
      "source": [],
      "metadata": {
        "id": "e_MiH4IgGHVb"
      },
      "execution_count": 68,
      "outputs": []
    },
    {
      "cell_type": "code",
      "source": [],
      "metadata": {
        "id": "DZykX9NO-Co_"
      },
      "execution_count": 68,
      "outputs": []
    },
    {
      "cell_type": "code",
      "source": [],
      "metadata": {
        "id": "Yatm2rvb-Ck4"
      },
      "execution_count": 68,
      "outputs": []
    },
    {
      "cell_type": "code",
      "source": [
        "uber_article = get_text(\"https://raw.githubusercontent.com/KOSETTPAI/Internship/main/text%20files/uber_apple.txt\")"
      ],
      "metadata": {
        "id": "Y79Wy-Lb-Cf3"
      },
      "execution_count": 69,
      "outputs": []
    },
    {
      "cell_type": "code",
      "source": [
        "sentences = sent_tokenize(uber_article)\n",
        "\n",
        "token_sentences = [word_tokenize(sent) for sent in sentences]\n",
        "\n",
        "pos_sentences = [nltk.pos_tag(sent) for sent in token_sentences]\n",
        "\n",
        "chunked_sentences = nltk.ne_chunk_sents(pos_sentences, binary = True)\n",
        "\n",
        "for sent in chunked_sentences:\n",
        "    for chunk in sent:\n",
        "        if hasattr(chunk, \"label\") and chunk.label() == \"NE\":\n",
        "            print(chunk)"
      ],
      "metadata": {
        "id": "ndtS74dSGHSk",
        "colab": {
          "base_uri": "https://localhost:8080/"
        },
        "outputId": "54e79617-34cb-4253-dccf-57db252648df"
      },
      "execution_count": 78,
      "outputs": [
        {
          "output_type": "stream",
          "name": "stdout",
          "text": [
            "(NE Uber/NNP)\n",
            "(NE Beyond/NN)\n",
            "(NE Apple/NNP)\n",
            "(NE Uber/NNP)\n",
            "(NE Uber/NNP)\n",
            "(NE Travis/NNP Kalanick/NNP)\n",
            "(NE Tim/NNP Cook/NNP)\n",
            "(NE Apple/NNP)\n",
            "(NE Silicon/NNP Valley/NNP)\n",
            "(NE CEO/NNP)\n",
            "(NE Yahoo/NNP)\n",
            "(NE Marissa/NNP Mayer/NNP)\n"
          ]
        }
      ]
    },
    {
      "cell_type": "code",
      "source": [
        "sentences = sent_tokenize(uber_article)\n",
        "\n",
        "token_sentences = [word_tokenize(sent) for sent in sentences]\n",
        "\n",
        "pos_sentences = [nltk.pos_tag(sent) for sent in token_sentences]\n",
        "\n",
        "chunked_sentences = nltk.ne_chunk_sents(pos_sentences, binary = False)\n",
        "\n",
        "# Create the defaultdict: ner_categories\n",
        "ner_categories = defaultdict(int)\n",
        "\n",
        "# Create the nested for loop\n",
        "for sent in chunked_sentences:\n",
        "    for chunk in sent:\n",
        "        if hasattr(chunk, 'label'):\n",
        "            ner_categories[chunk.label()] += 1\n",
        "\n",
        "# Create a list from the dictionary keys for the chart labels: labels\n",
        "labels = list(ner_categories.keys())\n",
        "\n",
        "# Create a list of the values: values\n",
        "values = [ner_categories.get(v) for v in labels]\n",
        "\n",
        "# Create the pie chart\n",
        "plt.pie(values, labels=labels, autopct='%1.1f%%', startangle=140)\n",
        "\n",
        "# Display the chart\n",
        "plt.show()"
      ],
      "metadata": {
        "id": "ZynnkbmwGHQE",
        "colab": {
          "base_uri": "https://localhost:8080/",
          "height": 406
        },
        "outputId": "a8f174ab-48d9-4d2a-c6e5-6ed685f163a2"
      },
      "execution_count": 82,
      "outputs": [
        {
          "output_type": "display_data",
          "data": {
            "text/plain": [
              "<Figure size 640x480 with 1 Axes>"
            ],
            "image/png": "[encoded data removed]"
          },
          "metadata": {}
        }
      ]
    },
    {
      "cell_type": "code",
      "source": [],
      "metadata": {
        "id": "wiPSLaDVGHKs"
      },
      "execution_count": 68,
      "outputs": []
    },
    {
      "cell_type": "code",
      "source": [
        "nlp = spacy.load('en_core_web_sm', disable=['tagger', 'parser', 'matcher'])\n",
        "\n",
        "doc = nlp(uber_article)\n",
        "\n",
        "for ent in doc.ents:\n",
        "    print(ent.label_, ent.text)"
      ],
      "metadata": {
        "id": "aYnwx4LAGHH7",
        "colab": {
          "base_uri": "https://localhost:8080/"
        },
        "outputId": "3c912058-bde5-4297-af2c-fd1c4062f1b7"
      },
      "execution_count": 85,
      "outputs": [
        {
          "output_type": "stream",
          "name": "stdout",
          "text": [
            "ORG Apple\n",
            "PERSON Uber\n",
            "PERSON Travis Kalanick\n",
            "ORG Uber\n",
            "PERSON Tim Cook\n",
            "ORG Apple\n",
            "CARDINAL Millions\n",
            "ORG Uber\n",
            "LOC Silicon Valley’s\n",
            "NORP democratic\n",
            "ORG Yahoo\n",
            "PERSON Marissa Mayer\n",
            "MONEY 186\n"
          ]
        }
      ]
    },
    {
      "cell_type": "code",
      "source": [
        "french = get_text(\"https://raw.githubusercontent.com/KOSETTPAI/Internship/main/text%20files/french.txt\")"
      ],
      "metadata": {
        "id": "EceiKFJgGHCM"
      },
      "execution_count": 101,
      "outputs": []
    },
    {
      "cell_type": "code",
      "source": [
        "txt = Text(french)\n",
        "\n",
        "for ent in txt.entities:\n",
        "    print(ent)\n",
        "\n",
        "print(type(ent))"
      ],
      "metadata": {
        "colab": {
          "base_uri": "https://localhost:8080/"
        },
        "id": "FIH5lplvRlcD",
        "outputId": "8a311802-6f47-4b2b-8bbc-ec8a8525f895"
      },
      "execution_count": 107,
      "outputs": [
        {
          "output_type": "stream",
          "name": "stdout",
          "text": [
            "['Charles', 'Cuvelliez']\n",
            "['Charles', 'Cuvelliez']\n",
            "['Bruxelles']\n",
            "['l’IA']\n",
            "['Julien', 'Maldonato']\n",
            "['Deloitte']\n",
            "['Ethiquement']\n",
            "['l’IA']\n",
            "['.']\n",
            "<class 'polyglot.text.Chunk'>\n"
          ]
        }
      ]
    },
    {
      "cell_type": "code",
      "source": [
        "entities = [(ent.tag, ' '.join(ent)) for ent in txt.entities]\n",
        "\n",
        "print(entities)"
      ],
      "metadata": {
        "id": "CC5ikaHsGG_U",
        "colab": {
          "base_uri": "https://localhost:8080/"
        },
        "outputId": "1b525110-c5b1-4a16-b7e6-a5e5068fee55"
      },
      "execution_count": 108,
      "outputs": [
        {
          "output_type": "stream",
          "name": "stdout",
          "text": [
            "[('I-PER', 'Charles Cuvelliez'), ('I-PER', 'Charles Cuvelliez'), ('I-ORG', 'Bruxelles'), ('I-PER', 'l’IA'), ('I-PER', 'Julien Maldonato'), ('I-ORG', 'Deloitte'), ('I-PER', 'Ethiquement'), ('I-LOC', 'l’IA'), ('I-PER', '.')]\n"
          ]
        }
      ]
    },
    {
      "cell_type": "code",
      "source": [
        "txt = Text(\"\"\"Lina del Castillo es profesora en el Instituto de Estudios Latinoamericanos Teresa Lozano Long (LLILAS) y el Departamento de Historia de la Universidad de Texas en Austin.\n",
        "              Ella será la moderadora del panel “Los Mundos Políticos de Gabriel García Márquez” este viernes, Oct. 30, en el simposio Gabriel García Márquez: Vida y Legado.\n",
        "              LIna del Castillo Actualmente, sus investigaciones abarcan la intersección de cartografía, disputas a las demandas de tierra y recursos, y la formación del n...el tren de medianoche que lleva a miles y miles de cadáveres uno encima del otro como tantos racimos del banano que acabarán tirados al mar.\n",
        "              Ningún recuento periodístico podría provocar nuestra imaginación y nuestra memoria como este relato de García Márquez.\n",
        "              Contenido Relacionado Lea más artículos sobre el archivo de Gabriel García Márquez Reciba mensualmente las últimas noticias e información del Harry Ransom Center con eNews, nuestro correo electrónico mensual.\n",
        "              ¡Suscríbase hoy!\"\"\")\n",
        "\n",
        "count = 0\n",
        "\n",
        "for ent in txt.entities:\n",
        "    if \"Márquez\" in ent or \"Gabo\" in ent:\n",
        "        count += 1\n",
        "\n",
        "print(count)\n",
        "\n",
        "percentage = count / len(txt.entities)\n",
        "print(percentage)"
      ],
      "metadata": {
        "id": "3ZoNw6DhGG6U",
        "colab": {
          "base_uri": "https://localhost:8080/"
        },
        "outputId": "953aacf0-83c7-4cf8-e160-7c0387572f6f"
      },
      "execution_count": 116,
      "outputs": [
        {
          "output_type": "stream",
          "name": "stdout",
          "text": [
            "4\n",
            "0.26666666666666666\n"
          ]
        }
      ]
    },
    {
      "cell_type": "code",
      "source": [],
      "metadata": {
        "id": "W_kWECkRGG27"
      },
      "execution_count": 68,
      "outputs": []
    },
    {
      "cell_type": "code",
      "source": [],
      "metadata": {
        "id": "lZCHuBSxym6A"
      },
      "execution_count": 68,
      "outputs": []
    },
    {
      "cell_type": "code",
      "source": [],
      "metadata": {
        "id": "XZbQ61-0ym2m"
      },
      "execution_count": 68,
      "outputs": []
    }
  ]
}