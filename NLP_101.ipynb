{
  "nbformat": 4,
  "nbformat_minor": 0,
  "metadata": {
    "colab": {
      "provenance": [],
      "authorship_tag": "ABX9TyODb5jdWmYEaFkRLgvTK7zw",
      "include_colab_link": true
    },
    "kernelspec": {
      "name": "python3",
      "display_name": "Python 3"
    },
    "language_info": {
      "name": "python"
    }
  },
  "cells": [
    {
      "cell_type": "markdown",
      "metadata": {
        "id": "view-in-github",
        "colab_type": "text"
      },
      "source": [
        "<a href=\"https://colab.research.google.com/github/KOSETTPAI/Internship/blob/main/NLP_101.ipynb\" target=\"_parent\"><img src=\"https://colab.research.google.com/assets/colab-badge.svg\" alt=\"Open In Colab\"/></a>"
      ]
    },
    {
      "cell_type": "markdown",
      "source": [
        "# Libararies"
      ],
      "metadata": {
        "id": "6h-uwpvw-WRB"
      }
    },
    {
      "cell_type": "code",
      "source": [
        "import re\n",
        "\n",
        "from nltk.tokenize import sent_tokenize\n",
        "from nltk.tokenize import word_tokenize"
      ],
      "metadata": {
        "id": "2hNEPwcp-RU6"
      },
      "execution_count": 1,
      "outputs": []
    },
    {
      "cell_type": "markdown",
      "source": [
        "## Regular Expression"
      ],
      "metadata": {
        "id": "I6LDBODL48r6"
      }
    },
    {
      "cell_type": "code",
      "execution_count": 2,
      "metadata": {
        "colab": {
          "base_uri": "https://localhost:8080/"
        },
        "id": "CeqMJfci4FBn",
        "outputId": "b642a133-46ea-497f-a1df-de19b20b42fa"
      },
      "outputs": [
        {
          "output_type": "execute_result",
          "data": {
            "text/plain": [
              "['Let', 's', 'write', 'RegEx']"
            ]
          },
          "metadata": {},
          "execution_count": 2
        }
      ],
      "source": [
        "my_string = \"Let's write RegEx!\"\n",
        "re.findall(r\"\\w+\", my_string)"
      ]
    },
    {
      "cell_type": "code",
      "source": [
        "my_string = \"Let's write RegEx!  Won't that be fun?  I sure think so.  Can you find 4 sentences?  Or perhaps, all 19 words?\"\n",
        "\n",
        "sentence_endings = r\"[.?!]\"\n",
        "print(re.split(sentence_endings, my_string))\n",
        "\n",
        "capitalized_words = r\"[A-Z]\\w+\"\n",
        "print(re.findall(capitalized_words, my_string))\n",
        "\n",
        "spaces = r\"\\s+\"\n",
        "print(re.split(spaces, my_string))\n",
        "\n",
        "digits = r\"\\d+\"\n",
        "print(re.findall(digits, my_string))"
      ],
      "metadata": {
        "colab": {
          "base_uri": "https://localhost:8080/"
        },
        "id": "L1qegSk05NtJ",
        "outputId": "547d98aa-ada1-4b7b-85d2-f7ede4fdc4a2"
      },
      "execution_count": 3,
      "outputs": [
        {
          "output_type": "stream",
          "name": "stdout",
          "text": [
            "[\"Let's write RegEx\", \"  Won't that be fun\", '  I sure think so', '  Can you find 4 sentences', '  Or perhaps, all 19 words', '']\n",
            "['Let', 'RegEx', 'Won', 'Can', 'Or']\n",
            "[\"Let's\", 'write', 'RegEx!', \"Won't\", 'that', 'be', 'fun?', 'I', 'sure', 'think', 'so.', 'Can', 'you', 'find', '4', 'sentences?', 'Or', 'perhaps,', 'all', '19', 'words?']\n",
            "['4', '19']\n"
          ]
        }
      ]
    },
    {
      "cell_type": "code",
      "source": [
        "scene_one = \"\"\"SCENE 1: [wind] [clop clop clop]\n",
        "               KING ARTHUR: Whoa there!  [clop clop clop]\n",
        "               SOLDIER #1: Halt!  Who goes there?\n",
        "               ARTHUR: It is I, Arthur, son of Uther Pendragon, from the castle of Camelot.  King of the Britons, defeator of the Saxons, sovereign of all England!\n",
        "               SOLDIER #1: Pull the other one!\n",
        "               ARTHUR: I am, ...  and this is my trusty servant Patsy.  We have ridden the length and breadth of the land in search of knights who will join me in my court at Camelot.  I must speak with your lord and master.\n",
        "               SOLDIER #1: What?  Ridden on a horse?\n",
        "               ARTHUR: Yes!\n",
        "               SOLDIER #1: You're using coconuts!\n",
        "               ARTHUR: What?\n",
        "               SOLDIER #1: You've got two empty halves of coconut and you're bangin' 'em together.\n",
        "               ARTHUR: So?  We have ridden since the snows of winter covered this land, through the kingdom of Mercea, through--\n",
        "               SOLDIER #1: Where'd you get the coconuts?\n",
        "               ARTHUR: We found them.\n",
        "               SOLDIER #1: Found them?  In Mercea?  The coconut's tropical!\n",
        "               ARTHUR: What do you mean?\n",
        "               SOLDIER #1: Well, this is a temperate zone.\n",
        "               ARTHUR: The swallow may fly south with the sun or the house martin or the plover may seek warmer climes in winter, yet these are not strangers to our land?\n",
        "               SOLDIER #1: Are you suggesting coconuts migrate?\n",
        "               ARTHUR: Not at all.  They could be carried.\n",
        "               SOLDIER #1: What?  A swallow carrying a coconut?\n",
        "               ARTHUR: It could grip it by the husk!\n",
        "               SOLDIER #1: It's not a question of where he grips it!  It's a simple question of weight ratios!  A five ounce bird could not carry a one pound coconut.\n",
        "               ARTHUR: Well, it doesn't matter.  Will you go and tell your master that Arthur from the Court of Camelot is here.\n",
        "               SOLDIER #1: Listen.  In order to maintain air-speed velocity, a swallow needs to beat its wings forty-three times every second, right?\n",
        "               ARTHUR: Please!\n",
        "               SOLDIER #1: Am I right?\n",
        "               ARTHUR: I'm not interested!\n",
        "               SOLDIER #2: It could be carried by an African swallow!\n",
        "               SOLDIER #1: Oh, yeah, an African swallow maybe, but not a European swallow.  That's my point.\n",
        "               SOLDIER #2: Oh, yeah, I agree with that.\n",
        "               ARTHUR: Will you ask your master if he wants to join my court at Camelot?!\n",
        "               SOLDIER #1: But then of course a-- African swallows are non-migratory.\n",
        "               SOLDIER #2: Oh, yeah...\n",
        "               SOLDIER #1: So they couldn't bring a coconut back anyway...  [clop clop clop]\n",
        "               SOLDIER #2: Wait a minute!  Supposing two swallows carried it together?\n",
        "               SOLDIER #1: No, they'd have to have it on a line.\n",
        "               SOLDIER #2: Well, simple!  They'd just use a strand of creeper!\n",
        "               SOLDIER #1: What, held under the dorsal guiding feathers?\n",
        "               SOLDIER #2: Well, why not?\"\"\""
      ],
      "metadata": {
        "id": "9bBcfAs06KMh"
      },
      "execution_count": 4,
      "outputs": []
    },
    {
      "cell_type": "code",
      "source": [
        "sentences = sent_tokenize(scene_one)\n",
        "\n",
        "tokenized_sent = word_tokenize(sentences[3])\n",
        "\n",
        "unique_tokens = set(word_tokenize(scene_one))\n",
        "\n",
        "print(unique_tokens)"
      ],
      "metadata": {
        "colab": {
          "base_uri": "https://localhost:8080/"
        },
        "id": "xGYmASZB9lQI",
        "outputId": "3bba95ec-5c55-4e29-a5c1-f04547df4e1e"
      },
      "execution_count": 11,
      "outputs": [
        {
          "output_type": "stream",
          "name": "stdout",
          "text": [
            "{'plover', 'of', 'halves', 'needs', 'migrate', '--', 'may', ']', \"'s\", 'Who', 'wings', 'kingdom', 'winter', 'why', '#', \"'em\", 'suggesting', '[', 'Arthur', 'warmer', 'grip', 'Found', 'ask', 'A', 'Saxons', 'me', 'or', '...', 'Halt', 'this', 'empty', 'bird', 'that', 'bring', 'non-migratory', 'air-speed', 'question', 'simple', 'two', 'by', 'its', 'Patsy', 'SOLDIER', \"'m\", 'master', 'carried', '2', 'Listen', '.', 'join', 'the', 'pound', 'husk', 'coconut', 'using', 'one', \"'re\", 'Yes', 'So', 'grips', 'yeah', 'maybe', 'England', 'other', 'Supposing', 'times', 'our', 'martin', 'Am', 'together', 'there', 'servant', 'does', 'have', 'every', 'point', 'got', 'just', 'use', 'You', 'Pendragon', 'wind', 'beat', 'ARTHUR', 'land', ',', ':', 'matter', 'horse', 'yet', 'Not', 'ridden', 'swallows', 'them', 'south', 'Wait', 'will', 'Where', 'covered', 'an', 'your', 'but', 'tell', 'strangers', 'SCENE', 'European', \"n't\", 'Will', 'son', 'It', 'forty-three', 'then', 'under', 'search', 'speak', 'are', 'Whoa', 'all', 'goes', 'order', 'velocity', 'is', 'get', 'with', 'dorsal', 'Well', 'Court', 'found', 'feathers', 'second', 'you', 'guiding', 'mean', 'temperate', 'at', 'They', 'Britons', 'trusty', \"'d\", 'maintain', 'strand', 'What', 'line', 'defeator', '!', 'could', 'Uther', 'five', 'zone', 'knights', 'castle', 'must', 'No', 'tropical', 'Oh', 'fly', 'wants', \"'ve\", 'carrying', 'weight', 'it', 'agree', 'climes', 'lord', 'In', 'these', 'back', 'The', 'That', 'KING', 'But', 'right', 'Please', 'court', 'house', 'interested', 'since', 'swallow', 'in', 'anyway', 'seek', 'ratios', 'if', 'where', 'We', 'Ridden', 'snows', 'King', 'from', 'Pull', '1', 'am', 'through', 'bangin', 'to', 'I', 'coconuts', \"'\", 'who', 'my', 'sun', 'carry', 'be', 'Are', 'minute', 'Mercea', 'they', 'African', 'and', 'creeper', 'clop', 'he', 'not', 'sovereign', 'held', 'here', 'length', '?', 'on', 'ounce', 'Camelot', 'go', 'a', 'breadth', 'do', 'course'}\n"
          ]
        }
      ]
    },
    {
      "cell_type": "code",
      "source": [
        "print(tokenized_sent)"
      ],
      "metadata": {
        "colab": {
          "base_uri": "https://localhost:8080/"
        },
        "id": "dh3IXsEhAYcP",
        "outputId": "2ac7cc29-1b86-41ef-ddf8-1c4dbcfbf810"
      },
      "execution_count": 12,
      "outputs": [
        {
          "output_type": "stream",
          "name": "stdout",
          "text": [
            "['ARTHUR', ':', 'It', 'is', 'I', ',', 'Arthur', ',', 'son', 'of', 'Uther', 'Pendragon', ',', 'from', 'the', 'castle', 'of', 'Camelot', '.']\n"
          ]
        }
      ]
    }
  ]
}