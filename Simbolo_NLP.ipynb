{
  "nbformat": 4,
  "nbformat_minor": 0,
  "metadata": {
    "colab": {
      "provenance": [],
      "authorship_tag": "ABX9TyO+Qnk7pcFRR8/Ggln4XtBN"
    },
    "kernelspec": {
      "name": "python3",
      "display_name": "Python 3"
    },
    "language_info": {
      "name": "python"
    }
  },
  "cells": [
    {
      "cell_type": "markdown",
      "source": [
        "# **Libraries and Dataset**"
      ],
      "metadata": {
        "id": "_qDCpaO8BAXR"
      }
    },
    {
      "cell_type": "code",
      "source": [
        "!pip install datasets"
      ],
      "metadata": {
        "colab": {
          "base_uri": "https://localhost:8080/"
        },
        "id": "0ai69a511tx0",
        "outputId": "60c23044-3d07-4384-c126-310251605450"
      },
      "execution_count": 1,
      "outputs": [
        {
          "output_type": "stream",
          "name": "stdout",
          "text": [
            "Requirement already satisfied: datasets in /usr/local/lib/python3.10/dist-packages (2.18.0)\n",
            "Requirement already satisfied: filelock in /usr/local/lib/python3.10/dist-packages (from datasets) (3.13.1)\n",
            "Requirement already satisfied: numpy>=1.17 in /usr/local/lib/python3.10/dist-packages (from datasets) (1.25.2)\n",
            "Requirement already satisfied: pyarrow>=12.0.0 in /usr/local/lib/python3.10/dist-packages (from datasets) (14.0.2)\n",
            "Requirement already satisfied: pyarrow-hotfix in /usr/local/lib/python3.10/dist-packages (from datasets) (0.6)\n",
            "Requirement already satisfied: dill<0.3.9,>=0.3.0 in /usr/local/lib/python3.10/dist-packages (from datasets) (0.3.8)\n",
            "Requirement already satisfied: pandas in /usr/local/lib/python3.10/dist-packages (from datasets) (1.5.3)\n",
            "Requirement already satisfied: requests>=2.19.0 in /usr/local/lib/python3.10/dist-packages (from datasets) (2.31.0)\n",
            "Requirement already satisfied: tqdm>=4.62.1 in /usr/local/lib/python3.10/dist-packages (from datasets) (4.66.2)\n",
            "Requirement already satisfied: xxhash in /usr/local/lib/python3.10/dist-packages (from datasets) (3.4.1)\n",
            "Requirement already satisfied: multiprocess in /usr/local/lib/python3.10/dist-packages (from datasets) (0.70.16)\n",
            "Requirement already satisfied: fsspec[http]<=2024.2.0,>=2023.1.0 in /usr/local/lib/python3.10/dist-packages (from datasets) (2023.6.0)\n",
            "Requirement already satisfied: aiohttp in /usr/local/lib/python3.10/dist-packages (from datasets) (3.9.3)\n",
            "Requirement already satisfied: huggingface-hub>=0.19.4 in /usr/local/lib/python3.10/dist-packages (from datasets) (0.20.3)\n",
            "Requirement already satisfied: packaging in /usr/local/lib/python3.10/dist-packages (from datasets) (23.2)\n",
            "Requirement already satisfied: pyyaml>=5.1 in /usr/local/lib/python3.10/dist-packages (from datasets) (6.0.1)\n",
            "Requirement already satisfied: aiosignal>=1.1.2 in /usr/local/lib/python3.10/dist-packages (from aiohttp->datasets) (1.3.1)\n",
            "Requirement already satisfied: attrs>=17.3.0 in /usr/local/lib/python3.10/dist-packages (from aiohttp->datasets) (23.2.0)\n",
            "Requirement already satisfied: frozenlist>=1.1.1 in /usr/local/lib/python3.10/dist-packages (from aiohttp->datasets) (1.4.1)\n",
            "Requirement already satisfied: multidict<7.0,>=4.5 in /usr/local/lib/python3.10/dist-packages (from aiohttp->datasets) (6.0.5)\n",
            "Requirement already satisfied: yarl<2.0,>=1.0 in /usr/local/lib/python3.10/dist-packages (from aiohttp->datasets) (1.9.4)\n",
            "Requirement already satisfied: async-timeout<5.0,>=4.0 in /usr/local/lib/python3.10/dist-packages (from aiohttp->datasets) (4.0.3)\n",
            "Requirement already satisfied: typing-extensions>=3.7.4.3 in /usr/local/lib/python3.10/dist-packages (from huggingface-hub>=0.19.4->datasets) (4.10.0)\n",
            "Requirement already satisfied: charset-normalizer<4,>=2 in /usr/local/lib/python3.10/dist-packages (from requests>=2.19.0->datasets) (3.3.2)\n",
            "Requirement already satisfied: idna<4,>=2.5 in /usr/local/lib/python3.10/dist-packages (from requests>=2.19.0->datasets) (3.6)\n",
            "Requirement already satisfied: urllib3<3,>=1.21.1 in /usr/local/lib/python3.10/dist-packages (from requests>=2.19.0->datasets) (2.0.7)\n",
            "Requirement already satisfied: certifi>=2017.4.17 in /usr/local/lib/python3.10/dist-packages (from requests>=2.19.0->datasets) (2024.2.2)\n",
            "Requirement already satisfied: python-dateutil>=2.8.1 in /usr/local/lib/python3.10/dist-packages (from pandas->datasets) (2.8.2)\n",
            "Requirement already satisfied: pytz>=2020.1 in /usr/local/lib/python3.10/dist-packages (from pandas->datasets) (2023.4)\n",
            "Requirement already satisfied: six>=1.5 in /usr/local/lib/python3.10/dist-packages (from python-dateutil>=2.8.1->pandas->datasets) (1.16.0)\n"
          ]
        }
      ]
    },
    {
      "cell_type": "code",
      "execution_count": 2,
      "metadata": {
        "id": "go93dR7M8cEw"
      },
      "outputs": [],
      "source": [
        "import re\n",
        "import datasets\n",
        "from datasets import load_dataset_builder, load_dataset\n",
        "\n",
        "import matplotlib.pyplot as plt\n",
        "import matplotlib.font_manager as fm"
      ]
    },
    {
      "cell_type": "code",
      "source": [
        "simbolo = dataset = load_dataset(\"Simbolo-Servicio/wiki-burmese-sentences\")\n",
        "sim_train = simbolo['train']['text']"
      ],
      "metadata": {
        "id": "pIQBY5wnBE6B",
        "colab": {
          "base_uri": "https://localhost:8080/"
        },
        "outputId": "6e364cb1-0640-470a-e746-170a95db23c5"
      },
      "execution_count": 3,
      "outputs": [
        {
          "output_type": "stream",
          "name": "stderr",
          "text": [
            "/usr/local/lib/python3.10/dist-packages/huggingface_hub/utils/_token.py:88: UserWarning: \n",
            "The secret `HF_TOKEN` does not exist in your Colab secrets.\n",
            "To authenticate with the Hugging Face Hub, create a token in your settings tab (https://huggingface.co/settings/tokens), set it as secret in your Google Colab and restart your session.\n",
            "You will be able to reuse this secret in all of your notebooks.\n",
            "Please note that authentication is recommended but still optional to access public models or datasets.\n",
            "  warnings.warn(\n"
          ]
        }
      ]
    },
    {
      "cell_type": "markdown",
      "source": [
        "# **Sayar Ye Kyaw Thu's Sylbreak**"
      ],
      "metadata": {
        "id": "pAH9Ny-6Cm5o"
      }
    },
    {
      "cell_type": "code",
      "source": [
        "def create_break_pattern():\n",
        "    \"\"\"Creates and returns the regular expression pattern for Myanmar syllable breaking.\"\"\"\n",
        "    my_consonant = r\"က-အ\"\n",
        "    en_char = r\"a-zA-Z0-9\"\n",
        "    other_char = r\"ဣဤဥဦဧဩဪဿ၌၍၏၀-၉၊။!-/:-@[-`{-~\\s\"\n",
        "    subscript_symbol = r'္'\n",
        "    a_that = r'်'\n",
        "\n",
        "    # Regular expression pattern for Myanmar syllable breaking\n",
        "    return re.compile(\n",
        "        r\"((?<!\" + subscript_symbol + r\")[\" + my_consonant + r\"]\"\n",
        "        r\"(?![\"\n",
        "        + a_that + subscript_symbol + r\"])\"\n",
        "        + r\"|[\" + en_char + other_char + r\"])\"\n",
        "    )\n",
        "\n",
        "def break_syllables(line, break_pattern, separator):\n",
        "    \"\"\"Applies syllable breaking rules to a line.\"\"\"\n",
        "    line = re.sub(r'\\s+', ' ', line.strip())\n",
        "    segmented_line = break_pattern.sub(separator + r\"\\1\", line)\n",
        "\n",
        "    # Remove the leading delimiter if it exists\n",
        "    if segmented_line.startswith(separator):\n",
        "        segmented_line = segmented_line[len(separator):]\n",
        "\n",
        "    # Replace delimiter+space+delimiter with a single space\n",
        "    double_delimiter = separator + \" \" + separator\n",
        "    segmented_line = segmented_line.replace(double_delimiter, \" \")\n",
        "\n",
        "    return segmented_line"
      ],
      "metadata": {
        "id": "YeFkthNOCcPI"
      },
      "execution_count": 4,
      "outputs": []
    },
    {
      "cell_type": "code",
      "source": [
        "EOS = []\n",
        "\n",
        "break_pattern = create_break_pattern()\n",
        "\n",
        "for sentence in sim_train:\n",
        "  EOS.append(break_syllables(sentence, break_pattern, \" \").split()[-1])\n",
        "\n",
        "EOS_unique = list(set(EOS))\n",
        "\n",
        "EOS_frequencies = {i: EOS.count(i) for i in EOS_unique}\n",
        "# EOS_frequencies"
      ],
      "metadata": {
        "id": "qjeQITFMC6uC"
      },
      "execution_count": 5,
      "outputs": []
    },
    {
      "cell_type": "markdown",
      "source": [
        "# **KO Swan Htet Aung's ReSegment**"
      ],
      "metadata": {
        "id": "OkvBGbYiDmdo"
      }
    },
    {
      "cell_type": "code",
      "source": [
        "def segment(text):\n",
        "    text = re.sub(r'(?:(?<!္)([က-ဪဿ၊-၏]|[၀-၉]+|[^က-၏]+)(?![ှျ]?[့္်]))', r'𝕊\\1', text).strip('𝕊').split('𝕊')\n",
        "    return text"
      ],
      "metadata": {
        "id": "o2erVaVfC6hi"
      },
      "execution_count": 6,
      "outputs": []
    },
    {
      "cell_type": "code",
      "source": [
        "EOS_2 = []\n",
        "\n",
        "for sentence in sim_train:\n",
        "  EOS_2.append(segment(sentence)[-1])\n",
        "\n",
        "EOS_unique1 = list(set(EOS_2))\n",
        "\n",
        "EOS_frequencies1 = {i: EOS_2.count(i) for i in EOS_unique1}\n",
        "# EOS_frequencies1"
      ],
      "metadata": {
        "id": "tLrURUUQC6ZC"
      },
      "execution_count": 7,
      "outputs": []
    },
    {
      "cell_type": "code",
      "source": [
        "EOS_frequencies_over_100 = {word: freq for word, freq in EOS_frequencies1.items() if freq > 100}"
      ],
      "metadata": {
        "id": "G3OSSw6lCcHv"
      },
      "execution_count": 8,
      "outputs": []
    },
    {
      "cell_type": "code",
      "source": [
        "EOS_frequencies_over_100"
      ],
      "metadata": {
        "colab": {
          "base_uri": "https://localhost:8080/"
        },
        "id": "nbiADO2nCcEo",
        "outputId": "bc6fae3d-e7db-400e-87aa-146cfd793910"
      },
      "execution_count": 9,
      "outputs": [
        {
          "output_type": "execute_result",
          "data": {
            "text/plain": [
              "{'ခဲ့': 141,\n",
              " 'ချေ': 1000,\n",
              " 'ပေ': 1170,\n",
              " 'သည်': 81575,\n",
              " 'ဉာဏ်': 126,\n",
              " 'တည်း': 412,\n",
              " 'ရှိ': 112,\n",
              " 'မည်': 1015,\n",
              " 'ဘူး': 111,\n",
              " 'သုတ်': 415,\n",
              " 'ရက်': 210,\n",
              " 'တယ်': 1481,\n",
              " 'ချောင်း': 106,\n",
              " 'ပါ': 723,\n",
              " 'ပြီ': 252,\n",
              " 'ရ': 114,\n",
              " ')': 506,\n",
              " '၏': 9110,\n",
              " 'ခြင်း': 430,\n",
              " '၂': 111,\n",
              " 'ကြီး': 115}"
            ]
          },
          "metadata": {},
          "execution_count": 9
        }
      ]
    },
    {
      "cell_type": "code",
      "source": [
        "words = list(EOS_frequencies_over_100.keys())\n",
        "frequencies = list(EOS_frequencies_over_100.values())"
      ],
      "metadata": {
        "id": "FtXs5Hq030mK"
      },
      "execution_count": 10,
      "outputs": []
    },
    {
      "cell_type": "code",
      "source": [
        "fontPath = '/content/mmrtext.ttf'\n",
        "prop = fm.FontProperties(fname=fontPath, size=12)"
      ],
      "metadata": {
        "id": "IXbEOkkpG0rI"
      },
      "execution_count": 11,
      "outputs": []
    },
    {
      "cell_type": "code",
      "source": [
        "plt.figure(figsize=(10, 6))\n",
        "plt.bar(words, frequencies, color='skyblue')\n",
        "plt.xlabel('Ending Words', fontproperties=prop)\n",
        "plt.ylabel('Frequency', fontproperties=prop)\n",
        "plt.title('Frequencies of Ending Words with Frequency Over 100', fontproperties=prop)\n",
        "plt.xticks(rotation=90, fontproperties=prop)\n",
        "plt.tight_layout()\n",
        "plt.show()\n",
        "\n",
        "plt.savefig('Frequencies of Ending Words with Frequency Over 100.png')"
      ],
      "metadata": {
        "id": "KGfmaEhs30VC",
        "colab": {
          "base_uri": "https://localhost:8080/",
          "height": 624
        },
        "outputId": "897bab16-af39-4540-b792-93d6b153e28d"
      },
      "execution_count": 12,
      "outputs": [
        {
          "output_type": "display_data",
          "data": {
            "text/plain": [
              "<Figure size 1000x600 with 1 Axes>"
            ],
            "image/png": "[encoded data removed]"
          },
          "metadata": {}
        },
        {
          "output_type": "display_data",
          "data": {
            "text/plain": [
              "<Figure size 640x480 with 0 Axes>"
            ]
          },
          "metadata": {}
        }
      ]
    }
  ]
}