{
  "nbformat": 4,
  "nbformat_minor": 0,
  "metadata": {
    "colab": {
      "provenance": [],
      "authorship_tag": "ABX9TyP/raGs6rsC8kQesCj5MsLd",
      "include_colab_link": true
    },
    "kernelspec": {
      "name": "python3",
      "display_name": "Python 3"
    },
    "language_info": {
      "name": "python"
    },
    "widgets": {
      "application/vnd.jupyter.widget-state+json": {
        "8e73e5c28f674906a3593613a1fa2ae7": {
          "model_module": "@jupyter-widgets/controls",
          "model_name": "HBoxModel",
          "model_module_version": "1.5.0",
          "state": {
            "_dom_classes": [],
            "_model_module": "@jupyter-widgets/controls",
            "_model_module_version": "1.5.0",
            "_model_name": "HBoxModel",
            "_view_count": null,
            "_view_module": "@jupyter-widgets/controls",
            "_view_module_version": "1.5.0",
            "_view_name": "HBoxView",
            "box_style": "",
            "children": [
              "IPY_MODEL_792904d966ce423e8d5a7f000721b386",
              "IPY_MODEL_3192c8be11e14428a01bd15a388b2540",
              "IPY_MODEL_397ad276be3e4cc2a20e9865b0cc5526"
            ],
            "layout": "IPY_MODEL_5ac571ac2b604cb98ed8b8619831cf7e"
          }
        },
        "792904d966ce423e8d5a7f000721b386": {
          "model_module": "@jupyter-widgets/controls",
          "model_name": "HTMLModel",
          "model_module_version": "1.5.0",
          "state": {
            "_dom_classes": [],
            "_model_module": "@jupyter-widgets/controls",
            "_model_module_version": "1.5.0",
            "_model_name": "HTMLModel",
            "_view_count": null,
            "_view_module": "@jupyter-widgets/controls",
            "_view_module_version": "1.5.0",
            "_view_name": "HTMLView",
            "description": "",
            "description_tooltip": null,
            "layout": "IPY_MODEL_a46c1124f07e459ba2d1b9d4fd72151e",
            "placeholder": "​",
            "style": "IPY_MODEL_f2cc5350bec342d1bcd494563ba3ea09",
            "value": "Downloading readme: 100%"
          }
        },
        "3192c8be11e14428a01bd15a388b2540": {
          "model_module": "@jupyter-widgets/controls",
          "model_name": "FloatProgressModel",
          "model_module_version": "1.5.0",
          "state": {
            "_dom_classes": [],
            "_model_module": "@jupyter-widgets/controls",
            "_model_module_version": "1.5.0",
            "_model_name": "FloatProgressModel",
            "_view_count": null,
            "_view_module": "@jupyter-widgets/controls",
            "_view_module_version": "1.5.0",
            "_view_name": "ProgressView",
            "bar_style": "success",
            "description": "",
            "description_tooltip": null,
            "layout": "IPY_MODEL_7643fdf17d4a439ebec83f15ac487cc6",
            "max": 1238,
            "min": 0,
            "orientation": "horizontal",
            "style": "IPY_MODEL_a48fda7b20014b70a890e10114a068ca",
            "value": 1238
          }
        },
        "397ad276be3e4cc2a20e9865b0cc5526": {
          "model_module": "@jupyter-widgets/controls",
          "model_name": "HTMLModel",
          "model_module_version": "1.5.0",
          "state": {
            "_dom_classes": [],
            "_model_module": "@jupyter-widgets/controls",
            "_model_module_version": "1.5.0",
            "_model_name": "HTMLModel",
            "_view_count": null,
            "_view_module": "@jupyter-widgets/controls",
            "_view_module_version": "1.5.0",
            "_view_name": "HTMLView",
            "description": "",
            "description_tooltip": null,
            "layout": "IPY_MODEL_abb54a0479a04efea38ed09bcd432249",
            "placeholder": "​",
            "style": "IPY_MODEL_0a67bc94f82d4beeb4cf1da7c86cbd38",
            "value": " 1.24k/1.24k [00:00&lt;00:00, 18.5kB/s]"
          }
        },
        "5ac571ac2b604cb98ed8b8619831cf7e": {
          "model_module": "@jupyter-widgets/base",
          "model_name": "LayoutModel",
          "model_module_version": "1.2.0",
          "state": {
            "_model_module": "@jupyter-widgets/base",
            "_model_module_version": "1.2.0",
            "_model_name": "LayoutModel",
            "_view_count": null,
            "_view_module": "@jupyter-widgets/base",
            "_view_module_version": "1.2.0",
            "_view_name": "LayoutView",
            "align_content": null,
            "align_items": null,
            "align_self": null,
            "border": null,
            "bottom": null,
            "display": null,
            "flex": null,
            "flex_flow": null,
            "grid_area": null,
            "grid_auto_columns": null,
            "grid_auto_flow": null,
            "grid_auto_rows": null,
            "grid_column": null,
            "grid_gap": null,
            "grid_row": null,
            "grid_template_areas": null,
            "grid_template_columns": null,
            "grid_template_rows": null,
            "height": null,
            "justify_content": null,
            "justify_items": null,
            "left": null,
            "margin": null,
            "max_height": null,
            "max_width": null,
            "min_height": null,
            "min_width": null,
            "object_fit": null,
            "object_position": null,
            "order": null,
            "overflow": null,
            "overflow_x": null,
            "overflow_y": null,
            "padding": null,
            "right": null,
            "top": null,
            "visibility": null,
            "width": null
          }
        },
        "a46c1124f07e459ba2d1b9d4fd72151e": {
          "model_module": "@jupyter-widgets/base",
          "model_name": "LayoutModel",
          "model_module_version": "1.2.0",
          "state": {
            "_model_module": "@jupyter-widgets/base",
            "_model_module_version": "1.2.0",
            "_model_name": "LayoutModel",
            "_view_count": null,
            "_view_module": "@jupyter-widgets/base",
            "_view_module_version": "1.2.0",
            "_view_name": "LayoutView",
            "align_content": null,
            "align_items": null,
            "align_self": null,
            "border": null,
            "bottom": null,
            "display": null,
            "flex": null,
            "flex_flow": null,
            "grid_area": null,
            "grid_auto_columns": null,
            "grid_auto_flow": null,
            "grid_auto_rows": null,
            "grid_column": null,
            "grid_gap": null,
            "grid_row": null,
            "grid_template_areas": null,
            "grid_template_columns": null,
            "grid_template_rows": null,
            "height": null,
            "justify_content": null,
            "justify_items": null,
            "left": null,
            "margin": null,
            "max_height": null,
            "max_width": null,
            "min_height": null,
            "min_width": null,
            "object_fit": null,
            "object_position": null,
            "order": null,
            "overflow": null,
            "overflow_x": null,
            "overflow_y": null,
            "padding": null,
            "right": null,
            "top": null,
            "visibility": null,
            "width": null
          }
        },
        "f2cc5350bec342d1bcd494563ba3ea09": {
          "model_module": "@jupyter-widgets/controls",
          "model_name": "DescriptionStyleModel",
          "model_module_version": "1.5.0",
          "state": {
            "_model_module": "@jupyter-widgets/controls",
            "_model_module_version": "1.5.0",
            "_model_name": "DescriptionStyleModel",
            "_view_count": null,
            "_view_module": "@jupyter-widgets/base",
            "_view_module_version": "1.2.0",
            "_view_name": "StyleView",
            "description_width": ""
          }
        },
        "7643fdf17d4a439ebec83f15ac487cc6": {
          "model_module": "@jupyter-widgets/base",
          "model_name": "LayoutModel",
          "model_module_version": "1.2.0",
          "state": {
            "_model_module": "@jupyter-widgets/base",
            "_model_module_version": "1.2.0",
            "_model_name": "LayoutModel",
            "_view_count": null,
            "_view_module": "@jupyter-widgets/base",
            "_view_module_version": "1.2.0",
            "_view_name": "LayoutView",
            "align_content": null,
            "align_items": null,
            "align_self": null,
            "border": null,
            "bottom": null,
            "display": null,
            "flex": null,
            "flex_flow": null,
            "grid_area": null,
            "grid_auto_columns": null,
            "grid_auto_flow": null,
            "grid_auto_rows": null,
            "grid_column": null,
            "grid_gap": null,
            "grid_row": null,
            "grid_template_areas": null,
            "grid_template_columns": null,
            "grid_template_rows": null,
            "height": null,
            "justify_content": null,
            "justify_items": null,
            "left": null,
            "margin": null,
            "max_height": null,
            "max_width": null,
            "min_height": null,
            "min_width": null,
            "object_fit": null,
            "object_position": null,
            "order": null,
            "overflow": null,
            "overflow_x": null,
            "overflow_y": null,
            "padding": null,
            "right": null,
            "top": null,
            "visibility": null,
            "width": null
          }
        },
        "a48fda7b20014b70a890e10114a068ca": {
          "model_module": "@jupyter-widgets/controls",
          "model_name": "ProgressStyleModel",
          "model_module_version": "1.5.0",
          "state": {
            "_model_module": "@jupyter-widgets/controls",
            "_model_module_version": "1.5.0",
            "_model_name": "ProgressStyleModel",
            "_view_count": null,
            "_view_module": "@jupyter-widgets/base",
            "_view_module_version": "1.2.0",
            "_view_name": "StyleView",
            "bar_color": null,
            "description_width": ""
          }
        },
        "abb54a0479a04efea38ed09bcd432249": {
          "model_module": "@jupyter-widgets/base",
          "model_name": "LayoutModel",
          "model_module_version": "1.2.0",
          "state": {
            "_model_module": "@jupyter-widgets/base",
            "_model_module_version": "1.2.0",
            "_model_name": "LayoutModel",
            "_view_count": null,
            "_view_module": "@jupyter-widgets/base",
            "_view_module_version": "1.2.0",
            "_view_name": "LayoutView",
            "align_content": null,
            "align_items": null,
            "align_self": null,
            "border": null,
            "bottom": null,
            "display": null,
            "flex": null,
            "flex_flow": null,
            "grid_area": null,
            "grid_auto_columns": null,
            "grid_auto_flow": null,
            "grid_auto_rows": null,
            "grid_column": null,
            "grid_gap": null,
            "grid_row": null,
            "grid_template_areas": null,
            "grid_template_columns": null,
            "grid_template_rows": null,
            "height": null,
            "justify_content": null,
            "justify_items": null,
            "left": null,
            "margin": null,
            "max_height": null,
            "max_width": null,
            "min_height": null,
            "min_width": null,
            "object_fit": null,
            "object_position": null,
            "order": null,
            "overflow": null,
            "overflow_x": null,
            "overflow_y": null,
            "padding": null,
            "right": null,
            "top": null,
            "visibility": null,
            "width": null
          }
        },
        "0a67bc94f82d4beeb4cf1da7c86cbd38": {
          "model_module": "@jupyter-widgets/controls",
          "model_name": "DescriptionStyleModel",
          "model_module_version": "1.5.0",
          "state": {
            "_model_module": "@jupyter-widgets/controls",
            "_model_module_version": "1.5.0",
            "_model_name": "DescriptionStyleModel",
            "_view_count": null,
            "_view_module": "@jupyter-widgets/base",
            "_view_module_version": "1.2.0",
            "_view_name": "StyleView",
            "description_width": ""
          }
        },
        "b87dab84030749439a73254af74c4513": {
          "model_module": "@jupyter-widgets/controls",
          "model_name": "HBoxModel",
          "model_module_version": "1.5.0",
          "state": {
            "_dom_classes": [],
            "_model_module": "@jupyter-widgets/controls",
            "_model_module_version": "1.5.0",
            "_model_name": "HBoxModel",
            "_view_count": null,
            "_view_module": "@jupyter-widgets/controls",
            "_view_module_version": "1.5.0",
            "_view_name": "HBoxView",
            "box_style": "",
            "children": [
              "IPY_MODEL_8616bc7ef34b4d88b5a6f93bb3eb9e69",
              "IPY_MODEL_adf156fe66224c7e9feeec15d85943aa",
              "IPY_MODEL_1d8a23a442c74748a13cea69df9215da"
            ],
            "layout": "IPY_MODEL_437594377fd14a1f82a668938fa9180e"
          }
        },
        "8616bc7ef34b4d88b5a6f93bb3eb9e69": {
          "model_module": "@jupyter-widgets/controls",
          "model_name": "HTMLModel",
          "model_module_version": "1.5.0",
          "state": {
            "_dom_classes": [],
            "_model_module": "@jupyter-widgets/controls",
            "_model_module_version": "1.5.0",
            "_model_name": "HTMLModel",
            "_view_count": null,
            "_view_module": "@jupyter-widgets/controls",
            "_view_module_version": "1.5.0",
            "_view_name": "HTMLView",
            "description": "",
            "description_tooltip": null,
            "layout": "IPY_MODEL_ec9f679a5578431a81089cc2ca09c785",
            "placeholder": "​",
            "style": "IPY_MODEL_e818729f736a4b5087441413ebf8acd3",
            "value": "Downloading data: 100%"
          }
        },
        "adf156fe66224c7e9feeec15d85943aa": {
          "model_module": "@jupyter-widgets/controls",
          "model_name": "FloatProgressModel",
          "model_module_version": "1.5.0",
          "state": {
            "_dom_classes": [],
            "_model_module": "@jupyter-widgets/controls",
            "_model_module_version": "1.5.0",
            "_model_name": "FloatProgressModel",
            "_view_count": null,
            "_view_module": "@jupyter-widgets/controls",
            "_view_module_version": "1.5.0",
            "_view_name": "ProgressView",
            "bar_style": "success",
            "description": "",
            "description_tooltip": null,
            "layout": "IPY_MODEL_be455ae324fb42d6b8ef6e8c67c4fea4",
            "max": 36449005,
            "min": 0,
            "orientation": "horizontal",
            "style": "IPY_MODEL_0bcc6d560c064293847d7f70ccb74503",
            "value": 36449005
          }
        },
        "1d8a23a442c74748a13cea69df9215da": {
          "model_module": "@jupyter-widgets/controls",
          "model_name": "HTMLModel",
          "model_module_version": "1.5.0",
          "state": {
            "_dom_classes": [],
            "_model_module": "@jupyter-widgets/controls",
            "_model_module_version": "1.5.0",
            "_model_name": "HTMLModel",
            "_view_count": null,
            "_view_module": "@jupyter-widgets/controls",
            "_view_module_version": "1.5.0",
            "_view_name": "HTMLView",
            "description": "",
            "description_tooltip": null,
            "layout": "IPY_MODEL_4be253ace32e4783bf3643f5d5179f98",
            "placeholder": "​",
            "style": "IPY_MODEL_1ffc3b5244d844a5995cd55f1088544b",
            "value": " 36.4M/36.4M [00:02&lt;00:00, 16.6MB/s]"
          }
        },
        "437594377fd14a1f82a668938fa9180e": {
          "model_module": "@jupyter-widgets/base",
          "model_name": "LayoutModel",
          "model_module_version": "1.2.0",
          "state": {
            "_model_module": "@jupyter-widgets/base",
            "_model_module_version": "1.2.0",
            "_model_name": "LayoutModel",
            "_view_count": null,
            "_view_module": "@jupyter-widgets/base",
            "_view_module_version": "1.2.0",
            "_view_name": "LayoutView",
            "align_content": null,
            "align_items": null,
            "align_self": null,
            "border": null,
            "bottom": null,
            "display": null,
            "flex": null,
            "flex_flow": null,
            "grid_area": null,
            "grid_auto_columns": null,
            "grid_auto_flow": null,
            "grid_auto_rows": null,
            "grid_column": null,
            "grid_gap": null,
            "grid_row": null,
            "grid_template_areas": null,
            "grid_template_columns": null,
            "grid_template_rows": null,
            "height": null,
            "justify_content": null,
            "justify_items": null,
            "left": null,
            "margin": null,
            "max_height": null,
            "max_width": null,
            "min_height": null,
            "min_width": null,
            "object_fit": null,
            "object_position": null,
            "order": null,
            "overflow": null,
            "overflow_x": null,
            "overflow_y": null,
            "padding": null,
            "right": null,
            "top": null,
            "visibility": null,
            "width": null
          }
        },
        "ec9f679a5578431a81089cc2ca09c785": {
          "model_module": "@jupyter-widgets/base",
          "model_name": "LayoutModel",
          "model_module_version": "1.2.0",
          "state": {
            "_model_module": "@jupyter-widgets/base",
            "_model_module_version": "1.2.0",
            "_model_name": "LayoutModel",
            "_view_count": null,
            "_view_module": "@jupyter-widgets/base",
            "_view_module_version": "1.2.0",
            "_view_name": "LayoutView",
            "align_content": null,
            "align_items": null,
            "align_self": null,
            "border": null,
            "bottom": null,
            "display": null,
            "flex": null,
            "flex_flow": null,
            "grid_area": null,
            "grid_auto_columns": null,
            "grid_auto_flow": null,
            "grid_auto_rows": null,
            "grid_column": null,
            "grid_gap": null,
            "grid_row": null,
            "grid_template_areas": null,
            "grid_template_columns": null,
            "grid_template_rows": null,
            "height": null,
            "justify_content": null,
            "justify_items": null,
            "left": null,
            "margin": null,
            "max_height": null,
            "max_width": null,
            "min_height": null,
            "min_width": null,
            "object_fit": null,
            "object_position": null,
            "order": null,
            "overflow": null,
            "overflow_x": null,
            "overflow_y": null,
            "padding": null,
            "right": null,
            "top": null,
            "visibility": null,
            "width": null
          }
        },
        "e818729f736a4b5087441413ebf8acd3": {
          "model_module": "@jupyter-widgets/controls",
          "model_name": "DescriptionStyleModel",
          "model_module_version": "1.5.0",
          "state": {
            "_model_module": "@jupyter-widgets/controls",
            "_model_module_version": "1.5.0",
            "_model_name": "DescriptionStyleModel",
            "_view_count": null,
            "_view_module": "@jupyter-widgets/base",
            "_view_module_version": "1.2.0",
            "_view_name": "StyleView",
            "description_width": ""
          }
        },
        "be455ae324fb42d6b8ef6e8c67c4fea4": {
          "model_module": "@jupyter-widgets/base",
          "model_name": "LayoutModel",
          "model_module_version": "1.2.0",
          "state": {
            "_model_module": "@jupyter-widgets/base",
            "_model_module_version": "1.2.0",
            "_model_name": "LayoutModel",
            "_view_count": null,
            "_view_module": "@jupyter-widgets/base",
            "_view_module_version": "1.2.0",
            "_view_name": "LayoutView",
            "align_content": null,
            "align_items": null,
            "align_self": null,
            "border": null,
            "bottom": null,
            "display": null,
            "flex": null,
            "flex_flow": null,
            "grid_area": null,
            "grid_auto_columns": null,
            "grid_auto_flow": null,
            "grid_auto_rows": null,
            "grid_column": null,
            "grid_gap": null,
            "grid_row": null,
            "grid_template_areas": null,
            "grid_template_columns": null,
            "grid_template_rows": null,
            "height": null,
            "justify_content": null,
            "justify_items": null,
            "left": null,
            "margin": null,
            "max_height": null,
            "max_width": null,
            "min_height": null,
            "min_width": null,
            "object_fit": null,
            "object_position": null,
            "order": null,
            "overflow": null,
            "overflow_x": null,
            "overflow_y": null,
            "padding": null,
            "right": null,
            "top": null,
            "visibility": null,
            "width": null
          }
        },
        "0bcc6d560c064293847d7f70ccb74503": {
          "model_module": "@jupyter-widgets/controls",
          "model_name": "ProgressStyleModel",
          "model_module_version": "1.5.0",
          "state": {
            "_model_module": "@jupyter-widgets/controls",
            "_model_module_version": "1.5.0",
            "_model_name": "ProgressStyleModel",
            "_view_count": null,
            "_view_module": "@jupyter-widgets/base",
            "_view_module_version": "1.2.0",
            "_view_name": "StyleView",
            "bar_color": null,
            "description_width": ""
          }
        },
        "4be253ace32e4783bf3643f5d5179f98": {
          "model_module": "@jupyter-widgets/base",
          "model_name": "LayoutModel",
          "model_module_version": "1.2.0",
          "state": {
            "_model_module": "@jupyter-widgets/base",
            "_model_module_version": "1.2.0",
            "_model_name": "LayoutModel",
            "_view_count": null,
            "_view_module": "@jupyter-widgets/base",
            "_view_module_version": "1.2.0",
            "_view_name": "LayoutView",
            "align_content": null,
            "align_items": null,
            "align_self": null,
            "border": null,
            "bottom": null,
            "display": null,
            "flex": null,
            "flex_flow": null,
            "grid_area": null,
            "grid_auto_columns": null,
            "grid_auto_flow": null,
            "grid_auto_rows": null,
            "grid_column": null,
            "grid_gap": null,
            "grid_row": null,
            "grid_template_areas": null,
            "grid_template_columns": null,
            "grid_template_rows": null,
            "height": null,
            "justify_content": null,
            "justify_items": null,
            "left": null,
            "margin": null,
            "max_height": null,
            "max_width": null,
            "min_height": null,
            "min_width": null,
            "object_fit": null,
            "object_position": null,
            "order": null,
            "overflow": null,
            "overflow_x": null,
            "overflow_y": null,
            "padding": null,
            "right": null,
            "top": null,
            "visibility": null,
            "width": null
          }
        },
        "1ffc3b5244d844a5995cd55f1088544b": {
          "model_module": "@jupyter-widgets/controls",
          "model_name": "DescriptionStyleModel",
          "model_module_version": "1.5.0",
          "state": {
            "_model_module": "@jupyter-widgets/controls",
            "_model_module_version": "1.5.0",
            "_model_name": "DescriptionStyleModel",
            "_view_count": null,
            "_view_module": "@jupyter-widgets/base",
            "_view_module_version": "1.2.0",
            "_view_name": "StyleView",
            "description_width": ""
          }
        },
        "1ab9c2f7eb844c32a414a9e960c71ca5": {
          "model_module": "@jupyter-widgets/controls",
          "model_name": "HBoxModel",
          "model_module_version": "1.5.0",
          "state": {
            "_dom_classes": [],
            "_model_module": "@jupyter-widgets/controls",
            "_model_module_version": "1.5.0",
            "_model_name": "HBoxModel",
            "_view_count": null,
            "_view_module": "@jupyter-widgets/controls",
            "_view_module_version": "1.5.0",
            "_view_name": "HBoxView",
            "box_style": "",
            "children": [
              "IPY_MODEL_9abd70cede4544979c60038d4f57131b",
              "IPY_MODEL_fb7c55ec4b8a4c7baaca9c4b0714b601",
              "IPY_MODEL_cf4527e8589741369061832f3f5b5155"
            ],
            "layout": "IPY_MODEL_a5f06644f9364595b5d662311d45bb5a"
          }
        },
        "9abd70cede4544979c60038d4f57131b": {
          "model_module": "@jupyter-widgets/controls",
          "model_name": "HTMLModel",
          "model_module_version": "1.5.0",
          "state": {
            "_dom_classes": [],
            "_model_module": "@jupyter-widgets/controls",
            "_model_module_version": "1.5.0",
            "_model_name": "HTMLModel",
            "_view_count": null,
            "_view_module": "@jupyter-widgets/controls",
            "_view_module_version": "1.5.0",
            "_view_name": "HTMLView",
            "description": "",
            "description_tooltip": null,
            "layout": "IPY_MODEL_07b9edfb3c844702a9c39f61c460459d",
            "placeholder": "​",
            "style": "IPY_MODEL_377e20a79c3b4221b71f3d2144da488f",
            "value": "Generating train split: "
          }
        },
        "fb7c55ec4b8a4c7baaca9c4b0714b601": {
          "model_module": "@jupyter-widgets/controls",
          "model_name": "FloatProgressModel",
          "model_module_version": "1.5.0",
          "state": {
            "_dom_classes": [],
            "_model_module": "@jupyter-widgets/controls",
            "_model_module_version": "1.5.0",
            "_model_name": "FloatProgressModel",
            "_view_count": null,
            "_view_module": "@jupyter-widgets/controls",
            "_view_module_version": "1.5.0",
            "_view_name": "ProgressView",
            "bar_style": "success",
            "description": "",
            "description_tooltip": null,
            "layout": "IPY_MODEL_737e8737bc0c4096bc0484dcb6d258e2",
            "max": 1,
            "min": 0,
            "orientation": "horizontal",
            "style": "IPY_MODEL_7b842f52be5c42f1835faa0bb082eb2b",
            "value": 1
          }
        },
        "cf4527e8589741369061832f3f5b5155": {
          "model_module": "@jupyter-widgets/controls",
          "model_name": "HTMLModel",
          "model_module_version": "1.5.0",
          "state": {
            "_dom_classes": [],
            "_model_module": "@jupyter-widgets/controls",
            "_model_module_version": "1.5.0",
            "_model_name": "HTMLModel",
            "_view_count": null,
            "_view_module": "@jupyter-widgets/controls",
            "_view_module_version": "1.5.0",
            "_view_name": "HTMLView",
            "description": "",
            "description_tooltip": null,
            "layout": "IPY_MODEL_28c6aa5ef73a4f0c8400e55e25b8064f",
            "placeholder": "​",
            "style": "IPY_MODEL_d080f2cc0a234bec8a472f3ac6d4db26",
            "value": " 106481/0 [00:00&lt;00:00, 138541.02 examples/s]"
          }
        },
        "a5f06644f9364595b5d662311d45bb5a": {
          "model_module": "@jupyter-widgets/base",
          "model_name": "LayoutModel",
          "model_module_version": "1.2.0",
          "state": {
            "_model_module": "@jupyter-widgets/base",
            "_model_module_version": "1.2.0",
            "_model_name": "LayoutModel",
            "_view_count": null,
            "_view_module": "@jupyter-widgets/base",
            "_view_module_version": "1.2.0",
            "_view_name": "LayoutView",
            "align_content": null,
            "align_items": null,
            "align_self": null,
            "border": null,
            "bottom": null,
            "display": null,
            "flex": null,
            "flex_flow": null,
            "grid_area": null,
            "grid_auto_columns": null,
            "grid_auto_flow": null,
            "grid_auto_rows": null,
            "grid_column": null,
            "grid_gap": null,
            "grid_row": null,
            "grid_template_areas": null,
            "grid_template_columns": null,
            "grid_template_rows": null,
            "height": null,
            "justify_content": null,
            "justify_items": null,
            "left": null,
            "margin": null,
            "max_height": null,
            "max_width": null,
            "min_height": null,
            "min_width": null,
            "object_fit": null,
            "object_position": null,
            "order": null,
            "overflow": null,
            "overflow_x": null,
            "overflow_y": null,
            "padding": null,
            "right": null,
            "top": null,
            "visibility": null,
            "width": null
          }
        },
        "07b9edfb3c844702a9c39f61c460459d": {
          "model_module": "@jupyter-widgets/base",
          "model_name": "LayoutModel",
          "model_module_version": "1.2.0",
          "state": {
            "_model_module": "@jupyter-widgets/base",
            "_model_module_version": "1.2.0",
            "_model_name": "LayoutModel",
            "_view_count": null,
            "_view_module": "@jupyter-widgets/base",
            "_view_module_version": "1.2.0",
            "_view_name": "LayoutView",
            "align_content": null,
            "align_items": null,
            "align_self": null,
            "border": null,
            "bottom": null,
            "display": null,
            "flex": null,
            "flex_flow": null,
            "grid_area": null,
            "grid_auto_columns": null,
            "grid_auto_flow": null,
            "grid_auto_rows": null,
            "grid_column": null,
            "grid_gap": null,
            "grid_row": null,
            "grid_template_areas": null,
            "grid_template_columns": null,
            "grid_template_rows": null,
            "height": null,
            "justify_content": null,
            "justify_items": null,
            "left": null,
            "margin": null,
            "max_height": null,
            "max_width": null,
            "min_height": null,
            "min_width": null,
            "object_fit": null,
            "object_position": null,
            "order": null,
            "overflow": null,
            "overflow_x": null,
            "overflow_y": null,
            "padding": null,
            "right": null,
            "top": null,
            "visibility": null,
            "width": null
          }
        },
        "377e20a79c3b4221b71f3d2144da488f": {
          "model_module": "@jupyter-widgets/controls",
          "model_name": "DescriptionStyleModel",
          "model_module_version": "1.5.0",
          "state": {
            "_model_module": "@jupyter-widgets/controls",
            "_model_module_version": "1.5.0",
            "_model_name": "DescriptionStyleModel",
            "_view_count": null,
            "_view_module": "@jupyter-widgets/base",
            "_view_module_version": "1.2.0",
            "_view_name": "StyleView",
            "description_width": ""
          }
        },
        "737e8737bc0c4096bc0484dcb6d258e2": {
          "model_module": "@jupyter-widgets/base",
          "model_name": "LayoutModel",
          "model_module_version": "1.2.0",
          "state": {
            "_model_module": "@jupyter-widgets/base",
            "_model_module_version": "1.2.0",
            "_model_name": "LayoutModel",
            "_view_count": null,
            "_view_module": "@jupyter-widgets/base",
            "_view_module_version": "1.2.0",
            "_view_name": "LayoutView",
            "align_content": null,
            "align_items": null,
            "align_self": null,
            "border": null,
            "bottom": null,
            "display": null,
            "flex": null,
            "flex_flow": null,
            "grid_area": null,
            "grid_auto_columns": null,
            "grid_auto_flow": null,
            "grid_auto_rows": null,
            "grid_column": null,
            "grid_gap": null,
            "grid_row": null,
            "grid_template_areas": null,
            "grid_template_columns": null,
            "grid_template_rows": null,
            "height": null,
            "justify_content": null,
            "justify_items": null,
            "left": null,
            "margin": null,
            "max_height": null,
            "max_width": null,
            "min_height": null,
            "min_width": null,
            "object_fit": null,
            "object_position": null,
            "order": null,
            "overflow": null,
            "overflow_x": null,
            "overflow_y": null,
            "padding": null,
            "right": null,
            "top": null,
            "visibility": null,
            "width": "20px"
          }
        },
        "7b842f52be5c42f1835faa0bb082eb2b": {
          "model_module": "@jupyter-widgets/controls",
          "model_name": "ProgressStyleModel",
          "model_module_version": "1.5.0",
          "state": {
            "_model_module": "@jupyter-widgets/controls",
            "_model_module_version": "1.5.0",
            "_model_name": "ProgressStyleModel",
            "_view_count": null,
            "_view_module": "@jupyter-widgets/base",
            "_view_module_version": "1.2.0",
            "_view_name": "StyleView",
            "bar_color": null,
            "description_width": ""
          }
        },
        "28c6aa5ef73a4f0c8400e55e25b8064f": {
          "model_module": "@jupyter-widgets/base",
          "model_name": "LayoutModel",
          "model_module_version": "1.2.0",
          "state": {
            "_model_module": "@jupyter-widgets/base",
            "_model_module_version": "1.2.0",
            "_model_name": "LayoutModel",
            "_view_count": null,
            "_view_module": "@jupyter-widgets/base",
            "_view_module_version": "1.2.0",
            "_view_name": "LayoutView",
            "align_content": null,
            "align_items": null,
            "align_self": null,
            "border": null,
            "bottom": null,
            "display": null,
            "flex": null,
            "flex_flow": null,
            "grid_area": null,
            "grid_auto_columns": null,
            "grid_auto_flow": null,
            "grid_auto_rows": null,
            "grid_column": null,
            "grid_gap": null,
            "grid_row": null,
            "grid_template_areas": null,
            "grid_template_columns": null,
            "grid_template_rows": null,
            "height": null,
            "justify_content": null,
            "justify_items": null,
            "left": null,
            "margin": null,
            "max_height": null,
            "max_width": null,
            "min_height": null,
            "min_width": null,
            "object_fit": null,
            "object_position": null,
            "order": null,
            "overflow": null,
            "overflow_x": null,
            "overflow_y": null,
            "padding": null,
            "right": null,
            "top": null,
            "visibility": null,
            "width": null
          }
        },
        "d080f2cc0a234bec8a472f3ac6d4db26": {
          "model_module": "@jupyter-widgets/controls",
          "model_name": "DescriptionStyleModel",
          "model_module_version": "1.5.0",
          "state": {
            "_model_module": "@jupyter-widgets/controls",
            "_model_module_version": "1.5.0",
            "_model_name": "DescriptionStyleModel",
            "_view_count": null,
            "_view_module": "@jupyter-widgets/base",
            "_view_module_version": "1.2.0",
            "_view_name": "StyleView",
            "description_width": ""
          }
        }
      }
    }
  },
  "cells": [
    {
      "cell_type": "markdown",
      "metadata": {
        "id": "view-in-github",
        "colab_type": "text"
      },
      "source": [
        "<a href=\"https://colab.research.google.com/github/KOSETTPAI/Internship/blob/main/Tokenizers.ipynb\" target=\"_parent\"><img src=\"https://colab.research.google.com/assets/colab-badge.svg\" alt=\"Open In Colab\"/></a>"
      ]
    },
    {
      "cell_type": "markdown",
      "source": [
        "# **Libraries and Dataset**"
      ],
      "metadata": {
        "id": "PGQ00EATt0ZQ"
      }
    },
    {
      "cell_type": "code",
      "source": [
        "import nltk\n",
        "nltk.download('punkt')"
      ],
      "metadata": {
        "colab": {
          "base_uri": "https://localhost:8080/"
        },
        "id": "c6lBOgGFrxY4",
        "outputId": "9d6057d5-bfe7-4ade-a66b-b20804c10177"
      },
      "execution_count": 3,
      "outputs": [
        {
          "output_type": "stream",
          "name": "stderr",
          "text": [
            "[nltk_data] Downloading package punkt to /root/nltk_data...\n",
            "[nltk_data]   Unzipping tokenizers/punkt.zip.\n"
          ]
        },
        {
          "output_type": "execute_result",
          "data": {
            "text/plain": [
              "True"
            ]
          },
          "metadata": {},
          "execution_count": 3
        }
      ]
    },
    {
      "cell_type": "code",
      "source": [
        "!pip install datasets"
      ],
      "metadata": {
        "colab": {
          "base_uri": "https://localhost:8080/"
        },
        "id": "dHRjX7rYuAXH",
        "outputId": "24d88e48-d548-4db6-dce0-b8b50d75a539"
      },
      "execution_count": 13,
      "outputs": [
        {
          "output_type": "stream",
          "name": "stdout",
          "text": [
            "Collecting datasets\n",
            "  Downloading datasets-2.18.0-py3-none-any.whl (510 kB)\n",
            "\u001b[2K     \u001b[90m━━━━━━━━━━━━━━━━━━━━━━━━━━━━━━━━━━━━━━━━\u001b[0m \u001b[32m510.5/510.5 kB\u001b[0m \u001b[31m3.7 MB/s\u001b[0m eta \u001b[36m0:00:00\u001b[0m\n",
            "\u001b[?25hRequirement already satisfied: filelock in /usr/local/lib/python3.10/dist-packages (from datasets) (3.13.1)\n",
            "Requirement already satisfied: numpy>=1.17 in /usr/local/lib/python3.10/dist-packages (from datasets) (1.25.2)\n",
            "Requirement already satisfied: pyarrow>=12.0.0 in /usr/local/lib/python3.10/dist-packages (from datasets) (14.0.2)\n",
            "Requirement already satisfied: pyarrow-hotfix in /usr/local/lib/python3.10/dist-packages (from datasets) (0.6)\n",
            "Collecting dill<0.3.9,>=0.3.0 (from datasets)\n",
            "  Downloading dill-0.3.8-py3-none-any.whl (116 kB)\n",
            "\u001b[2K     \u001b[90m━━━━━━━━━━━━━━━━━━━━━━━━━━━━━━━━━━━━━━━━\u001b[0m \u001b[32m116.3/116.3 kB\u001b[0m \u001b[31m13.5 MB/s\u001b[0m eta \u001b[36m0:00:00\u001b[0m\n",
            "\u001b[?25hRequirement already satisfied: pandas in /usr/local/lib/python3.10/dist-packages (from datasets) (1.5.3)\n",
            "Requirement already satisfied: requests>=2.19.0 in /usr/local/lib/python3.10/dist-packages (from datasets) (2.31.0)\n",
            "Requirement already satisfied: tqdm>=4.62.1 in /usr/local/lib/python3.10/dist-packages (from datasets) (4.66.2)\n",
            "Requirement already satisfied: xxhash in /usr/local/lib/python3.10/dist-packages (from datasets) (3.4.1)\n",
            "Collecting multiprocess (from datasets)\n",
            "  Downloading multiprocess-0.70.16-py310-none-any.whl (134 kB)\n",
            "\u001b[2K     \u001b[90m━━━━━━━━━━━━━━━━━━━━━━━━━━━━━━━━━━━━━━━━\u001b[0m \u001b[32m134.8/134.8 kB\u001b[0m \u001b[31m15.1 MB/s\u001b[0m eta \u001b[36m0:00:00\u001b[0m\n",
            "\u001b[?25hRequirement already satisfied: fsspec[http]<=2024.2.0,>=2023.1.0 in /usr/local/lib/python3.10/dist-packages (from datasets) (2023.6.0)\n",
            "Requirement already satisfied: aiohttp in /usr/local/lib/python3.10/dist-packages (from datasets) (3.9.3)\n",
            "Requirement already satisfied: huggingface-hub>=0.19.4 in /usr/local/lib/python3.10/dist-packages (from datasets) (0.20.3)\n",
            "Requirement already satisfied: packaging in /usr/local/lib/python3.10/dist-packages (from datasets) (23.2)\n",
            "Requirement already satisfied: pyyaml>=5.1 in /usr/local/lib/python3.10/dist-packages (from datasets) (6.0.1)\n",
            "Requirement already satisfied: aiosignal>=1.1.2 in /usr/local/lib/python3.10/dist-packages (from aiohttp->datasets) (1.3.1)\n",
            "Requirement already satisfied: attrs>=17.3.0 in /usr/local/lib/python3.10/dist-packages (from aiohttp->datasets) (23.2.0)\n",
            "Requirement already satisfied: frozenlist>=1.1.1 in /usr/local/lib/python3.10/dist-packages (from aiohttp->datasets) (1.4.1)\n",
            "Requirement already satisfied: multidict<7.0,>=4.5 in /usr/local/lib/python3.10/dist-packages (from aiohttp->datasets) (6.0.5)\n",
            "Requirement already satisfied: yarl<2.0,>=1.0 in /usr/local/lib/python3.10/dist-packages (from aiohttp->datasets) (1.9.4)\n",
            "Requirement already satisfied: async-timeout<5.0,>=4.0 in /usr/local/lib/python3.10/dist-packages (from aiohttp->datasets) (4.0.3)\n",
            "Requirement already satisfied: typing-extensions>=3.7.4.3 in /usr/local/lib/python3.10/dist-packages (from huggingface-hub>=0.19.4->datasets) (4.10.0)\n",
            "Requirement already satisfied: charset-normalizer<4,>=2 in /usr/local/lib/python3.10/dist-packages (from requests>=2.19.0->datasets) (3.3.2)\n",
            "Requirement already satisfied: idna<4,>=2.5 in /usr/local/lib/python3.10/dist-packages (from requests>=2.19.0->datasets) (3.6)\n",
            "Requirement already satisfied: urllib3<3,>=1.21.1 in /usr/local/lib/python3.10/dist-packages (from requests>=2.19.0->datasets) (2.0.7)\n",
            "Requirement already satisfied: certifi>=2017.4.17 in /usr/local/lib/python3.10/dist-packages (from requests>=2.19.0->datasets) (2024.2.2)\n",
            "Requirement already satisfied: python-dateutil>=2.8.1 in /usr/local/lib/python3.10/dist-packages (from pandas->datasets) (2.8.2)\n",
            "Requirement already satisfied: pytz>=2020.1 in /usr/local/lib/python3.10/dist-packages (from pandas->datasets) (2023.4)\n",
            "Requirement already satisfied: six>=1.5 in /usr/local/lib/python3.10/dist-packages (from python-dateutil>=2.8.1->pandas->datasets) (1.16.0)\n",
            "Installing collected packages: dill, multiprocess, datasets\n",
            "Successfully installed datasets-2.18.0 dill-0.3.8 multiprocess-0.70.16\n"
          ]
        }
      ]
    },
    {
      "cell_type": "code",
      "source": [
        "import datasets\n",
        "from datasets import load_dataset_builder, load_dataset"
      ],
      "metadata": {
        "id": "C0VSlGFpt4MH"
      },
      "execution_count": 14,
      "outputs": []
    },
    {
      "cell_type": "code",
      "source": [
        "simbolo = load_dataset(\"Simbolo-Servicio/wiki-burmese-sentences\")"
      ],
      "metadata": {
        "colab": {
          "base_uri": "https://localhost:8080/",
          "height": 217,
          "referenced_widgets": [
            "8e73e5c28f674906a3593613a1fa2ae7",
            "792904d966ce423e8d5a7f000721b386",
            "3192c8be11e14428a01bd15a388b2540",
            "397ad276be3e4cc2a20e9865b0cc5526",
            "5ac571ac2b604cb98ed8b8619831cf7e",
            "a46c1124f07e459ba2d1b9d4fd72151e",
            "f2cc5350bec342d1bcd494563ba3ea09",
            "7643fdf17d4a439ebec83f15ac487cc6",
            "a48fda7b20014b70a890e10114a068ca",
            "abb54a0479a04efea38ed09bcd432249",
            "0a67bc94f82d4beeb4cf1da7c86cbd38",
            "b87dab84030749439a73254af74c4513",
            "8616bc7ef34b4d88b5a6f93bb3eb9e69",
            "adf156fe66224c7e9feeec15d85943aa",
            "1d8a23a442c74748a13cea69df9215da",
            "437594377fd14a1f82a668938fa9180e",
            "ec9f679a5578431a81089cc2ca09c785",
            "e818729f736a4b5087441413ebf8acd3",
            "be455ae324fb42d6b8ef6e8c67c4fea4",
            "0bcc6d560c064293847d7f70ccb74503",
            "4be253ace32e4783bf3643f5d5179f98",
            "1ffc3b5244d844a5995cd55f1088544b",
            "1ab9c2f7eb844c32a414a9e960c71ca5",
            "9abd70cede4544979c60038d4f57131b",
            "fb7c55ec4b8a4c7baaca9c4b0714b601",
            "cf4527e8589741369061832f3f5b5155",
            "a5f06644f9364595b5d662311d45bb5a",
            "07b9edfb3c844702a9c39f61c460459d",
            "377e20a79c3b4221b71f3d2144da488f",
            "737e8737bc0c4096bc0484dcb6d258e2",
            "7b842f52be5c42f1835faa0bb082eb2b",
            "28c6aa5ef73a4f0c8400e55e25b8064f",
            "d080f2cc0a234bec8a472f3ac6d4db26"
          ]
        },
        "id": "l2ktPm-It4I3",
        "outputId": "7189d8df-75a9-4a6a-8fd4-97a9da629f4b"
      },
      "execution_count": 15,
      "outputs": [
        {
          "output_type": "stream",
          "name": "stderr",
          "text": [
            "/usr/local/lib/python3.10/dist-packages/huggingface_hub/utils/_token.py:88: UserWarning: \n",
            "The secret `HF_TOKEN` does not exist in your Colab secrets.\n",
            "To authenticate with the Hugging Face Hub, create a token in your settings tab (https://huggingface.co/settings/tokens), set it as secret in your Google Colab and restart your session.\n",
            "You will be able to reuse this secret in all of your notebooks.\n",
            "Please note that authentication is recommended but still optional to access public models or datasets.\n",
            "  warnings.warn(\n"
          ]
        },
        {
          "output_type": "display_data",
          "data": {
            "text/plain": [
              "Downloading readme:   0%|          | 0.00/1.24k [00:00<?, ?B/s]"
            ],
            "application/vnd.jupyter.widget-view+json": {
              "version_major": 2,
              "version_minor": 0,
              "model_id": "8e73e5c28f674906a3593613a1fa2ae7"
            }
          },
          "metadata": {}
        },
        {
          "output_type": "display_data",
          "data": {
            "text/plain": [
              "Downloading data:   0%|          | 0.00/36.4M [00:00<?, ?B/s]"
            ],
            "application/vnd.jupyter.widget-view+json": {
              "version_major": 2,
              "version_minor": 0,
              "model_id": "b87dab84030749439a73254af74c4513"
            }
          },
          "metadata": {}
        },
        {
          "output_type": "display_data",
          "data": {
            "text/plain": [
              "Generating train split: 0 examples [00:00, ? examples/s]"
            ],
            "application/vnd.jupyter.widget-view+json": {
              "version_major": 2,
              "version_minor": 0,
              "model_id": "1ab9c2f7eb844c32a414a9e960c71ca5"
            }
          },
          "metadata": {}
        }
      ]
    },
    {
      "cell_type": "code",
      "source": [
        "sim_train = simbolo['train']['text'][:10]"
      ],
      "metadata": {
        "id": "hgIVZNeZt4F3"
      },
      "execution_count": 20,
      "outputs": []
    },
    {
      "cell_type": "code",
      "source": [
        "sim_train"
      ],
      "metadata": {
        "colab": {
          "base_uri": "https://localhost:8080/"
        },
        "id": "8q4ayVArt4C3",
        "outputId": "236f42c7-270a-4674-8199-28c431f9b386"
      },
      "execution_count": 21,
      "outputs": [
        {
          "output_type": "execute_result",
          "data": {
            "text/plain": [
              "['ထန်းကုန်းရွာ (အင်္ဂလိပ်: Htankone)သည် ပဲခူးတိုင်းဒေသကြီး (အနောက်)၊ ပြည်ခရိုင်၊ ပေါင်းတည်မြို့နယ်၊ ကြာနီကန်ကျေးရွာအုပ်စု၌ တည်ရှိသည်',\n",
              " '၂၀၁၄ သန်းခေါင်စာရင်းအရ ကြာနီကန်ကျေးရွာအုပ်စုတွင် ကျား ၁၈၉၈ ဦး၊ မ ၂၀၃၁ ဦး၊ လူဦးရေ စုစုပေါင်း ၃၉၂၉ ဦးနေထိုင်သည်',\n",
              " 'အရှင်ဥဒေနထေရ်    သည်  မြတ်စွာဘုရား၏ သာသနာတော်ရှိ ရဟန်းတစ်ပါး ဖြစ်သည်',\n",
              " 'နောက်ဆုံးဘဝတွင် ဂေါတမမြတ်စွာဘုရား၏ သာသနာတော်တွင် အရှင်ဥဒေနထေရ်  အဖြစ်ဖြင့် အာသဝေါကုန်ခမ်း ရဟန္တာ ဖြစ်တော်မူ၏',\n",
              " 'မေလ၊ (၁၂)ရက်နေ့ သည် ဂရီဂေါရီးယန်းပြက္ခဒိန်အရ တစ်နှစ်တာ၏ (၁၃၂)ရက်မြောက် (ရက်ထပ်နှစ်ဖြစ်လျှင် (၁၃၃)ရက်မြောက်)) နေ့ရက် ဖြစ်သည်',\n",
              " 'ယင်းတစ်နှစ်တာ ကုန်ဆုံးရန် ရက်ပေါင်း (၂၃၃) ရက် ကျန်သေးသည်',\n",
              " 'ညောင်ကိုင်းရွာ (အင်္ဂလိပ်: Nyaungkaing)သည် ပဲခူးတိုင်းဒေသကြီး (အရှေ့)၊ ပဲခူးခရိုင်၊ ဝေါမြို့နယ်၊ ညောင်ကိုင်းကျေးရွာအုပ်စု၌ တည်ရှိသည်',\n",
              " '၂၀၁၄ သန်းခေါင်စာရင်းအရ ညောင်ကိုင်းကျေးရွာအုပ်စုတွင် ကျား ၁၅၁၉ ဦး၊ မ ၁၆၁၃ ဦး၊ လူဦးရေ စုစုပေါင်း ၃၁၃၂ ဦးနေထိုင်သည်',\n",
              " 'အခြေခံဂျီဩမေတြီတွင် ဗဟုဂံ (ˈpɒlɪɡɒn) သည် ပြင်ညီသဏ္ဌာန်တစ်ခု ဖြစ်သည်',\n",
              " 'ဗဟုဂံသည် မျဉ်းဖြောင့်အပိုင်းများ၏ သတ်မှတ်ထားသည့်ချိတ်ဆက်မှုတို့ဖြင့် ဖွဲ့စည်းထား၏']"
            ]
          },
          "metadata": {},
          "execution_count": 21
        }
      ]
    },
    {
      "cell_type": "markdown",
      "source": [
        "# **NLTK**"
      ],
      "metadata": {
        "id": "GPNvu9Zh8hKM"
      }
    },
    {
      "cell_type": "code",
      "source": [
        "from nltk.tokenize import word_tokenize"
      ],
      "metadata": {
        "id": "Q1RGTUMQt3_f"
      },
      "execution_count": 44,
      "outputs": []
    },
    {
      "cell_type": "code",
      "source": [
        "text = \"ဝီကီပီးဒီးယားသည် သုံးစွဲသူများက ပူးပေါင်း၍ ရေးသားတည်းဖြတ်သော စွယ်စုံကျမ်းဖြစ်ပါသည်။\"\n",
        "\n",
        "tokens = word_tokenize(text)\n",
        "\n",
        "print(tokens)"
      ],
      "metadata": {
        "colab": {
          "base_uri": "https://localhost:8080/"
        },
        "id": "Tul0ZEiV8l1V",
        "outputId": "482b7471-f708-441e-f398-b304191e807f"
      },
      "execution_count": 45,
      "outputs": [
        {
          "output_type": "stream",
          "name": "stdout",
          "text": [
            "['ဝီကီပီးဒီးယားသည်', 'သုံးစွဲသူများက', 'ပူးပေါင်း၍', 'ရေးသားတည်းဖြတ်သော', 'စွယ်စုံကျမ်းဖြစ်ပါသည်။']\n"
          ]
        }
      ]
    },
    {
      "cell_type": "code",
      "source": [
        "for text in sim_train:\n",
        "  tokens = word_tokenize(text)\n",
        "  lengths = len(tokens)\n",
        "  print(tokens)"
      ],
      "metadata": {
        "colab": {
          "base_uri": "https://localhost:8080/"
        },
        "id": "bqvDoY4_8lxk",
        "outputId": "41027788-41d8-4c90-addb-2bcf282ab36e"
      },
      "execution_count": 46,
      "outputs": [
        {
          "output_type": "stream",
          "name": "stdout",
          "text": [
            "['ထန်းကုန်းရွာ', '(', 'အင်္ဂလိပ်', ':', 'Htankone', ')', 'သည်', 'ပဲခူးတိုင်းဒေသကြီး', '(', 'အနောက်', ')', '၊', 'ပြည်ခရိုင်၊', 'ပေါင်းတည်မြို့နယ်၊', 'ကြာနီကန်ကျေးရွာအုပ်စု၌', 'တည်ရှိသည်']\n",
            "['၂၀၁၄', 'သန်းခေါင်စာရင်းအရ', 'ကြာနီကန်ကျေးရွာအုပ်စုတွင်', 'ကျား', '၁၈၉၈', 'ဦး၊', 'မ', '၂၀၃၁', 'ဦး၊', 'လူဦးရေ', 'စုစုပေါင်း', '၃၉၂၉', 'ဦးနေထိုင်သည်']\n",
            "['အရှင်ဥဒေနထေရ်', 'သည်', 'မြတ်စွာဘုရား၏', 'သာသနာတော်ရှိ', 'ရဟန်းတစ်ပါး', 'ဖြစ်သည်']\n",
            "['နောက်ဆုံးဘဝတွင်', 'ဂေါတမမြတ်စွာဘုရား၏', 'သာသနာတော်တွင်', 'အရှင်ဥဒေနထေရ်', 'အဖြစ်ဖြင့်', 'အာသဝေါကုန်ခမ်း', 'ရဟန္တာ', 'ဖြစ်တော်မူ၏']\n",
            "['မေလ၊', '(', '၁၂', ')', 'ရက်နေ့', 'သည်', 'ဂရီဂေါရီးယန်းပြက္ခဒိန်အရ', 'တစ်နှစ်တာ၏', '(', '၁၃၂', ')', 'ရက်မြောက်', '(', 'ရက်ထပ်နှစ်ဖြစ်လျှင်', '(', '၁၃၃', ')', 'ရက်မြောက်', ')', ')', 'နေ့ရက်', 'ဖြစ်သည်']\n",
            "['ယင်းတစ်နှစ်တာ', 'ကုန်ဆုံးရန်', 'ရက်ပေါင်း', '(', '၂၃၃', ')', 'ရက်', 'ကျန်သေးသည်']\n",
            "['ညောင်ကိုင်းရွာ', '(', 'အင်္ဂလိပ်', ':', 'Nyaungkaing', ')', 'သည်', 'ပဲခူးတိုင်းဒေသကြီး', '(', 'အရှေ့', ')', '၊', 'ပဲခူးခရိုင်၊', 'ဝေါမြို့နယ်၊', 'ညောင်ကိုင်းကျေးရွာအုပ်စု၌', 'တည်ရှိသည်']\n",
            "['၂၀၁၄', 'သန်းခေါင်စာရင်းအရ', 'ညောင်ကိုင်းကျေးရွာအုပ်စုတွင်', 'ကျား', '၁၅၁၉', 'ဦး၊', 'မ', '၁၆၁၃', 'ဦး၊', 'လူဦးရေ', 'စုစုပေါင်း', '၃၁၃၂', 'ဦးနေထိုင်သည်']\n",
            "['အခြေခံဂျီဩမေတြီတွင်', 'ဗဟုဂံ', '(', 'ˈpɒlɪɡɒn', ')', 'သည်', 'ပြင်ညီသဏ္ဌာန်တစ်ခု', 'ဖြစ်သည်']\n",
            "['ဗဟုဂံသည်', 'မျဉ်းဖြောင့်အပိုင်းများ၏', 'သတ်မှတ်ထားသည့်ချိတ်ဆက်မှုတို့ဖြင့်', 'ဖွဲ့စည်းထား၏']\n"
          ]
        }
      ]
    },
    {
      "cell_type": "markdown",
      "source": [
        "# **Spacy**"
      ],
      "metadata": {
        "id": "DW1BzyBU8vDM"
      }
    },
    {
      "cell_type": "code",
      "source": [
        "import spacy\n",
        "\n",
        "nlp = spacy.load(\"en_core_web_sm\")\n",
        "\n",
        "text = \"ဝီကီပီးဒီးယားသည် သုံးစွဲသူများက ပူးပေါင်း၍ ရေးသားတည်းဖြတ်သော စွယ်စုံကျမ်းဖြစ်ပါသည်။\"\n",
        "\n",
        "doc = nlp(text)\n",
        "\n",
        "tokens = [token.text for token in doc]\n",
        "\n",
        "print(tokens)"
      ],
      "metadata": {
        "colab": {
          "base_uri": "https://localhost:8080/"
        },
        "id": "xkewQ4nW8ucE",
        "outputId": "7ecf1a2c-9ead-4c69-88a9-e10604f24744"
      },
      "execution_count": 47,
      "outputs": [
        {
          "output_type": "stream",
          "name": "stdout",
          "text": [
            "['ဝီကီပီးဒီးယားသည်', 'သုံးစွဲသူများက', 'ပူးပေါင်း၍', 'ရေးသားတည်းဖြတ်သော', 'စွယ်စုံကျမ်းဖြစ်ပါသည်။']\n"
          ]
        }
      ]
    },
    {
      "cell_type": "code",
      "source": [
        "for text in sim_train:\n",
        "  doc = nlp(text)\n",
        "\n",
        "  tokens = [token.text for token in doc]\n",
        "  lengths = len(tokens)\n",
        "  print(tokens)"
      ],
      "metadata": {
        "colab": {
          "base_uri": "https://localhost:8080/"
        },
        "id": "LabqjuVs-Dx0",
        "outputId": "2a53d271-1cb5-4194-b115-0ef613eaf852"
      },
      "execution_count": 48,
      "outputs": [
        {
          "output_type": "stream",
          "name": "stdout",
          "text": [
            "['ထန်းကုန်းရွာ', '(', 'အင်္ဂလိပ်', ':', 'Htankone)သည်', 'ပဲခူးတိုင်းဒေသကြီး', '(', 'အနောက်)၊', 'ပြည်ခရိုင်၊', 'ပေါင်းတည်မြို့နယ်၊', 'ကြာနီကန်ကျေးရွာအုပ်စု၌', 'တည်ရှိသည်']\n",
            "['၂၀၁၄', 'သန်းခေါင်စာရင်းအရ', 'ကြာနီကန်ကျေးရွာအုပ်စုတွင်', 'ကျား', '၁၈၉၈', 'ဦး၊', 'မ', '၂၀၃၁', 'ဦး၊', 'လူဦးရေ', 'စုစုပေါင်း', '၃၉၂၉', 'ဦးနေထိုင်သည်']\n",
            "['အရှင်ဥဒေနထေရ်', '   ', 'သည်', ' ', 'မြတ်စွာဘုရား၏', 'သာသနာတော်ရှိ', 'ရဟန်းတစ်ပါး', 'ဖြစ်သည်']\n",
            "['နောက်ဆုံးဘဝတွင်', 'ဂေါတမမြတ်စွာဘုရား၏', 'သာသနာတော်တွင်', 'အရှင်ဥဒေနထေရ်', ' ', 'အဖြစ်ဖြင့်', 'အာသဝေါကုန်ခမ်း', 'ရဟန္တာ', 'ဖြစ်တော်မူ၏']\n",
            "['မေလ၊', '(', '၁၂)ရက်နေ့', 'သည်', 'ဂရီဂေါရီးယန်းပြက္ခဒိန်အရ', 'တစ်နှစ်တာ၏', '(', '၁၃၂)ရက်မြောက်', '(', 'ရက်ထပ်နှစ်ဖြစ်လျှင်', '(', '၁၃၃)ရက်မြောက်', ')', ')', 'နေ့ရက်', 'ဖြစ်သည်']\n",
            "['ယင်းတစ်နှစ်တာ', 'ကုန်ဆုံးရန်', 'ရက်ပေါင်း', '(', '၂၃၃', ')', 'ရက်', 'ကျန်သေးသည်']\n",
            "['ညောင်ကိုင်းရွာ', '(', 'အင်္ဂလိပ်', ':', 'Nyaungkaing)သည်', 'ပဲခူးတိုင်းဒေသကြီး', '(', 'အရှေ့)၊', 'ပဲခူးခရိုင်၊', 'ဝေါမြို့နယ်၊', 'ညောင်ကိုင်းကျေးရွာအုပ်စု၌', 'တည်ရှိသည်']\n",
            "['၂၀၁၄', 'သန်းခေါင်စာရင်းအရ', 'ညောင်ကိုင်းကျေးရွာအုပ်စုတွင်', 'ကျား', '၁၅၁၉', 'ဦး၊', 'မ', '၁၆၁၃', 'ဦး၊', 'လူဦးရေ', 'စုစုပေါင်း', '၃၁၃၂', 'ဦးနေထိုင်သည်']\n",
            "['အခြေခံဂျီဩမေတြီတွင်', 'ဗဟုဂံ', '(', 'ˈpɒlɪɡɒn', ')', 'သည်', 'ပြင်ညီသဏ္ဌာန်တစ်ခု', 'ဖြစ်သည်']\n",
            "['ဗဟုဂံသည်', 'မျဉ်းဖြောင့်အပိုင်းများ၏', 'သတ်မှတ်ထားသည့်ချိတ်ဆက်မှုတို့ဖြင့်', 'ဖွဲ့စည်းထား၏']\n"
          ]
        }
      ]
    },
    {
      "cell_type": "markdown",
      "source": [
        "# **Simbolo**"
      ],
      "metadata": {
        "id": "DoRcRVZF-oMc"
      }
    },
    {
      "cell_type": "code",
      "source": [
        "!pip install simmpst==0.1.1"
      ],
      "metadata": {
        "colab": {
          "base_uri": "https://localhost:8080/"
        },
        "id": "RbT8BLwH-Du0",
        "outputId": "5136e383-1829-45dc-962a-af8ca42613c6"
      },
      "execution_count": 49,
      "outputs": [
        {
          "output_type": "stream",
          "name": "stdout",
          "text": [
            "Requirement already satisfied: simmpst==0.1.1 in /usr/local/lib/python3.10/dist-packages (0.1.1)\n",
            "Requirement already satisfied: tensorflow>=2.15.0 in /usr/local/lib/python3.10/dist-packages (from simmpst==0.1.1) (2.15.0)\n",
            "Requirement already satisfied: keras>=2.15.0 in /usr/local/lib/python3.10/dist-packages (from simmpst==0.1.1) (2.15.0)\n",
            "Requirement already satisfied: absl-py>=1.0.0 in /usr/local/lib/python3.10/dist-packages (from tensorflow>=2.15.0->simmpst==0.1.1) (1.4.0)\n",
            "Requirement already satisfied: astunparse>=1.6.0 in /usr/local/lib/python3.10/dist-packages (from tensorflow>=2.15.0->simmpst==0.1.1) (1.6.3)\n",
            "Requirement already satisfied: flatbuffers>=23.5.26 in /usr/local/lib/python3.10/dist-packages (from tensorflow>=2.15.0->simmpst==0.1.1) (23.5.26)\n",
            "Requirement already satisfied: gast!=0.5.0,!=0.5.1,!=0.5.2,>=0.2.1 in /usr/local/lib/python3.10/dist-packages (from tensorflow>=2.15.0->simmpst==0.1.1) (0.5.4)\n",
            "Requirement already satisfied: google-pasta>=0.1.1 in /usr/local/lib/python3.10/dist-packages (from tensorflow>=2.15.0->simmpst==0.1.1) (0.2.0)\n",
            "Requirement already satisfied: h5py>=2.9.0 in /usr/local/lib/python3.10/dist-packages (from tensorflow>=2.15.0->simmpst==0.1.1) (3.9.0)\n",
            "Requirement already satisfied: libclang>=13.0.0 in /usr/local/lib/python3.10/dist-packages (from tensorflow>=2.15.0->simmpst==0.1.1) (16.0.6)\n",
            "Requirement already satisfied: ml-dtypes~=0.2.0 in /usr/local/lib/python3.10/dist-packages (from tensorflow>=2.15.0->simmpst==0.1.1) (0.2.0)\n",
            "Requirement already satisfied: numpy<2.0.0,>=1.23.5 in /usr/local/lib/python3.10/dist-packages (from tensorflow>=2.15.0->simmpst==0.1.1) (1.25.2)\n",
            "Requirement already satisfied: opt-einsum>=2.3.2 in /usr/local/lib/python3.10/dist-packages (from tensorflow>=2.15.0->simmpst==0.1.1) (3.3.0)\n",
            "Requirement already satisfied: packaging in /usr/local/lib/python3.10/dist-packages (from tensorflow>=2.15.0->simmpst==0.1.1) (23.2)\n",
            "Requirement already satisfied: protobuf!=4.21.0,!=4.21.1,!=4.21.2,!=4.21.3,!=4.21.4,!=4.21.5,<5.0.0dev,>=3.20.3 in /usr/local/lib/python3.10/dist-packages (from tensorflow>=2.15.0->simmpst==0.1.1) (3.20.3)\n",
            "Requirement already satisfied: setuptools in /usr/local/lib/python3.10/dist-packages (from tensorflow>=2.15.0->simmpst==0.1.1) (67.7.2)\n",
            "Requirement already satisfied: six>=1.12.0 in /usr/local/lib/python3.10/dist-packages (from tensorflow>=2.15.0->simmpst==0.1.1) (1.16.0)\n",
            "Requirement already satisfied: termcolor>=1.1.0 in /usr/local/lib/python3.10/dist-packages (from tensorflow>=2.15.0->simmpst==0.1.1) (2.4.0)\n",
            "Requirement already satisfied: typing-extensions>=3.6.6 in /usr/local/lib/python3.10/dist-packages (from tensorflow>=2.15.0->simmpst==0.1.1) (4.10.0)\n",
            "Requirement already satisfied: wrapt<1.15,>=1.11.0 in /usr/local/lib/python3.10/dist-packages (from tensorflow>=2.15.0->simmpst==0.1.1) (1.14.1)\n",
            "Requirement already satisfied: tensorflow-io-gcs-filesystem>=0.23.1 in /usr/local/lib/python3.10/dist-packages (from tensorflow>=2.15.0->simmpst==0.1.1) (0.36.0)\n",
            "Requirement already satisfied: grpcio<2.0,>=1.24.3 in /usr/local/lib/python3.10/dist-packages (from tensorflow>=2.15.0->simmpst==0.1.1) (1.62.0)\n",
            "Requirement already satisfied: tensorboard<2.16,>=2.15 in /usr/local/lib/python3.10/dist-packages (from tensorflow>=2.15.0->simmpst==0.1.1) (2.15.2)\n",
            "Requirement already satisfied: tensorflow-estimator<2.16,>=2.15.0 in /usr/local/lib/python3.10/dist-packages (from tensorflow>=2.15.0->simmpst==0.1.1) (2.15.0)\n",
            "Requirement already satisfied: wheel<1.0,>=0.23.0 in /usr/local/lib/python3.10/dist-packages (from astunparse>=1.6.0->tensorflow>=2.15.0->simmpst==0.1.1) (0.42.0)\n",
            "Requirement already satisfied: google-auth<3,>=1.6.3 in /usr/local/lib/python3.10/dist-packages (from tensorboard<2.16,>=2.15->tensorflow>=2.15.0->simmpst==0.1.1) (2.27.0)\n",
            "Requirement already satisfied: google-auth-oauthlib<2,>=0.5 in /usr/local/lib/python3.10/dist-packages (from tensorboard<2.16,>=2.15->tensorflow>=2.15.0->simmpst==0.1.1) (1.2.0)\n",
            "Requirement already satisfied: markdown>=2.6.8 in /usr/local/lib/python3.10/dist-packages (from tensorboard<2.16,>=2.15->tensorflow>=2.15.0->simmpst==0.1.1) (3.5.2)\n",
            "Requirement already satisfied: requests<3,>=2.21.0 in /usr/local/lib/python3.10/dist-packages (from tensorboard<2.16,>=2.15->tensorflow>=2.15.0->simmpst==0.1.1) (2.31.0)\n",
            "Requirement already satisfied: tensorboard-data-server<0.8.0,>=0.7.0 in /usr/local/lib/python3.10/dist-packages (from tensorboard<2.16,>=2.15->tensorflow>=2.15.0->simmpst==0.1.1) (0.7.2)\n",
            "Requirement already satisfied: werkzeug>=1.0.1 in /usr/local/lib/python3.10/dist-packages (from tensorboard<2.16,>=2.15->tensorflow>=2.15.0->simmpst==0.1.1) (3.0.1)\n",
            "Requirement already satisfied: cachetools<6.0,>=2.0.0 in /usr/local/lib/python3.10/dist-packages (from google-auth<3,>=1.6.3->tensorboard<2.16,>=2.15->tensorflow>=2.15.0->simmpst==0.1.1) (5.3.3)\n",
            "Requirement already satisfied: pyasn1-modules>=0.2.1 in /usr/local/lib/python3.10/dist-packages (from google-auth<3,>=1.6.3->tensorboard<2.16,>=2.15->tensorflow>=2.15.0->simmpst==0.1.1) (0.3.0)\n",
            "Requirement already satisfied: rsa<5,>=3.1.4 in /usr/local/lib/python3.10/dist-packages (from google-auth<3,>=1.6.3->tensorboard<2.16,>=2.15->tensorflow>=2.15.0->simmpst==0.1.1) (4.9)\n",
            "Requirement already satisfied: requests-oauthlib>=0.7.0 in /usr/local/lib/python3.10/dist-packages (from google-auth-oauthlib<2,>=0.5->tensorboard<2.16,>=2.15->tensorflow>=2.15.0->simmpst==0.1.1) (1.3.1)\n",
            "Requirement already satisfied: charset-normalizer<4,>=2 in /usr/local/lib/python3.10/dist-packages (from requests<3,>=2.21.0->tensorboard<2.16,>=2.15->tensorflow>=2.15.0->simmpst==0.1.1) (3.3.2)\n",
            "Requirement already satisfied: idna<4,>=2.5 in /usr/local/lib/python3.10/dist-packages (from requests<3,>=2.21.0->tensorboard<2.16,>=2.15->tensorflow>=2.15.0->simmpst==0.1.1) (3.6)\n",
            "Requirement already satisfied: urllib3<3,>=1.21.1 in /usr/local/lib/python3.10/dist-packages (from requests<3,>=2.21.0->tensorboard<2.16,>=2.15->tensorflow>=2.15.0->simmpst==0.1.1) (2.0.7)\n",
            "Requirement already satisfied: certifi>=2017.4.17 in /usr/local/lib/python3.10/dist-packages (from requests<3,>=2.21.0->tensorboard<2.16,>=2.15->tensorflow>=2.15.0->simmpst==0.1.1) (2024.2.2)\n",
            "Requirement already satisfied: MarkupSafe>=2.1.1 in /usr/local/lib/python3.10/dist-packages (from werkzeug>=1.0.1->tensorboard<2.16,>=2.15->tensorflow>=2.15.0->simmpst==0.1.1) (2.1.5)\n",
            "Requirement already satisfied: pyasn1<0.6.0,>=0.4.6 in /usr/local/lib/python3.10/dist-packages (from pyasn1-modules>=0.2.1->google-auth<3,>=1.6.3->tensorboard<2.16,>=2.15->tensorflow>=2.15.0->simmpst==0.1.1) (0.5.1)\n",
            "Requirement already satisfied: oauthlib>=3.0.0 in /usr/local/lib/python3.10/dist-packages (from requests-oauthlib>=0.7.0->google-auth-oauthlib<2,>=0.5->tensorboard<2.16,>=2.15->tensorflow>=2.15.0->simmpst==0.1.1) (3.2.2)\n"
          ]
        }
      ]
    },
    {
      "cell_type": "code",
      "source": [
        "import simmpst\n",
        "from simmpst.tokenization import MultilingualPartialSyllableTokenization\n",
        "\n",
        "tokenizer = MultilingualPartialSyllableTokenization(vocab_size=500)\n",
        "\n",
        "sample_text = \"ဝီကီပီးဒီးယားသည် သုံးစွဲသူများက ပူးပေါင်း၍ ရေးသားတည်းဖြတ်သော စွယ်စုံကျမ်းဖြစ်ပါသည်။\"\n",
        "tokenize_text = tokenizer.tokenize_text(sample_text)\n",
        "\n",
        "print(tokenize_text)"
      ],
      "metadata": {
        "colab": {
          "base_uri": "https://localhost:8080/"
        },
        "id": "yKjjFxOb-Dr1",
        "outputId": "8876d3c2-9723-4a5a-aa32-bd82ce8ffc1d"
      },
      "execution_count": 50,
      "outputs": [
        {
          "output_type": "stream",
          "name": "stdout",
          "text": [
            "ဝီ ကီ ပီး ဒီး ယား သ ည်   သုံး စွဲ သူ များ က   ပူး ပေါ င်း ၍   ရေး သား တ ည်း ဖြ တ် သော   စွ ယ် စုံ ကျ မ်း ဖြ စ် ပါ သ ည် ။ \n"
          ]
        }
      ]
    },
    {
      "cell_type": "code",
      "source": [
        "for text in sim_train:\n",
        "  tokenize_text = tokenizer.tokenize_text(text)\n",
        "  lengths = len(tokenize_text)\n",
        "  print(tokenize_text)"
      ],
      "metadata": {
        "colab": {
          "base_uri": "https://localhost:8080/"
        },
        "id": "rrds2vLX-Dl9",
        "outputId": "9ca5584f-e381-45a4-8f6b-42864665b52c"
      },
      "execution_count": 51,
      "outputs": [
        {
          "output_type": "stream",
          "name": "stdout",
          "text": [
            "ထ န်း ကု န်း ရွာ   ( အ င်္ ဂ လိ ပ် :   Htankone ) သ ည်   ပဲ ခူး တို င်း ဒေ သ ကြီး   ( အ နော က် ) ၊   ပြ ည် ခ ရို င် ၊   ပေါ င်း တ ည် မြို့ န ယ် ၊   ကြာ နီ က န် ကျေး ရွာ အု ပ် စု ၌   တ ည် ရှိ သ ည် \n",
            "၂ ၀ ၁ ၄   သ န်း ခေါ င် စာ ရ င်း အ ရ   ကြာ နီ က န် ကျေး ရွာ အု ပ် စု တွ င်   ကျား   ၁ ၈ ၉ ၈   ဦး ၊   မ   ၂ ၀ ၃ ၁   ဦး ၊   လူ ဦး ရေ   စု စု ပေါ င်း   ၃ ၉ ၂ ၉   ဦး နေ ထို င် သ ည် \n",
            "အ ရှ င် ဥ ဒေ န ထေ ရ်         သ ည်     မြ တ် စွာ ဘု ရား ၏   သာ သ နာ တော် ရှိ   ရ ဟ န်း တ စ် ပါး   ဖြ စ် သ ည် \n",
            "နော က် ဆုံး ဘ ဝ တွ င်   ဂေါ တ မ မြ တ် စွာ ဘု ရား ၏   သာ သ နာ တော် တွ င်   အ ရှ င် ဥ ဒေ န ထေ ရ်     အ ဖြ စ် ဖြ င့်   အာ သ ဝေါ ကု န် ခ မ်း   ရ ဟ န္ တာ   ဖြ စ် တော် မူ ၏ \n",
            "မေ လ ၊   ( ၁ ၂ ) ရ က် နေ့   သ ည်   ဂ ရီ ဂေါ ရီး ယ န်း ပြ က္ ခ ဒိ န် အ ရ   တ စ် နှ စ် တာ ၏   ( ၁ ၃ ၂ ) ရ က် မြော က်   ( ရ က် ထ ပ် နှ စ် ဖြ စ် လျှ င်   ( ၁ ၃ ၃ ) ရ က် မြော က် ) )   နေ့ ရ က်   ဖြ စ် သ ည် \n",
            "ယ င်း တ စ် နှ စ် တာ   ကု န် ဆုံး ရ န်   ရ က် ပေါ င်း   ( ၂ ၃ ၃ )   ရ က်   ကျ န် သေး သ ည် \n",
            "ညော င် ကို င်း ရွာ   ( အ င်္ ဂ လိ ပ် :   Nyaungkaing ) သ ည်   ပဲ ခူး တို င်း ဒေ သ ကြီး   ( အ ရှေ့ ) ၊   ပဲ ခူး ခ ရို င် ၊   ဝေါ မြို့ န ယ် ၊   ညော င် ကို င်း ကျေး ရွာ အု ပ် စု ၌   တ ည် ရှိ သ ည် \n",
            "၂ ၀ ၁ ၄   သ န်း ခေါ င် စာ ရ င်း အ ရ   ညော င် ကို င်း ကျေး ရွာ အု ပ် စု တွ င်   ကျား   ၁ ၅ ၁ ၉   ဦး ၊   မ   ၁ ၆ ၁ ၃   ဦး ၊   လူ ဦး ရေ   စု စု ပေါ င်း   ၃ ၁ ၃ ၂   ဦး နေ ထို င် သ ည် \n",
            "အ ခြေ ခံ ဂျီ ဩ မေ တြီ တွ င်   ဗ ဟု ဂံ   ( ˈ p ɒ l ɪ ɡ ɒ n )   သ ည်   ပြ င် ညီ သ ဏ္ ဌာ န် တ စ် ခု   ဖြ စ် သ ည် \n",
            "ဗ ဟု ဂံ သ ည်   မျ ဉ်း ဖြော င့် အ ပို င်း များ ၏   သ တ် မှ တ် ထား သ ည့် ချိ တ် ဆ က် မှု တို့ ဖြ င့်   ဖွဲ့ စ ည်း ထား ၏ \n"
          ]
        }
      ]
    },
    {
      "cell_type": "code",
      "source": [],
      "metadata": {
        "id": "eVxiizJU5lh1"
      },
      "execution_count": null,
      "outputs": []
    },
    {
      "cell_type": "code",
      "source": [],
      "metadata": {
        "id": "i27f0muU5lYV"
      },
      "execution_count": null,
      "outputs": []
    }
  ]
}